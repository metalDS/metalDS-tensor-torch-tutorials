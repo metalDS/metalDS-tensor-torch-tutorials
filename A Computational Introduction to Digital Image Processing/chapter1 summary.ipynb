{
 "cells": [
  {
   "cell_type": "markdown",
   "metadata": {},
   "source": [
    "## Nyquist Critereon\n",
    "the **Nyquist Criterion**, stated as the *Sampling Theorem*, states that a continuous function can be reconstructef rom its samples provided that the sampling frequency is at least twice the maximum frequency in the function.\n",
    "\n",
    "![image](.\\figures\\figure-1-8.png)"
   ]
  },
  {
   "cell_type": "markdown",
   "metadata": {},
   "source": [
    "## Images and Digital Images\n",
    "consider a monochromatic photo. the photo can be considered a 2D function, where the function values give the brightness of the image at any point: 0.0 (black) - 1.0 (white). \n",
    "\n",
    "$f(x, y)=R$\n",
    "\n",
    "* a **digital image** is an image where all the $x, y, f(x, y)$ values are **discrete**.\n",
    "    * usually they take on integer values, for example from 1 (black) to 256 (white)\n",
    "* a digital image can be considered an array of sampled points from the **continuous image**\n",
    "    * these points are **picture elements** or **pixels**\n",
    "* the pixels surrounding a given pixel constitutes its **neighborhood**\n",
    "    * a neighborhood (in the context of processing) usually have odd dimensions\n",
    "\n",
    "![image](./figures/figure-1-15.png)\n"
   ]
  },
  {
   "cell_type": "markdown",
   "metadata": {},
   "source": [
    "## Image processing operations\n",
    "* **Image Enhancement** processing an image to be more suitable for a particular application\n",
    "    * Sharpenign or Deblurring an out of focus image\n",
    "    * Highlighting edges\n",
    "    * Improving image contrast, or brightening an image\n",
    "    * removing noise\n",
    "* **Image Restoration** - reversing damage done to an image by a known cause\n",
    "    * removing blur caused by linear motion\n",
    "    * removal of optical distortion\n",
    "    * removing noise\n",
    "* **Image Segmentation** - subdividing an image into constituent parts, or isolating certain aspects of an image\n",
    "    * finding lines, circles, or particular shapes in an image\n",
    "    * identifying objects\n",
    "* **Image Registration** matching distinct images so that they amy be compared or processed together\n",
    "* these classes are not disjoint, they share many algorithms"
   ]
  },
  {
   "cell_type": "markdown",
   "metadata": {},
   "source": [
    "## Types of Digital images\n",
    "* **Binary Image** each pixel is black or white\n",
    "* **Grayscale** - each pixel is a shade of gray\n",
    "* **True color, or RGB** - each pixel in an image is described by the amount of *red, green, and blue* in it. each component (usually) has a range of *0-255*, thus there are $255^3=16,777,126$ different possible images.\n",
    "    * can be consisdered a stack of three matrices (or grayscale images) representing the red, green, and blue values in each matrix\n",
    "* **Indexed** - most color images only have a small subset of images. for convenience of storage and file handling, the image has an associated **color map** or **color palette**, which is simply a list of all colors used in that image\n",
    "    * each pixel's value is an index to that list"
   ]
  },
  {
   "cell_type": "markdown",
   "metadata": {},
   "source": [
    "NOTE: the python part of this book uses SKIMAGE"
   ]
  },
  {
   "cell_type": "markdown",
   "metadata": {},
   "source": []
  }
 ],
 "metadata": {
  "language_info": {
   "name": "python"
  },
  "orig_nbformat": 4
 },
 "nbformat": 4,
 "nbformat_minor": 2
}
