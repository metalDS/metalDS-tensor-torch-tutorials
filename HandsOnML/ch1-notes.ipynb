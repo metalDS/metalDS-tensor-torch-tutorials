{
 "cells": [
  {
   "cell_type": "markdown",
   "id": "a06becfc-b80e-412e-87ad-e412fd8e3322",
   "metadata": {},
   "source": [
    "# The Machine Learning Landscape\n",
    "\n",
    "## what is machine leanring?\n",
    "\n",
    "Machine Learning is the science (and art) of programming computer so that they can _learn from data_\n",
    "\n",
    "here is a more general definition:\n",
    "\n",
    "`[Machine Learning is the] field of study that gives computers the ability to learn without being explicitly programmed.`\n",
    "\n",
    "and a more engineering-oriented one:\n",
    "\n",
    "`A computer program is said to learn from experience E with respect to some task T and some perfromance measure P, if its performance on T, as mesured by P, improves with experience E`\n",
    "\n",
    "## Why use Machine Learning?\n",
    "\n",
    "machine learning is best used to model tasks that would be nearly unmaintainable to program the logic for by hand (think of all the different formats spam can come in). A handcoded spam filter would contain a long list of complex rules. An ML approach automatically learns which phrases and words are good predictors.\n",
    "\n",
    "what if the rules change later down the line, you would have to potentially re-write large chungs of rules. However ML projects can be configured to automatically detect changes in the patterns of a task and starts incorporating the new rules into its model\n",
    "\n",
    "Machine learning is also good for problems that are too complex for traditional approaches, or which have no known algorithms. such as speech recognition\n",
    "\n",
    "### Machine Learning can help humans learn\n",
    "ML algorithms can be used to help humans learn as well. they may discover easily missed patterns in data. using ML algorithms to discover patterns in a large dataset is called **Data Mining**.\n",
    "\n",
    "## example of machine learning\n",
    "* image classification - recognizing objects in an image\n",
    "* Sematic segmentation - each pixel in the image is classified to determe the exact location of (possibly multiple) objects in data\n",
    "* Natural LAnguage Processing (NP)\n",
    "    * automatically classifying articles and text\n",
    "    * text summarization\n",
    "    * chatbot creation\n",
    "* prediction and regression\n",
    "* speech recognition - processing audio samples, which are potentially long and complex sequences of data\n",
    "* anomally detection\n",
    "    * detecting credit card fraud\n",
    "* clustering - grouping different entites (data, customers, etc) into groups\n",
    "* data visualization - represent complet, high-dimensional data in a clear and insightful diagram\n",
    "    * dimensionality reduction - reducing the number of attributes in a dataset (see curse of dimensionality)\n",
    "* reccomendation systems\n",
    "    * association mining\n",
    "* reinforcement learning\n",
    "    * building an intelligent robot for a game"
   ]
  },
  {
   "cell_type": "markdown",
   "id": "838d5439-517e-4984-b95b-7abe1a5ddeda",
   "metadata": {},
   "source": [
    "## Types of Machine Learning Systems\n",
    "\n",
    "ML systems are generally categorized based on: whether they are trained with human supervision, whether they can learn incrementally on the fly, whether they work by simply comparing new datapoints to known data points, or instead by detecting patterns in the training data and building a predictive model\n",
    "\n",
    "*   Supervised learning - the training set you feed into the model includes the desired solutions (the data is labeled). typical tasks include:\n",
    "    * classification\n",
    "    * regression\n",
    "    \n",
    "*   Unsupervised Learning - the training data is unlabeled. the system tries to infer patterns present in the data. typical unsupervised tasks include:\n",
    "    * Clustering\n",
    "    * Anomaly and novelty detection\n",
    "    * Visualization (outputing a 2D or 3D representation of complex, unlabeled, Data)\n",
    "    * Dimensionality Reduction\n",
    "    * Association Rule Learning\n",
    "    \n",
    "*   Semisupervised Learning - labeling data is usualyy time-consuming and costly. some algorithms can deal with partially labeled data. most semi-supervised learning algorithms are combinations of unsupervised and supervised algorithms. for example:\n",
    "    * deep belief networks (DBN) are based on unsupervised components canned restricted boltzmann machines stacked on top of each other. RMBs are intially trained in an unsupervised manor,a nd then fine-tuned with supervised learning techniques\n",
    "    \n",
    "*   Reinforcement Learning - very different from supervised/unsupervised. the learning system, also called an _agent_, can observe its _environment_ and select and perform actions. it gets _rewards_ or _penalties_ based on the results of those actions. Through this it learns the best strategy, called a _policy_, to get the most reqards over time\n",
    "\n",
    "ML systems can also be categroized based on **how** they learn\n",
    "*   Batch Learning - a system using batch learning is incapable of learning incrementally: \n",
    "    * it must be trained using all available data. a model is typically trained, and then it is launched into production and doesn't learn any more. this is called *offline learning* since it is typically done offline. \n",
    "    * if you want a batch learning system to know about new data, then you will need to train a new version of the system from scratch to replace the old one.\n",
    "*   *online learning* - you train the system incrementally by feeding it data instances sequentially: \n",
    "    * either individually, or in smalled groups called *mini-batches*. \n",
    "    * each learning step is fast and cheap, and the system can learn about new data on the fly. \n",
    "    * online learning algorithms can also be used to train systems on huge datasets that cannot be fit into one machine's main memory. \n",
    "    * *learning rate* which determines how fast a model should react to changing data; a high learning rate makes a model react to data faster, but it will tend to quicly forget the old data; a low learning rate makes a model learn more slowly, but will be less sensitive to noise or outliers"
   ]
  },
  {
   "cell_type": "code",
   "execution_count": null,
   "id": "f0c818a3-0fa2-4405-aca8-8995164be662",
   "metadata": {},
   "outputs": [],
   "source": []
  }
 ],
 "metadata": {
  "kernelspec": {
   "display_name": "Python 3",
   "language": "python",
   "name": "python3"
  },
  "language_info": {
   "codemirror_mode": {
    "name": "ipython",
    "version": 3
   },
   "file_extension": ".py",
   "mimetype": "text/x-python",
   "name": "python",
   "nbconvert_exporter": "python",
   "pygments_lexer": "ipython3",
   "version": "3.8.11"
  }
 },
 "nbformat": 4,
 "nbformat_minor": 5
}
