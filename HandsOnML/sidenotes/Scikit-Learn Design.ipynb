{
 "cells": [
  {
   "cell_type": "markdown",
   "metadata": {},
   "source": [
    "# Sciki-Learn Design\n",
    "page 64\n",
    "\n",
    "SciKit-Learns API is very well dsigned. there are three main design principles:\n",
    "1. **Consistence** - all objects share a consistent and simple interface\n",
    "    1. **Estimators**: any object that can estimate some parameters basedd on a dataset is called an **Estimator**. the estimation itself is performed by the *fit()* function. and it only takes a datset as a parameter. **any other parameter needed to guide the estimateion is considered a hyperparameter**, and must be set as an instance variable [generally via a constructor parameter]\n",
    "    2. **Transformers**: some estimators can also **transform a dataset**; these are called transformers. the actual transformation is performed by the *transform()* method with the **dataset being transformed passed as a parameter**. it returns the transformed dataset. all transformers have a convenience method called *fit_transform()* that is equivalent to fcalling *fit()* and *transform()*.\n",
    "    3. **Predictors**: some estimators are capable of **making preidctions**. the *predict()* method takes a dataset of new instances adn returns a dataset of corresponding predictions. It also has a score() method that measures the quality of predictions, given a test set.\n",
    "2. **Inspection**: all the estimator's hyper parameters are accessible directly via public instance variables. and all estimator's learned apramters re accessible via public variables with an underscore suffix.\n",
    "3. **Nonproliferation of classes**: Datasets are represented as **NumPy** arrays or **SciPy** Sparse matrices, instead of homemade classes. hyperparameters are just python strings or numbers\n",
    "4. **Composition**: existing buyilding blocks are reused as much as possible\n",
    "5. **Sensible Defaults**: SciKit-Learn provides reasonable default values for most parameters"
   ]
  },
  {
   "cell_type": "markdown",
   "metadata": {},
   "source": []
  }
 ],
 "metadata": {
  "language_info": {
   "name": "python"
  },
  "orig_nbformat": 4
 },
 "nbformat": 4,
 "nbformat_minor": 2
}
