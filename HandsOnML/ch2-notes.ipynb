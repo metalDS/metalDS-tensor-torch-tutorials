{
 "cells": [
  {
   "cell_type": "markdown",
   "id": "f7006c91-ad53-4a9e-a216-1b3a95da0822",
   "metadata": {},
   "source": [
    "# End to End Machine Learning Project\n",
    "this chapter has you work through an example project, end to end to get a taste of a ML workflow\n",
    "\n",
    "## Working with Real Data\n",
    "\n",
    "places to get real data:\n",
    "* popular open data repos:\n",
    "    * [UC irvine machine learning repository](https://archive.ics.uci.edu/ml/index.php)\n",
    "    * [Kaggle datasets](https://www.kaggle.com/datasets)\n",
    "    * [amazon AWS datasets](https://registry.opendata.aws/)\n",
    "* Meta portals (they list open data repos):\n",
    "    * Data Portals\n",
    "    * [OpenDataMonitor](https://opendatamonitor.eu/frontend/web/index.php?r=dashboard%2Findex)\n",
    "    * [Quandl](https://www.quandl.com/)\n",
    "* Other pages listing many popular open data repositories:\n",
    "    * [Wikipedia's list of machine learning datasets](https://en.wikipedia.org/wiki/List_of_datasets_for_machine-learning_research)\n",
    "    * Quora.com\n",
    "    * [the datasets subreddit](https://www.reddit.com/r/datasets/)"
   ]
  },
  {
   "cell_type": "markdown",
   "id": "8092d7b4-3d0a-4a99-941e-c525656b396d",
   "metadata": {},
   "source": [
    "this example problem uses housing data in california to model housing prices.\n",
    "\n",
    "## Framing the Problem\n",
    "Building a model is not the end goal, you need to ask what your goal is. How do you want to use an benefit from the model? This machine learning models output will be fed into another machine learning system with many other signals. This other system will determine whether it's worth it or not to invest in a given area or not.\n",
    "\n",
    "NOTE: a piece of information fed into a machine learning model is often calleda  **signal**\n",
    "\n",
    "\n",
    "**Pipelines**: 'A sequence of data processing components is caled a *data pipeline*. Each component in the pipeline can be preprocessing, an ML system, or some other data processing system. Components typically runs asynchronously; And each component typically pulls in a large amount of data, processes it, and spits out the results in another data store.'\n",
    "\n",
    "when designing your system first you need to frame your problem:\n",
    "* supervised, unsupervised, or reinforcement?\n",
    "* classification, regression, etc?\n",
    "* batch learning, online learning?\n",
    "\n",
    "the information you have so far: you are given *labeled* training examples, it is a typical regression task, more speficially, it is a *multiple regression problem* since it has multiple features to make predictions on. it is also a *univariate* problem since we are making a single prediction (market value). there is also no continuous dataflow into the sysetm, so there is no need to adjust for rapidly changing data, I.E. batch learning should do just fine\n",
    "\n",
    "NOTE: if we were trying to predict multiple values then it would be a *multi-variate* probem\n"
   ]
  },
  {
   "cell_type": "markdown",
   "id": "26df58d1-d07a-4f31-983e-c5c0f3d6f886",
   "metadata": {},
   "source": [
    "## Select a Performance Measure\n",
    "The next step is to select a performance measure; a typical measure for regression is the **Root Mean Square Error (RMSE)**, which gives an idea into how much error the system usually makes in it's predictions.\n",
    "\n",
    " $$ RMSE(X, h): \\sqrt{\\frac{1}{m} \\sum_{i=1}^{m} (h(x^{(i)}) - y^{(i)})^{2} }$$\n",
    " \n",
    " ### Notations\n",
    " this equation introduces many common machine learning notations that will be used throughout this book.\n",
    " * m is the number of instances in the dataset you are measuring RSME on\n",
    " * x^i is a vector of all the feature values (excluding the label) of the ith instance in the dataset, and y^ is it's label.\n",
    " * X (capital) is a matrix containing all the feature values. there is one instance per row, and the ith row is equal to the transpose of x^i\n",
    " * h is the prediction function, also called a *hypothesis* "
   ]
  },
  {
   "cell_type": "code",
   "execution_count": null,
   "id": "6720a718-989b-40ca-abf9-0cebc0b8dc72",
   "metadata": {},
   "outputs": [],
   "source": []
  }
 ],
 "metadata": {
  "kernelspec": {
   "display_name": "Python 3",
   "language": "python",
   "name": "python3"
  },
  "language_info": {
   "codemirror_mode": {
    "name": "ipython",
    "version": 3
   },
   "file_extension": ".py",
   "mimetype": "text/x-python",
   "name": "python",
   "nbconvert_exporter": "python",
   "pygments_lexer": "ipython3",
   "version": "3.8.11"
  }
 },
 "nbformat": 4,
 "nbformat_minor": 5
}
