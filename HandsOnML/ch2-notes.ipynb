{
 "cells": [
  {
   "cell_type": "markdown",
   "id": "f7006c91-ad53-4a9e-a216-1b3a95da0822",
   "metadata": {},
   "source": [
    "# End to End Machine Learning Project\n",
    "this chapter has you work through an example project, end to end to get a taste of a ML workflow\n",
    "\n",
    "## Working with Real Data\n",
    "\n",
    "places to get real data:\n",
    "* popular open data repos:\n",
    "    * [UC irvine machine learning repository](https://archive.ics.uci.edu/ml/index.php)\n",
    "    * [Kaggle datasets](https://www.kaggle.com/datasets)\n",
    "    * [amazon AWS datasets](https://registry.opendata.aws/)\n",
    "* Meta portals (they list open data repos):\n",
    "    * Data Portals\n",
    "    * [OpenDataMonitor](https://opendatamonitor.eu/frontend/web/index.php?r=dashboard%2Findex)\n",
    "    * [Quandl](https://www.quandl.com/)\n",
    "* Other pages listing many popular open data repositories:\n",
    "    * [Wikipedia's list of machine learning datasets](https://en.wikipedia.org/wiki/List_of_datasets_for_machine-learning_research)\n",
    "    * Quora.com\n",
    "    * [the datasets subreddit](https://www.reddit.com/r/datasets/)"
   ]
  },
  {
   "cell_type": "markdown",
   "id": "8092d7b4-3d0a-4a99-941e-c525656b396d",
   "metadata": {},
   "source": [
    "this example problem uses housing data in california to model housing prices.\n",
    "\n",
    "## Framing the Problem\n",
    "Building a model is not the end goal, you need to ask what your goal is. How do you want to use an benefit from the model? This machine learning models output will be fed into another machine learning system with many other signals. This other system will determine whether it's worth it or not to invest in a given area or not.\n",
    "\n",
    "NOTE: a piece of information fed into a machine learning model is often calleda  **signal**\n",
    "\n",
    "\n",
    "**Pipelines**: 'A sequence of data processing components is caled a *data pipeline*. Each component in the pipeline can be preprocessing, an ML system, or some other data processing system. Components typically runs asynchronously; And each component typically pulls in a large amount of data, processes it, and spits out the results in another data store.'\n",
    "\n",
    "when designing your system first you need to frame your problem:\n",
    "* supervised, unsupervised, or reinforcement?\n",
    "* classification, regression, etc?\n",
    "* batch learning, online learning?\n",
    "\n",
    "the information you have so far: you are given *labeled* training examples, it is a typical regression task, more speficially, it is a *multiple regression problem* since it has multiple features to make predictions on. it is also a *univariate* problem since we are making a single prediction (market value). there is also no continuous dataflow into the sysetm, so there is no need to adjust for rapidly changing data, I.E. batch learning should do just fine\n",
    "\n",
    "NOTE: if we were trying to predict multiple values then it would be a *multi-variate* probem\n"
   ]
  },
  {
   "cell_type": "markdown",
   "id": "26df58d1-d07a-4f31-983e-c5c0f3d6f886",
   "metadata": {},
   "source": [
    "## Select a Performance Measure\n",
    "The next step is to select a performance measure; a typical measure for regression is the **Root Mean Square Error (RMSE)**, which gives an idea into how much error the system usually makes in it's predictions.\n",
    "\n",
    "$$ RMSE(X, h): \\sqrt{\\frac{1}{m} \\sum_{i=1}^{m} (h(x^{(i)}) - y^{(i)})^{2} }$$\n",
    "\n",
    "### Notations\n",
    "this equation introduces many common machine learning notations that will be used throughout this book.\n",
    "* m is the number of instances in the dataset you are measuring RSME on\n",
    "* $x^{i}$ is a vector of all the feature values (excluding the label) of the ith instance in the dataset, and $y^{i}$ is it's label.\n",
    "* $X$ (capital) is a matrix containing all the feature values. there is one instance per row, and the ith row is equal to the transpose of $x^{i}$\n",
    "* h is the prediction function, also called a *hypothesis* . the out put of a hypothesis is a predicted label $\\hat{y}=h(x^{(i)})$\n",
    "* in general, a lowercase *italic* font is used for scalar values, such as $m$ or $y$, and function names, such as $h$. uppercase bold letters are used for matrices, such as $\\boldsymbol{X}$\n",
    " \n",
    "$RMSE(\\boldsymbol{X}, h)$ is the cost function measured on sets of examples using hypothesis $h$. RSME is generally the preferred method for regression tasks. However, in some contexts you may prefer to use the **Mean Absolute Error (MAE)** function. For example: when there are many outliers in the data.\n",
    "\n",
    "$$MAE(\\boldsymbol{X}, h) = \\frac{1}{m}\\sum^{m}_{i=1}\\mid h(x^{i})-y^{(i)} \\mid$$\n",
    "\n",
    "These two measures are two of many *norms* that are possible:\n",
    "* RSME corresponds to the *Euclidean norm* (2nd norm). this is the notion of distance you are familiar with. also called the $l_{2}$ norm, noted $\\|\\cdot\\|_{2}$ (or just $\\|\\cdot\\|$)\n",
    "* MAE corresponds to the *manhattan norm*, or the $l_{1}$ norm.\n",
    "* In general, the $l_{k}$ norm of a vector $\\boldsymbol{v}$, containing $n$ elements is defined as $\\|v\\|_{k}=(\\mid v_{0}\\mid ^{k} + \\mid v_{1}\\mid ^{k} + \\ldots + \\mid v_{n} \\mid ^{k})^{1/k}$\n",
    "* $l_{0}$ gives the number of nonzero elements in the vector, and $l_{\\inf}$ gives teh maximum absolute value in the vector.\n",
    "* the higher the norm index, the more it focuses on large values and neglects smaller ones."
   ]
  },
  {
   "cell_type": "markdown",
   "id": "d1c23659-b6dc-4c74-9bfa-7f9703f7b226",
   "metadata": {},
   "source": [
    "## Check the assumptions\n",
    "it is a good practice to verify all assumptions that have been made early on; this can help you catch series issues before they become a problem. what if the regressed values were to be converted into categories later in the pipeline? then the problem would have been better suited as a classificatio task.\n",
    "\n",
    "## Get the Data\n",
    "the next step is to start collecting the data. this can be a dirty process. However, you should make sure to not suffer any sampling bias when doing so. Missing data values are a fixable issue, non-representative data is less so.\n",
    "\n",
    "in a typical environment, your data (if already collected) would be in a relational database (or some other common data store). This project uses a simple compressed file, containiing a CSV file called housing.csv\n",
    "\n",
    "## create the workspace\n",
    "(in python and similar languages atleast) it is a good practice to setup a workspace directory for each specific project. This is to avoid naming conflicts between dependant libraries across projects. I personally use Anaconda. An alternative option is to use virtualenv to create the different environments."
   ]
  },
  {
   "cell_type": "markdown",
   "id": "47129b19-3d8b-4f29-abdd-c7b3cdca95c5",
   "metadata": {},
   "source": [
    "## Downloading the Data\n",
    "you should try to automate your tasks when possible. it's possible to download this via a web-browser. but defining a function to download large quantities of data can be more efficient"
   ]
  },
  {
   "cell_type": "code",
   "execution_count": 1,
   "id": "60775d52-58fe-44c4-9065-99c1196db2ed",
   "metadata": {},
   "outputs": [],
   "source": [
    "#in a real project you should save this in it's own python file, but oh well\n",
    "import os\n",
    "import tarfile\n",
    "import urllib"
   ]
  },
  {
   "cell_type": "code",
   "execution_count": 2,
   "id": "f8e201a7-13f8-46c2-92f3-be74800bedb7",
   "metadata": {},
   "outputs": [],
   "source": [
    "#location of the datasets folder\n",
    "DOWNLOAD_ROOT = \"https://raw.githubusercontent.com/ageron/handson-ml2/master/\"\n",
    "HOUSING_PATH = os.path.join(\"datasets\", \"housing\")\n",
    "#combined url plus filename\n",
    "HOUSING_URL = DOWNLOAD_ROOT + \"datasets/housing/housing.tgz\""
   ]
  },
  {
   "cell_type": "code",
   "execution_count": 7,
   "id": "f62d7bbd-d549-4402-a8a9-85cac5dbd798",
   "metadata": {},
   "outputs": [],
   "source": [
    "def fetch_housing_data(housingUrl = HOUSING_URL, housingPath = HOUSING_PATH, fileName = \"housing.tgz\"):\n",
    "    #make the folder for our (future) datasets\n",
    "    os.makedirs(housingPath, exist_ok = True)\n",
    "    tgzPath = os.path.join(housingPath, fileName)\n",
    "    \n",
    "    urllib.request.urlretrieve(housingUrl, tgzPath)\n",
    "    \n",
    "    housingTgz = tarfile.open(tgzPath)\n",
    "    housingTgz.extractall(path = housingPath)\n",
    "    housingTgz.close()"
   ]
  },
  {
   "cell_type": "code",
   "execution_count": 8,
   "id": "04267a6b-99ec-49f3-92ee-3855b35fdfb1",
   "metadata": {},
   "outputs": [],
   "source": [
    "fetch_housing_data()"
   ]
  },
  {
   "cell_type": "code",
   "execution_count": 9,
   "id": "d2f29e3f-766e-4c8a-9f40-fa30d43bd7fc",
   "metadata": {},
   "outputs": [],
   "source": [
    "#similarly, you should automate the loading process\n",
    "import pandas as pd"
   ]
  },
  {
   "cell_type": "code",
   "execution_count": 16,
   "id": "cc9e49b5-50d9-49b2-855c-1e9b54c1f971",
   "metadata": {},
   "outputs": [],
   "source": [
    "def load_housing_data(housingPath = HOUSING_PATH, fileName = \"housing.csv\"):\n",
    "    csvPath = os.path.join(housingPath, fileName)\n",
    "    #TODO read up on encodings\n",
    "    return pd.read_csv(csvPath, encoding='latin1')"
   ]
  },
  {
   "cell_type": "code",
   "execution_count": 17,
   "id": "e229ace9-92cd-4931-b660-e03c68e9bc51",
   "metadata": {},
   "outputs": [],
   "source": [
    "housing = load_housing_data()"
   ]
  },
  {
   "cell_type": "markdown",
   "id": "e6419b9d-5c06-45f6-8b30-f096303439d2",
   "metadata": {},
   "source": [
    "### A Quick Look at the Data\n",
    "this dataset has ten atributes to use. that's ten possible dimensions along which the model (that you choose) can predict data with."
   ]
  },
  {
   "cell_type": "code",
   "execution_count": 18,
   "id": "3f2809d2-193e-463f-84b1-335abdac438f",
   "metadata": {},
   "outputs": [
    {
     "data": {
      "text/html": [
       "<div>\n",
       "<style scoped>\n",
       "    .dataframe tbody tr th:only-of-type {\n",
       "        vertical-align: middle;\n",
       "    }\n",
       "\n",
       "    .dataframe tbody tr th {\n",
       "        vertical-align: top;\n",
       "    }\n",
       "\n",
       "    .dataframe thead th {\n",
       "        text-align: right;\n",
       "    }\n",
       "</style>\n",
       "<table border=\"1\" class=\"dataframe\">\n",
       "  <thead>\n",
       "    <tr style=\"text-align: right;\">\n",
       "      <th></th>\n",
       "      <th>longitude</th>\n",
       "      <th>latitude</th>\n",
       "      <th>housing_median_age</th>\n",
       "      <th>total_rooms</th>\n",
       "      <th>total_bedrooms</th>\n",
       "      <th>population</th>\n",
       "      <th>households</th>\n",
       "      <th>median_income</th>\n",
       "      <th>median_house_value</th>\n",
       "      <th>ocean_proximity</th>\n",
       "    </tr>\n",
       "  </thead>\n",
       "  <tbody>\n",
       "    <tr>\n",
       "      <th>0</th>\n",
       "      <td>-122.23</td>\n",
       "      <td>37.88</td>\n",
       "      <td>41.0</td>\n",
       "      <td>880.0</td>\n",
       "      <td>129.0</td>\n",
       "      <td>322.0</td>\n",
       "      <td>126.0</td>\n",
       "      <td>8.3252</td>\n",
       "      <td>452600.0</td>\n",
       "      <td>NEAR BAY</td>\n",
       "    </tr>\n",
       "    <tr>\n",
       "      <th>1</th>\n",
       "      <td>-122.22</td>\n",
       "      <td>37.86</td>\n",
       "      <td>21.0</td>\n",
       "      <td>7099.0</td>\n",
       "      <td>1106.0</td>\n",
       "      <td>2401.0</td>\n",
       "      <td>1138.0</td>\n",
       "      <td>8.3014</td>\n",
       "      <td>358500.0</td>\n",
       "      <td>NEAR BAY</td>\n",
       "    </tr>\n",
       "    <tr>\n",
       "      <th>2</th>\n",
       "      <td>-122.24</td>\n",
       "      <td>37.85</td>\n",
       "      <td>52.0</td>\n",
       "      <td>1467.0</td>\n",
       "      <td>190.0</td>\n",
       "      <td>496.0</td>\n",
       "      <td>177.0</td>\n",
       "      <td>7.2574</td>\n",
       "      <td>352100.0</td>\n",
       "      <td>NEAR BAY</td>\n",
       "    </tr>\n",
       "    <tr>\n",
       "      <th>3</th>\n",
       "      <td>-122.25</td>\n",
       "      <td>37.85</td>\n",
       "      <td>52.0</td>\n",
       "      <td>1274.0</td>\n",
       "      <td>235.0</td>\n",
       "      <td>558.0</td>\n",
       "      <td>219.0</td>\n",
       "      <td>5.6431</td>\n",
       "      <td>341300.0</td>\n",
       "      <td>NEAR BAY</td>\n",
       "    </tr>\n",
       "    <tr>\n",
       "      <th>4</th>\n",
       "      <td>-122.25</td>\n",
       "      <td>37.85</td>\n",
       "      <td>52.0</td>\n",
       "      <td>1627.0</td>\n",
       "      <td>280.0</td>\n",
       "      <td>565.0</td>\n",
       "      <td>259.0</td>\n",
       "      <td>3.8462</td>\n",
       "      <td>342200.0</td>\n",
       "      <td>NEAR BAY</td>\n",
       "    </tr>\n",
       "  </tbody>\n",
       "</table>\n",
       "</div>"
      ],
      "text/plain": [
       "   longitude  latitude  housing_median_age  total_rooms  total_bedrooms  \\\n",
       "0    -122.23     37.88                41.0        880.0           129.0   \n",
       "1    -122.22     37.86                21.0       7099.0          1106.0   \n",
       "2    -122.24     37.85                52.0       1467.0           190.0   \n",
       "3    -122.25     37.85                52.0       1274.0           235.0   \n",
       "4    -122.25     37.85                52.0       1627.0           280.0   \n",
       "\n",
       "   population  households  median_income  median_house_value ocean_proximity  \n",
       "0       322.0       126.0         8.3252            452600.0        NEAR BAY  \n",
       "1      2401.0      1138.0         8.3014            358500.0        NEAR BAY  \n",
       "2       496.0       177.0         7.2574            352100.0        NEAR BAY  \n",
       "3       558.0       219.0         5.6431            341300.0        NEAR BAY  \n",
       "4       565.0       259.0         3.8462            342200.0        NEAR BAY  "
      ]
     },
     "execution_count": 18,
     "metadata": {},
     "output_type": "execute_result"
    }
   ],
   "source": [
    "housing.head()"
   ]
  },
  {
   "cell_type": "markdown",
   "id": "f8a5a6fe-e3a3-49b5-90e8-b8d4226e8c7a",
   "metadata": {},
   "source": [
    "info can be used to get a quick desciption of the data"
   ]
  }
 ],
 "metadata": {
  "kernelspec": {
   "display_name": "Python 3",
   "language": "python",
   "name": "python3"
  },
  "language_info": {
   "codemirror_mode": {
    "name": "ipython",
    "version": 3
   },
   "file_extension": ".py",
   "mimetype": "text/x-python",
   "name": "python",
   "nbconvert_exporter": "python",
   "pygments_lexer": "ipython3",
   "version": "3.8.11"
  }
 },
 "nbformat": 4,
 "nbformat_minor": 5
}
