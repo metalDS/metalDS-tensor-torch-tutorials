{
 "cells": [
  {
   "cell_type": "code",
   "execution_count": 1,
   "id": "1f327e3a",
   "metadata": {},
   "outputs": [],
   "source": [
    "import torch\n",
    "from torch import nn\n",
    "#wraps an iterable around a Dataset\n",
    "from torch.utils.data import DataLoader\n",
    "#a Dataset stores samples aand their corresponding labels\n",
    "from torchvision import datasets\n",
    "from torchvision.transforms import ToTensor, Lambda, Compose\n",
    "import matplotlib.pyplot as plt"
   ]
  },
  {
   "cell_type": "code",
   "execution_count": 2,
   "id": "b33c865b",
   "metadata": {},
   "outputs": [],
   "source": [
    "#this tutorial uses torchvision, a CV domain-specic package\n",
    "\n",
    "#the torchvision.datasets module contains Dataset objects for many real-world vision data such as CIFAR, and COCO. this tutorial uses FashionMNIST."
   ]
  },
  {
   "cell_type": "code",
   "execution_count": 3,
   "id": "c884fca3",
   "metadata": {},
   "outputs": [],
   "source": [
    "#download trainign data from open datsets\n",
    "training_data = datasets.FashionMNIST(root=\"data\", train=True, download=True, transform=ToTensor())\n",
    "\n",
    "#download test data from open datasets\n",
    "test_data = datasets.FashionMNIST(root=\"data\", train=False, download=True, transform=ToTensor())"
   ]
  },
  {
   "cell_type": "code",
   "execution_count": 4,
   "id": "9cd65a76",
   "metadata": {},
   "outputs": [
    {
     "name": "stdout",
     "output_type": "stream",
     "text": [
      "shape of X[N, C, H, W]: torch.Size([64, 1, 28, 28])\n",
      "shape of y:  torch.Size([64]) torch.int64\n"
     ]
    }
   ],
   "source": [
    "#dataloader supports functions such as automatic batching, smapling, shuffling, and multiprocess data loading. \n",
    "\n",
    "#here we defines a batch size of 64, i.e. each element in teh dataloader iterable will return a batch of 64 features and labels\n",
    "batch_size = 64\n",
    "\n",
    "#create data loader\n",
    "train_dataloader = DataLoader(training_data, batch_size = batch_size)\n",
    "test_dataloader = DataLoader(test_data, batch_size = batch_size)\n",
    "\n",
    "#N is number of sambles (batch size)\n",
    "#C is the channel dimension (greyscale only has 1 diemnsion)\n",
    "#H is the height of the image\n",
    "#W is the width of the image\n",
    "for X, y in test_dataloader:\n",
    "    print(\"shape of X[N, C, H, W]:\", X.shape)\n",
    "    print(\"shape of y: \", y.shape, y.dtype)\n",
    "    #show only one i guesss\n",
    "    break"
   ]
  },
  {
   "cell_type": "code",
   "execution_count": 5,
   "id": "fba8320c",
   "metadata": {},
   "outputs": [
    {
     "name": "stdout",
     "output_type": "stream",
     "text": [
      "using cuda device\n"
     ]
    }
   ],
   "source": [
    "#get cpu or gpu device for training\n",
    "#inline if?\n",
    "device = \"cuda\" if torch.cuda.is_available() else \"cpu\"\n",
    "print(f\"using {device} device\")"
   ]
  },
  {
   "cell_type": "code",
   "execution_count": 6,
   "id": "b55fe06e",
   "metadata": {},
   "outputs": [
    {
     "name": "stdout",
     "output_type": "stream",
     "text": [
      "NeuralNetwork(\n",
      "  (flatten): Flatten(start_dim=1, end_dim=-1)\n",
      "  (linear_relu_stack): Sequential(\n",
      "    (0): Linear(in_features=784, out_features=512, bias=True)\n",
      "    (1): ReLU()\n",
      "    (2): Linear(in_features=512, out_features=512, bias=True)\n",
      "    (3): ReLU()\n",
      "    (4): Linear(in_features=512, out_features=10, bias=True)\n",
      "    (5): ReLU()\n",
      "  )\n",
      ")\n"
     ]
    }
   ],
   "source": [
    "#define the model\n",
    "# 1. layers are specified in the __init__ function\n",
    "# 2. how data passes through the network is defined in the forward function\n",
    "class NeuralNetwork(nn.Module):\n",
    "    def __init__(self):\n",
    "        super(NeuralNetwork, self).__init__()\n",
    "        \n",
    "        #this model defines a three layer feed-forward neural network\n",
    "        #reshapes input into a one dimensional tensor\n",
    "        self.flatten = nn.Flatten()\n",
    "        self.linear_relu_stack = nn.Sequential(\n",
    "            #applies a linear transformation to the data\n",
    "            nn.Linear(28*28, 512),\n",
    "            #applies the Rectified Linear Unit function to the output to add non-linearity to the model\n",
    "            nn.ReLU(),\n",
    "            nn.Linear(512, 512),\n",
    "            nn.ReLU(),\n",
    "            nn.Linear(512, 10),\n",
    "            nn.ReLU()\n",
    "        )\n",
    "    \n",
    "    def forward(self, x):\n",
    "        x = self.flatten(x)\n",
    "        logits = self.linear_relu_stack(x)\n",
    "        return logits\n",
    "    \n",
    "model = NeuralNetwork().to(device)\n",
    "\n",
    "print(model)"
   ]
  },
  {
   "cell_type": "code",
   "execution_count": 7,
   "id": "64641239",
   "metadata": {},
   "outputs": [],
   "source": [
    "#defining the optimizer\n",
    "\n",
    "#we need a loss function and an optimizer to tune the model for FashionMNIST\n",
    "\n",
    "loss_fn = nn.CrossEntropyLoss()\n",
    "# lr, or learning rate, adjusts how big the changes to the parameters to the given model are (a bigger lr changes the parameters more)\n",
    "optimizer = torch.optim.SGD(model.parameters(), lr=1e-3)\n",
    "\n",
    "#in a single training loop, this model makes predictions of the training set (fed in batches), and backpropagates the prediction error to adjust the model's parameters\n",
    "def train(dataloader, model, loss_fn, optimizer):\n",
    "    size = len(dataloader.dataset)\n",
    "    #iterate over the dataloader\n",
    "    for batch, (X, y) in enumerate(dataloader):\n",
    "        X, y = X.to(device), y.to(device)\n",
    "        \n",
    "        #compute prediction error\n",
    "        pred = model(X)\n",
    "        #after the data is ran through the model, the output of the model is compared to the label and a loss is returned\n",
    "        loss = loss_fn(pred, y)\n",
    "        \n",
    "        #https://discuss.pytorch.org/t/what-step-backward-and-zero-grad-do/33301\n",
    "        #zero_grad clears any old gradients (which may automatically be adjusted) from the last step (otherwise the gradients would accumulate)\n",
    "        optimizer.zero_grad()\n",
    "        #computes the derivative of loss with respect to the parameters (or anythign requiring gradients) with backpropagation\n",
    "        loss.backward()\n",
    "        #causes the optimizer to take a step based on teh gradients of the parameters\n",
    "        optimizer.step()\n",
    "        \n",
    "        if batch % 100 == 0:\n",
    "            loss, current = loss.item(), batch * len(X)\n",
    "            print(f\"loss: {loss:>7f} [{current:>5d}/{size:>5d}]\")"
   ]
  },
  {
   "cell_type": "code",
   "execution_count": 8,
   "id": "fdd097b3",
   "metadata": {},
   "outputs": [],
   "source": [
    "#we can then check the models performance by checkign it against the test dataset\n",
    "def test(dataloader, model, loss_fn):\n",
    "    size = len(dataloader.dataset)\n",
    "    num_batches = len(dataloader)\n",
    "    model.eval()\n",
    "    test_loss, correct = 0, 0\n",
    "    with torch.no_grad():\n",
    "        for X, y in dataloader:\n",
    "            X, y = X.to(device), y.to(device)\n",
    "            pred = model(X)\n",
    "            test_loss += loss_fn(pred, y).item()\n",
    "            correct += (pred.argmax(1) == y).type(torch.float).sum().item()\n",
    "            \n",
    "    test_loss /= num_batches\n",
    "    correct /= size\n",
    "    print(f\"Test Error: \\n Accuracy: {(100*correct):>0.1f}%, Avg loss: {test_loss:>8f} \\n\")"
   ]
  },
  {
   "cell_type": "code",
   "execution_count": 9,
   "id": "2a357635",
   "metadata": {},
   "outputs": [
    {
     "name": "stdout",
     "output_type": "stream",
     "text": [
      "Epoch 1\n",
      "-------------------------------\n",
      "loss: 2.303354 [    0/60000]\n",
      "loss: 2.289200 [ 6400/60000]\n",
      "loss: 2.284564 [12800/60000]\n",
      "loss: 2.285887 [19200/60000]\n",
      "loss: 2.254572 [25600/60000]\n",
      "loss: 2.266069 [32000/60000]\n",
      "loss: 2.250010 [38400/60000]\n",
      "loss: 2.236146 [44800/60000]\n",
      "loss: 2.262497 [51200/60000]\n",
      "loss: 2.236424 [57600/60000]\n",
      "Test Error: \n",
      " Accuracy: 45.1%, Avg loss: 2.220217 \n",
      "\n",
      "Epoch 2\n",
      "-------------------------------\n",
      "loss: 2.236279 [    0/60000]\n",
      "loss: 2.214337 [ 6400/60000]\n",
      "loss: 2.200476 [12800/60000]\n",
      "loss: 2.218221 [19200/60000]\n",
      "loss: 2.127239 [25600/60000]\n",
      "loss: 2.174045 [32000/60000]\n",
      "loss: 2.146591 [38400/60000]\n",
      "loss: 2.116508 [44800/60000]\n",
      "loss: 2.186558 [51200/60000]\n",
      "loss: 2.142334 [57600/60000]\n",
      "Test Error: \n",
      " Accuracy: 44.7%, Avg loss: 2.101747 \n",
      "\n",
      "Epoch 3\n",
      "-------------------------------\n",
      "loss: 2.138338 [    0/60000]\n",
      "loss: 2.097630 [ 6400/60000]\n",
      "loss: 2.070342 [12800/60000]\n",
      "loss: 2.109786 [19200/60000]\n",
      "loss: 1.931500 [25600/60000]\n",
      "loss: 2.045770 [32000/60000]\n",
      "loss: 1.997767 [38400/60000]\n",
      "loss: 1.954916 [44800/60000]\n",
      "loss: 2.090911 [51200/60000]\n",
      "loss: 2.022125 [57600/60000]\n",
      "Test Error: \n",
      " Accuracy: 46.3%, Avg loss: 1.945367 \n",
      "\n",
      "Epoch 4\n",
      "-------------------------------\n",
      "loss: 2.018905 [    0/60000]\n",
      "loss: 1.952997 [ 6400/60000]\n",
      "loss: 1.913614 [12800/60000]\n",
      "loss: 1.969092 [19200/60000]\n",
      "loss: 1.707617 [25600/60000]\n",
      "loss: 1.910992 [32000/60000]\n",
      "loss: 1.809093 [38400/60000]\n",
      "loss: 1.777535 [44800/60000]\n",
      "loss: 1.951195 [51200/60000]\n",
      "loss: 1.828636 [57600/60000]\n",
      "Test Error: \n",
      " Accuracy: 47.7%, Avg loss: 1.763768 \n",
      "\n",
      "Epoch 5\n",
      "-------------------------------\n",
      "loss: 1.880553 [    0/60000]\n",
      "loss: 1.799691 [ 6400/60000]\n",
      "loss: 1.763198 [12800/60000]\n",
      "loss: 1.786054 [19200/60000]\n",
      "loss: 1.493138 [25600/60000]\n",
      "loss: 1.780555 [32000/60000]\n",
      "loss: 1.593090 [38400/60000]\n",
      "loss: 1.612118 [44800/60000]\n",
      "loss: 1.786468 [51200/60000]\n",
      "loss: 1.623884 [57600/60000]\n",
      "Test Error: \n",
      " Accuracy: 54.7%, Avg loss: 1.596075 \n",
      "\n",
      "Done!\n"
     ]
    }
   ],
   "source": [
    "#training over epochs\n",
    "#(hopefully) the loss will decrease and the accuracy will increase every Epoch\n",
    "\n",
    "epochs = 5\n",
    "for t in range(epochs):\n",
    "    print(f\"Epoch {t+1}\\n-------------------------------\")\n",
    "    train(train_dataloader, model, loss_fn, optimizer)\n",
    "    test(test_dataloader, model, loss_fn)\n",
    "    \n",
    "print(\"Done!\")"
   ]
  },
  {
   "cell_type": "code",
   "execution_count": 10,
   "id": "5ab50247",
   "metadata": {},
   "outputs": [
    {
     "name": "stdout",
     "output_type": "stream",
     "text": [
      "saved Pytorch model to 'quicstart model.pth'\n"
     ]
    }
   ],
   "source": [
    "#saving the model\n",
    "torch.save(model.state_dict(), \"quickstart model.pth\")\n",
    "print(\"saved Pytorch model to 'quicstart model.pth'\")"
   ]
  },
  {
   "cell_type": "code",
   "execution_count": 11,
   "id": "dc6c297b",
   "metadata": {},
   "outputs": [
    {
     "data": {
      "text/plain": [
       "<All keys matched successfully>"
      ]
     },
     "execution_count": 11,
     "metadata": {},
     "output_type": "execute_result"
    }
   ],
   "source": [
    "#loading models\n",
    "\n",
    "#recreate the model structure\n",
    "new_model = NeuralNetwork()\n",
    "#then load the state dictionary into it\n",
    "new_model.load_state_dict(torch.load(\"quickstart model.pth\"))"
   ]
  },
  {
   "cell_type": "code",
   "execution_count": 12,
   "id": "f6611dd4",
   "metadata": {},
   "outputs": [
    {
     "ename": "AttributeError",
     "evalue": "'int' object has no attribute 'to'",
     "output_type": "error",
     "traceback": [
      "\u001b[1;31m---------------------------------------------------------------------------\u001b[0m",
      "\u001b[1;31mAttributeError\u001b[0m                            Traceback (most recent call last)",
      "\u001b[1;32m<ipython-input-12-b70e40cd392c>\u001b[0m in \u001b[0;36m<module>\u001b[1;34m\u001b[0m\n\u001b[0;32m     17\u001b[0m \u001b[1;33m\u001b[0m\u001b[0m\n\u001b[0;32m     18\u001b[0m \u001b[0mx\u001b[0m\u001b[1;33m.\u001b[0m\u001b[0mto\u001b[0m\u001b[1;33m(\u001b[0m\u001b[0mdevice\u001b[0m\u001b[1;33m)\u001b[0m\u001b[1;33m\u001b[0m\u001b[1;33m\u001b[0m\u001b[0m\n\u001b[1;32m---> 19\u001b[1;33m \u001b[0my\u001b[0m\u001b[1;33m.\u001b[0m\u001b[0mto\u001b[0m\u001b[1;33m(\u001b[0m\u001b[0mdevice\u001b[0m\u001b[1;33m)\u001b[0m\u001b[1;33m\u001b[0m\u001b[1;33m\u001b[0m\u001b[0m\n\u001b[0m\u001b[0;32m     20\u001b[0m \u001b[1;33m\u001b[0m\u001b[0m\n\u001b[0;32m     21\u001b[0m \u001b[1;32mwith\u001b[0m \u001b[0mtorch\u001b[0m\u001b[1;33m.\u001b[0m\u001b[0mno_grad\u001b[0m\u001b[1;33m(\u001b[0m\u001b[1;33m)\u001b[0m\u001b[1;33m:\u001b[0m\u001b[1;33m\u001b[0m\u001b[1;33m\u001b[0m\u001b[0m\n",
      "\u001b[1;31mAttributeError\u001b[0m: 'int' object has no attribute 'to'"
     ]
    }
   ],
   "source": [
    "#now the model can be used to make predictions!\n",
    "classes = [\n",
    "    \"T-shirt/top\",\n",
    "    \"Trouser\",\n",
    "    \"Pullover\",\n",
    "    \"Dress\",\n",
    "    \"Coat\",\n",
    "    \"Sandal\",\n",
    "    \"Shirt\",\n",
    "    \"Sneaker\",\n",
    "    \"Bag\",\n",
    "    \"Ankle boot\",\n",
    "]\n",
    "\n",
    "model.eval()\n",
    "x, y = test_data[0][0], test_data[0][1]\n",
    "\n",
    "x.to(device)\n",
    "y.to(device)\n",
    "\n",
    "with torch.no_grad():\n",
    "    pred = model(x)\n",
    "    predicted, actual = classes[pred[0].argmax(0)], classes[y]\n",
    "    print(f'Predicted: \"{predicted}\", Actual: \"{actual}\"')"
   ]
  },
  {
   "cell_type": "code",
   "execution_count": 15,
   "id": "63169c40",
   "metadata": {},
   "outputs": [
    {
     "ename": "ValueError",
     "evalue": "only one element tensors can be converted to Python scalars",
     "output_type": "error",
     "traceback": [
      "\u001b[1;31m---------------------------------------------------------------------------\u001b[0m",
      "\u001b[1;31mValueError\u001b[0m                                Traceback (most recent call last)",
      "\u001b[1;32m<ipython-input-15-6fe3e65196c6>\u001b[0m in \u001b[0;36m<module>\u001b[1;34m\u001b[0m\n\u001b[1;32m----> 1\u001b[1;33m \u001b[0mprint\u001b[0m\u001b[1;33m(\u001b[0m\u001b[0mtest_data\u001b[0m\u001b[1;33m[\u001b[0m\u001b[1;33m:\u001b[0m\u001b[1;36m5\u001b[0m\u001b[1;33m]\u001b[0m\u001b[1;33m)\u001b[0m\u001b[1;33m\u001b[0m\u001b[1;33m\u001b[0m\u001b[0m\n\u001b[0m",
      "\u001b[1;32m~\\anaconda3\\envs\\pytorch-gpu\\lib\\site-packages\\torchvision\\datasets\\mnist.py\u001b[0m in \u001b[0;36m__getitem__\u001b[1;34m(self, index)\u001b[0m\n\u001b[0;32m    103\u001b[0m             \u001b[0mtuple\u001b[0m\u001b[1;33m:\u001b[0m \u001b[1;33m(\u001b[0m\u001b[0mimage\u001b[0m\u001b[1;33m,\u001b[0m \u001b[0mtarget\u001b[0m\u001b[1;33m)\u001b[0m \u001b[0mwhere\u001b[0m \u001b[0mtarget\u001b[0m \u001b[1;32mis\u001b[0m \u001b[0mindex\u001b[0m \u001b[0mof\u001b[0m \u001b[0mthe\u001b[0m \u001b[0mtarget\u001b[0m \u001b[1;32mclass\u001b[0m\u001b[1;33m.\u001b[0m\u001b[1;33m\u001b[0m\u001b[1;33m\u001b[0m\u001b[0m\n\u001b[0;32m    104\u001b[0m         \"\"\"\n\u001b[1;32m--> 105\u001b[1;33m         \u001b[0mimg\u001b[0m\u001b[1;33m,\u001b[0m \u001b[0mtarget\u001b[0m \u001b[1;33m=\u001b[0m \u001b[0mself\u001b[0m\u001b[1;33m.\u001b[0m\u001b[0mdata\u001b[0m\u001b[1;33m[\u001b[0m\u001b[0mindex\u001b[0m\u001b[1;33m]\u001b[0m\u001b[1;33m,\u001b[0m \u001b[0mint\u001b[0m\u001b[1;33m(\u001b[0m\u001b[0mself\u001b[0m\u001b[1;33m.\u001b[0m\u001b[0mtargets\u001b[0m\u001b[1;33m[\u001b[0m\u001b[0mindex\u001b[0m\u001b[1;33m]\u001b[0m\u001b[1;33m)\u001b[0m\u001b[1;33m\u001b[0m\u001b[1;33m\u001b[0m\u001b[0m\n\u001b[0m\u001b[0;32m    106\u001b[0m \u001b[1;33m\u001b[0m\u001b[0m\n\u001b[0;32m    107\u001b[0m         \u001b[1;31m# doing this so that it is consistent with all other datasets\u001b[0m\u001b[1;33m\u001b[0m\u001b[1;33m\u001b[0m\u001b[1;33m\u001b[0m\u001b[0m\n",
      "\u001b[1;31mValueError\u001b[0m: only one element tensors can be converted to Python scalars"
     ]
    }
   ],
   "source": [
    "print(test_data[:5])"
   ]
  },
  {
   "cell_type": "code",
   "execution_count": null,
   "id": "a34256a9",
   "metadata": {},
   "outputs": [],
   "source": []
  }
 ],
 "metadata": {
  "kernelspec": {
   "display_name": "Python 3",
   "language": "python",
   "name": "python3"
  },
  "language_info": {
   "codemirror_mode": {
    "name": "ipython",
    "version": 3
   },
   "file_extension": ".py",
   "mimetype": "text/x-python",
   "name": "python",
   "nbconvert_exporter": "python",
   "pygments_lexer": "ipython3",
   "version": "3.8.8"
  }
 },
 "nbformat": 4,
 "nbformat_minor": 5
}
