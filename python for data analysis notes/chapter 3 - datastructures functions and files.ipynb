{
 "cells": [
  {
   "cell_type": "markdown",
   "id": "reserved-nutrition",
   "metadata": {},
   "source": [
    "# Chapter 3 Built-in Data Structure, Function, and Files\n",
    "\n",
    "pandas and NumPy, while adding advanced functionality for larger datasets, are designed to be used together with Python's built-in data manipulation tools\n",
    "\n",
    "## Data Structures and Sequences\n",
    "\n",
    "### Tuple\n",
    "a **Tuple** is a fixed-length, immutable sequence of python objects."
   ]
  },
  {
   "cell_type": "code",
   "execution_count": 1,
   "id": "juvenile-turkey",
   "metadata": {},
   "outputs": [
    {
     "name": "stdout",
     "output_type": "stream",
     "text": [
      "(4, 5, 6, 'Why am I here?')\n"
     ]
    }
   ],
   "source": [
    "#simple tuple created from a sequence of values\n",
    "tup = 4, 5, 6, \"Why am I here?\"\n",
    "print(tup)"
   ]
  },
  {
   "cell_type": "code",
   "execution_count": 2,
   "id": "fundamental-artwork",
   "metadata": {},
   "outputs": [
    {
     "name": "stdout",
     "output_type": "stream",
     "text": [
      "((4, 5, 6), (7, 8))\n"
     ]
    }
   ],
   "source": [
    "#with more complicated expressions, it's good to enclose the values in parenthesis, \n",
    "# such as when creating a tuple of tuples\n",
    "nestedTup = (4, 5, 6), (7, 8)\n",
    "print(nestedTup)"
   ]
  },
  {
   "cell_type": "code",
   "execution_count": 3,
   "id": "developmental-joseph",
   "metadata": {},
   "outputs": [
    {
     "name": "stdout",
     "output_type": "stream",
     "text": [
      "('h', 'e', 'l', 'l', 'o', ' ', 'w', 'o', 'r', 'l', 'd', '!')\n"
     ]
    }
   ],
   "source": [
    "#you can convert any sequence or iterator to a tuple by invoking tuple\n",
    "helloTup = tuple(\"hello world!\")\n",
    "print(helloTup)"
   ]
  },
  {
   "cell_type": "code",
   "execution_count": 4,
   "id": "patent-wound",
   "metadata": {},
   "outputs": [
    {
     "data": {
      "text/plain": [
       "'o'"
      ]
     },
     "execution_count": 4,
     "metadata": {},
     "output_type": "execute_result"
    }
   ],
   "source": [
    "#elements are accessed with square brakets\n",
    "helloTup[7]"
   ]
  },
  {
   "cell_type": "code",
   "execution_count": 5,
   "id": "minus-panic",
   "metadata": {},
   "outputs": [
    {
     "name": "stdout",
     "output_type": "stream",
     "text": [
      "('foo', [1, 2, 3, 4], True)\n"
     ]
    }
   ],
   "source": [
    "#tuples are immutale, but the objects inside them arent\n",
    "myTup = ('foo', [1, 2, 3], True)\n",
    "myTup[1].append(4)\n",
    "print(myTup)"
   ]
  },
  {
   "cell_type": "code",
   "execution_count": 6,
   "id": "instructional-thanks",
   "metadata": {},
   "outputs": [
    {
     "data": {
      "text/plain": [
       "('h',\n",
       " 'e',\n",
       " 'l',\n",
       " 'l',\n",
       " 'o',\n",
       " ' ',\n",
       " 'w',\n",
       " 'o',\n",
       " 'r',\n",
       " 'l',\n",
       " 'd',\n",
       " '!',\n",
       " 'foo',\n",
       " [1, 2, 3, 4],\n",
       " True)"
      ]
     },
     "execution_count": 6,
     "metadata": {},
     "output_type": "execute_result"
    }
   ],
   "source": [
    "#you can even add tuples (you can add most things, actually)\n",
    "helloTup + myTup"
   ]
  },
  {
   "cell_type": "code",
   "execution_count": 7,
   "id": "advisory-hardware",
   "metadata": {},
   "outputs": [
    {
     "data": {
      "text/plain": [
       "('foo',\n",
       " [1, 2, 3, 4],\n",
       " True,\n",
       " 'foo',\n",
       " [1, 2, 3, 4],\n",
       " True,\n",
       " 'foo',\n",
       " [1, 2, 3, 4],\n",
       " True,\n",
       " 'foo',\n",
       " [1, 2, 3, 4],\n",
       " True)"
      ]
     },
     "execution_count": 7,
     "metadata": {},
     "output_type": "execute_result"
    }
   ],
   "source": [
    "myTup * 4"
   ]
  },
  {
   "cell_type": "markdown",
   "id": "ecological-kernel",
   "metadata": {},
   "source": [
    "#### Unpacking Tuples"
   ]
  },
  {
   "cell_type": "code",
   "execution_count": 8,
   "id": "primary-custody",
   "metadata": {},
   "outputs": [
    {
     "name": "stdout",
     "output_type": "stream",
     "text": [
      "4 5 6\n"
     ]
    }
   ],
   "source": [
    "#if you try to assign to a tuple like expression of variables, Python will attempt to unpack the value on the \n",
    "# righthandside of the equals sign\n",
    "tup = (4, 5, 6)\n",
    "a, b, c = tup\n",
    "print(a, b, c)"
   ]
  },
  {
   "cell_type": "code",
   "execution_count": 9,
   "id": "enhanced-university",
   "metadata": {},
   "outputs": [
    {
     "name": "stdout",
     "output_type": "stream",
     "text": [
      "before swap:  4 5\n",
      "after swap:  5 4\n"
     ]
    }
   ],
   "source": [
    "#this can be used to easily swap values\n",
    "print(\"before swap: \", a, b)\n",
    "a, b = b, a\n",
    "print(\"after swap: \", a, b)"
   ]
  },
  {
   "cell_type": "code",
   "execution_count": 10,
   "id": "exempt-acrylic",
   "metadata": {},
   "outputs": [
    {
     "name": "stdout",
     "output_type": "stream",
     "text": [
      "a and b:  1 2\n",
      "rest:  [3, 4, 5]\n"
     ]
    }
   ],
   "source": [
    "#the rest keyword can be used to capture unnessessary values from function or tuple returns\n",
    "#NOTE rest doesn't matter, in fact many programmers will use *_\n",
    "values = 1, 2, 3, 4, 5\n",
    "a, b, *rest = values\n",
    "print(\"a and b: \", a, b)\n",
    "print(\"rest: \", rest)"
   ]
  },
  {
   "cell_type": "markdown",
   "id": "celtic-integrity",
   "metadata": {},
   "source": [
    "## Lists\n",
    "lists are variable-length, mutable sequences. you can define them using square brackets or my using the *list* type function"
   ]
  },
  {
   "cell_type": "code",
   "execution_count": 11,
   "id": "prostate-carry",
   "metadata": {},
   "outputs": [
    {
     "name": "stdout",
     "output_type": "stream",
     "text": [
      "a_list:  [2, 3, 7, None]\n",
      "b_list:  ['foo', 'bar', 'bazz']\n",
      "b_list (modified):  ['foo', 'peekaboo', 'bazz']\n"
     ]
    }
   ],
   "source": [
    "a_list = [2, 3, 7, None]\n",
    "print(\"a_list: \", a_list)\n",
    "\n",
    "tup = ('foo', 'bar', 'bazz')\n",
    "b_list = list(tup)\n",
    "print(\"b_list: \", b_list)\n",
    "b_list[1] = \"peekaboo\"\n",
    "print(\"b_list (modified): \", b_list)"
   ]
  },
  {
   "cell_type": "markdown",
   "id": "outside-cover",
   "metadata": {},
   "source": [
    "the *list* function is often used in data processing as a way to **materialize an iterator or generator expression**"
   ]
  },
  {
   "cell_type": "code",
   "execution_count": 12,
   "id": "surface-loading",
   "metadata": {},
   "outputs": [
    {
     "name": "stdout",
     "output_type": "stream",
     "text": [
      "gen:  range(0, 10)\n",
      "[0, 1, 2, 3, 4, 5, 6, 7, 8, 9]\n"
     ]
    }
   ],
   "source": [
    "#range produces a generator object\n",
    "gen = range(10)\n",
    "print(\"gen: \", gen)\n",
    "\n",
    "print(list(gen))"
   ]
  },
  {
   "cell_type": "code",
   "execution_count": 13,
   "id": "polar-peace",
   "metadata": {},
   "outputs": [
    {
     "name": "stdout",
     "output_type": "stream",
     "text": [
      "['foo', 'peekaboo', 'bazz', 'dwarf']\n"
     ]
    }
   ],
   "source": [
    "#adding to end of element\n",
    "b_list.append('dwarf')\n",
    "print(b_list)"
   ]
  },
  {
   "cell_type": "code",
   "execution_count": 14,
   "id": "divided-session",
   "metadata": {},
   "outputs": [
    {
     "name": "stdout",
     "output_type": "stream",
     "text": [
      "['foo', 'red', 'peekaboo', 'bazz', 'dwarf']\n"
     ]
    }
   ],
   "source": [
    "#inserting into a list\n",
    "b_list.insert(1, 'red')\n",
    "print(b_list)"
   ]
  },
  {
   "cell_type": "code",
   "execution_count": 15,
   "id": "employed-level",
   "metadata": {},
   "outputs": [
    {
     "data": {
      "text/plain": [
       "'peekaboo'"
      ]
     },
     "execution_count": 15,
     "metadata": {},
     "output_type": "execute_result"
    }
   ],
   "source": [
    "#removing a particular element from an index\n",
    "b_list.pop(2)"
   ]
  },
  {
   "cell_type": "code",
   "execution_count": 16,
   "id": "interesting-example",
   "metadata": {},
   "outputs": [
    {
     "data": {
      "text/plain": [
       "'dwarf'"
      ]
     },
     "execution_count": 16,
     "metadata": {},
     "output_type": "execute_result"
    }
   ],
   "source": [
    "#pop removes the last element (like a stack datastructure) by default\n",
    "b_list.pop()"
   ]
  },
  {
   "cell_type": "code",
   "execution_count": 17,
   "id": "wrapped-niagara",
   "metadata": {},
   "outputs": [
    {
     "name": "stdout",
     "output_type": "stream",
     "text": [
      "['red', 'bazz']\n"
     ]
    }
   ],
   "source": [
    "#remove an element specified by value\n",
    "b_list.remove('foo')\n",
    "print(b_list)"
   ]
  },
  {
   "cell_type": "markdown",
   "id": "acquired-coverage",
   "metadata": {},
   "source": [
    "#### Concatenting and combining lists"
   ]
  },
  {
   "cell_type": "code",
   "execution_count": 18,
   "id": "conditional-communications",
   "metadata": {},
   "outputs": [
    {
     "name": "stdout",
     "output_type": "stream",
     "text": [
      "[4, None, 'foo', 7, 8, (2, 3)]\n",
      "['red', 'bazz', 3, 4, 5, 6, 'seven', 4, 5, 6]\n"
     ]
    }
   ],
   "source": [
    "#you can add to lists with the addition operator\n",
    "print([4, None, 'foo'] + [7, 8, (2, 3)])\n",
    "\n",
    "#if you have a list alreading decined then you can call the extend method\n",
    "#NOTE: extend is much more efficient since it does not create a new list object\n",
    "b_list.extend([3, 4, 5, 6, 'seven'])\n",
    "b_list.extend((4, 5, 6))\n",
    "print(b_list)"
   ]
  },
  {
   "cell_type": "markdown",
   "id": "atmospheric-threshold",
   "metadata": {},
   "source": [
    "#### sorting"
   ]
  },
  {
   "cell_type": "code",
   "execution_count": 19,
   "id": "published-taste",
   "metadata": {},
   "outputs": [
    {
     "name": "stdout",
     "output_type": "stream",
     "text": [
      "[7, 3, 9, 2, 81, 1, 1, 1, 9, 2, 3, 4, 5]\n",
      "[1, 1, 1, 2, 2, 3, 3, 4, 5, 7, 9, 9, 81]\n"
     ]
    }
   ],
   "source": [
    "#you can sort a list in-place by callint it's sort function\n",
    "sortedList = [7, 3, 9, 2, 81, 1, 1, 1, 9, 2, 3, 4, 5]\n",
    "print(sortedList)\n",
    "sortedList.sort()\n",
    "print(sortedList)"
   ]
  },
  {
   "cell_type": "code",
   "execution_count": 20,
   "id": "mathematical-interaction",
   "metadata": {},
   "outputs": [
    {
     "name": "stdout",
     "output_type": "stream",
     "text": [
      "sort by numerical (equivalent) value in default string sorting: ['foxes', 'he', 'saw', 'six', 'small']\n",
      "['he', 'saw', 'six', 'foxes', 'small']\n"
     ]
    }
   ],
   "source": [
    "#you can even pass in  a secondary sort key, which is a function that provides a value used to sort the objects\n",
    "b = ['saw', 'small', 'he', 'foxes', 'six']\n",
    "b.sort()\n",
    "print(\"sort by numerical (equivalent) value in default string sorting:\", b)\n",
    "\n",
    "#broke due to first sort...\n",
    "b.sort(key=len)\n",
    "print(b)"
   ]
  },
  {
   "cell_type": "markdown",
   "id": "injured-basket",
   "metadata": {},
   "source": [
    "#### Binary Search and Maintaining a Sorted List\n",
    "the *bisect* module implements binary search and insertion into a sorted list"
   ]
  },
  {
   "cell_type": "code",
   "execution_count": 21,
   "id": "recovered-builder",
   "metadata": {},
   "outputs": [
    {
     "data": {
      "text/plain": [
       "4"
      ]
     },
     "execution_count": 21,
     "metadata": {},
     "output_type": "execute_result"
    }
   ],
   "source": [
    "import bisect\n",
    "c = [1, 2, 2, 2, 3, 4, 7]\n",
    "\n",
    "#bisect.bisect finds the location where an element should be inserted to keep it sorted\n",
    "bisect.bisect(c, 2)"
   ]
  },
  {
   "cell_type": "code",
   "execution_count": 22,
   "id": "liked-broadcast",
   "metadata": {},
   "outputs": [
    {
     "name": "stdout",
     "output_type": "stream",
     "text": [
      "[1, 2, 2, 2, 3, 4, 6, 7]\n"
     ]
    }
   ],
   "source": [
    "#bisect.insort actually inserts the element into that location\n",
    "bisect.insort(c, 6)\n",
    "print(c)"
   ]
  },
  {
   "cell_type": "markdown",
   "id": "divine-occurrence",
   "metadata": {},
   "source": [
    "## Slicing (IMPORTANT)\n",
    "you can select selections of most sequences types by isng slice notation. slicing notation consists of\n",
    "\n",
    "**start:stop:step**\n",
    "\n",
    "NOTE: while python's selection notation is **Excluside** pandas is **Inclusive**"
   ]
  },
  {
   "cell_type": "code",
   "execution_count": 23,
   "id": "pretty-demographic",
   "metadata": {},
   "outputs": [
    {
     "name": "stdout",
     "output_type": "stream",
     "text": [
      "[2, 3, 7, 5]\n"
     ]
    }
   ],
   "source": [
    "seq = [7, 2, 3, 7, 5, 6, 0, 1]\n",
    "#note how the stop index is skipped\n",
    "print(seq[1:5])"
   ]
  },
  {
   "cell_type": "markdown",
   "id": "junior-action",
   "metadata": {},
   "source": [
    "both the **Start** and **Stop** can be ommited, in which cas they default to the start and end of the sequence, respectively"
   ]
  },
  {
   "cell_type": "code",
   "execution_count": 24,
   "id": "pharmaceutical-artwork",
   "metadata": {},
   "outputs": [
    {
     "name": "stdout",
     "output_type": "stream",
     "text": [
      "[7, 5, 6, 0, 1]\n",
      "[7, 2, 3]\n"
     ]
    }
   ],
   "source": [
    "print(seq[3:])\n",
    "print(seq[:3])"
   ]
  },
  {
   "cell_type": "markdown",
   "id": "divided-offset",
   "metadata": {},
   "source": [
    "Negative indices slice the sequence relative to the end"
   ]
  },
  {
   "cell_type": "code",
   "execution_count": 25,
   "id": "early-democrat",
   "metadata": {},
   "outputs": [
    {
     "name": "stdout",
     "output_type": "stream",
     "text": [
      "[5, 6, 0, 1]\n",
      "[3, 7, 5, 6]\n"
     ]
    }
   ],
   "source": [
    "print(seq[-4:])\n",
    "print(seq[-6:-2])"
   ]
  },
  {
   "cell_type": "markdown",
   "id": "reflected-gallery",
   "metadata": {},
   "source": [
    "you can even provide a step argument (default 1) which can be used to skip arguments, or even go backwards"
   ]
  },
  {
   "cell_type": "code",
   "execution_count": 26,
   "id": "posted-convergence",
   "metadata": {},
   "outputs": [
    {
     "name": "stdout",
     "output_type": "stream",
     "text": [
      "[7, 3, 5, 0]\n",
      "[1, 0, 6, 5, 7, 3, 2, 7]\n"
     ]
    }
   ],
   "source": [
    "#skip every other sequence\n",
    "print(seq[::2])\n",
    "#permute backwards through the list\n",
    "print(seq[::-1])"
   ]
  },
  {
   "cell_type": "markdown",
   "id": "vocational-danger",
   "metadata": {},
   "source": [
    "## Built in Sequence Functions\n",
    "\n",
    "### Enumerate\n",
    "enumerate allow you to keep track of the index of the current item"
   ]
  },
  {
   "cell_type": "code",
   "execution_count": 27,
   "id": "tight-science",
   "metadata": {},
   "outputs": [
    {
     "name": "stdout",
     "output_type": "stream",
     "text": [
      "[('C', 1), ('o', 2), ('l', 3), ('l', 4), ('e', 5), ('c', 6), ('t', 7), ('i', 8), ('o', 9), ('n', 10)]\n"
     ]
    }
   ],
   "source": [
    "aList = []\n",
    "\n",
    "#do it yousef approach\n",
    "i = 0\n",
    "for value in list(\"Collection\"):\n",
    "    i = i + 1\n",
    "    aList.append((value, i))\n",
    "    \n",
    "print(aList)"
   ]
  },
  {
   "cell_type": "code",
   "execution_count": 28,
   "id": "ceramic-colony",
   "metadata": {},
   "outputs": [
    {
     "name": "stdout",
     "output_type": "stream",
     "text": [
      "[('C', 0), ('o', 1), ('l', 2), ('l', 3), ('e', 4), ('c', 5), ('t', 6), ('i', 7), ('o', 8), ('n', 9)]\n"
     ]
    }
   ],
   "source": [
    "aList.clear()\n",
    "\n",
    "#python has a built in function, enumerate which returns a sequence of (i, value) tuples\n",
    "for i, value in enumerate(list(\"Collection\")):\n",
    "    aList.append((value, i))\n",
    "    \n",
    "print(aList)"
   ]
  },
  {
   "cell_type": "code",
   "execution_count": 29,
   "id": "rotary-might",
   "metadata": {},
   "outputs": [
    {
     "name": "stdout",
     "output_type": "stream",
     "text": [
      "{0: 'foo', 1: 'bar', 2: 'baz'}\n"
     ]
    }
   ],
   "source": [
    "#when indexing data, a helpful pattern that uses enumerate is computing a dict mapping the values of a sequence\n",
    "\n",
    "some_list = ['foo', 'bar', 'baz']\n",
    "mapping = {i: val for i, val in enumerate(some_list)}\n",
    "print(mapping)"
   ]
  },
  {
   "cell_type": "code",
   "execution_count": 30,
   "id": "orange-neighborhood",
   "metadata": {},
   "outputs": [
    {
     "name": "stdout",
     "output_type": "stream",
     "text": [
      "['bar', 'baz', 'foo']\n"
     ]
    }
   ],
   "source": [
    "#sorted returns a new sorted list (doesn't do it in place)\n",
    "# it accepts the same arguments as sort\n",
    "print(sorted(some_list))"
   ]
  },
  {
   "cell_type": "code",
   "execution_count": 31,
   "id": "micro-behavior",
   "metadata": {},
   "outputs": [
    {
     "name": "stdout",
     "output_type": "stream",
     "text": [
      "<zip object at 0x00000264EFB8A980>\n",
      "[('foo', 'one'), ('bar', 'two'), ('baz', 'three')]\n"
     ]
    }
   ],
   "source": [
    "#zip pairs up elements of a number of lists, tuples, or other sequences to create a list of tuples\n",
    "seq1 = ['foo', 'bar', 'baz']\n",
    "seq2 = ['one', 'two', 'three']\n",
    "\n",
    "zipped = zip(seq1, seq2)\n",
    "#seems to create a \"zip\" object\n",
    "print(zipped)\n",
    "\n",
    "print(list(zipped))"
   ]
  },
  {
   "cell_type": "code",
   "execution_count": 32,
   "id": "behind-major",
   "metadata": {},
   "outputs": [
    {
     "name": "stdout",
     "output_type": "stream",
     "text": [
      "[('foo', 'one', False), ('bar', 'two', True)]\n"
     ]
    }
   ],
   "source": [
    "#zip can take in an arbitrary number of sequences\n",
    "# the number of elements it produces is determined by the shortest sequence\n",
    "seq3 = [False, True]\n",
    "print(list(zip(seq1, seq2, seq3)))"
   ]
  },
  {
   "cell_type": "code",
   "execution_count": 33,
   "id": "pacific-victorian",
   "metadata": {},
   "outputs": [
    {
     "name": "stdout",
     "output_type": "stream",
     "text": [
      "0: foo, one\n",
      "1: bar, two\n",
      "2: baz, three\n"
     ]
    }
   ],
   "source": [
    "#a common use of zip is to simultaneously iterate over multple sequences, possibly ocmbined with enumerate\n",
    "for i, (a, b) in enumerate(zip(seq1, seq2)):\n",
    "    print('{0}: {1}, {2}'.format(i, a, b))"
   ]
  },
  {
   "cell_type": "markdown",
   "id": "c0a70c82-feab-4fd2-890f-e2c041b9d9d8",
   "metadata": {},
   "source": [
    "## Functions as Objects"
   ]
  },
  {
   "cell_type": "code",
   "execution_count": 34,
   "id": "subtle-writer",
   "metadata": {},
   "outputs": [
    {
     "name": "stdout",
     "output_type": "stream",
     "text": [
      "['Alabama', 'Georgia', 'Georgia', 'Georgia', 'Fl0Rida', 'South   Carolina', 'West Virginia']\n"
     ]
    }
   ],
   "source": [
    "#functions being objects allows many constructs to be expressed relatively easy in python\n",
    "\n",
    "#data cleaning\n",
    "states = ['   Alabama ', 'Georgia!', 'Georgia', 'georgia', 'Fl0rIda', 'south   carolina###', 'West Virginia?']\n",
    "\n",
    "#regular expressions\n",
    "import re\n",
    "def clean_strings(strings):\n",
    "    result = []\n",
    "    for value in strings:\n",
    "        #remove space at beginning and end of string\n",
    "        value = value.strip()\n",
    "        #replace !, #, and ? characters will nothing\n",
    "        value = re.sub('[!#?]', '', value)\n",
    "        #make first character of every word capital\n",
    "        value = value.title()\n",
    "        result.append(value)\n",
    "        \n",
    "    return result\n",
    "\n",
    "\n",
    "print(clean_strings(states))"
   ]
  },
  {
   "cell_type": "code",
   "execution_count": 35,
   "id": "b67f7a8e-17b3-42b1-9236-26e781fd718f",
   "metadata": {},
   "outputs": [
    {
     "name": "stdout",
     "output_type": "stream",
     "text": [
      "['Alabama', 'Georgia', 'Georgia', 'Georgia', 'Fl0Rida', 'South   Carolina', 'West Virginia']\n"
     ]
    }
   ],
   "source": [
    "#an alternative would be to store the functions in a datastructure\n",
    "def remove_punctuation(value):\n",
    "    return re.sub('[!#?]', '', value)\n",
    "\n",
    "cleanOps = [str.strip, remove_punctuation, str.title]\n",
    "\n",
    "def cleanStrGen(strings, ops):\n",
    "    result = []\n",
    "    for value in strings:\n",
    "        for function in ops:\n",
    "            value = function(value)\n",
    "        result.append(value)\n",
    "    return result\n",
    "\n",
    "print(cleanStrGen(states, cleanOps))\n",
    "            "
   ]
  },
  {
   "cell_type": "markdown",
   "id": "60100caf-aed6-4fb0-9eec-6787f5aa23aa",
   "metadata": {},
   "source": [
    "## Lambda functions\n",
    "*lambda* or *anonymous* functions are a way of writing small, from scratch, functions that don't need to be defined as their own function. can be used to help augment the abilities of other functions. a lambda function is started with the *lambda* keyword"
   ]
  },
  {
   "cell_type": "code",
   "execution_count": 36,
   "id": "3a60dc05-6788-4d19-ae32-1ddbec336358",
   "metadata": {},
   "outputs": [],
   "source": [
    "#a short functions and it's equivalent lambda\n",
    "def short_function(x):\n",
    "    return x * 2\n",
    "\n",
    "equiv_anon = lambda x: x * 2"
   ]
  },
  {
   "cell_type": "markdown",
   "id": "e677664f-a69a-4dcb-ac53-76baa02005be",
   "metadata": {},
   "source": [
    "## Currying: partial argument application\n",
    "*Currying* is jargon that means deriving new functions from existing ones by *partial argument application*"
   ]
  },
  {
   "cell_type": "code",
   "execution_count": 37,
   "id": "c0692000-b70a-4827-a28a-c33cf0b20f61",
   "metadata": {},
   "outputs": [],
   "source": [
    "#regular function\n",
    "def add_numbers(x, y):\n",
    "    return x + 5\n",
    "\n",
    "#curried, or derived function\n",
    "add_five = lambda y: add_numbers(5, y)"
   ]
  },
  {
   "cell_type": "markdown",
   "id": "aabcae0c-cb32-4260-b09a-61d100b6738e",
   "metadata": {},
   "source": [
    "## Generators\n",
    "a consistent way to iterate over sequences, like lists, files, tuples, etc, is an important python feature. this is accomplished by implementing the iterator protcol, a generaic way to make objects iterable."
   ]
  },
  {
   "cell_type": "code",
   "execution_count": 38,
   "id": "4966190d-1462-4e87-a40e-1433e6df9097",
   "metadata": {},
   "outputs": [
    {
     "name": "stdout",
     "output_type": "stream",
     "text": [
      "a\n",
      "b\n",
      "c\n"
     ]
    }
   ],
   "source": [
    "some_dict = {'a': 1, 'b': 2, 'c': 3}\n",
    "\n",
    "for key in some_dict:\n",
    "    print(key)"
   ]
  },
  {
   "cell_type": "code",
   "execution_count": 39,
   "id": "8f0e1f18-4ec0-47ef-a9c1-2df61cdbfccc",
   "metadata": {},
   "outputs": [
    {
     "name": "stdout",
     "output_type": "stream",
     "text": [
      "<dict_keyiterator object at 0x00000264EFBA6450>\n"
     ]
    }
   ],
   "source": [
    "#when you write for key in some_dict, the interpreter first attempts to create an iterator out of the dict\n",
    "dictIterator = iter(some_dict)\n",
    "print(dictIterator)"
   ]
  },
  {
   "cell_type": "code",
   "execution_count": 40,
   "id": "d6625218-75af-4668-a3cc-7c2696afcb48",
   "metadata": {},
   "outputs": [
    {
     "name": "stdout",
     "output_type": "stream",
     "text": [
      "['a', 'b', 'c']\n"
     ]
    }
   ],
   "source": [
    "#an iterator is any object that will yield objets to the python interpreter when used in contexts like a for loop. most methods expecting\n",
    "# a list, or list-like obejct will also accept iterators\n",
    "print(list(dictIterator))"
   ]
  },
  {
   "cell_type": "markdown",
   "id": "86460338-b5a7-45dc-8b15-32fec3e052ca",
   "metadata": {},
   "source": [
    "a *generator* is a concise way to construct iterable objects. normal funtions execute and return a single result at a time; generators return a sequence of multiple results **lazily**. lazy evaluation means that the running of the function is paused after each return, instead of looping through an entire sequence. generators are declared by using the *yield* keyword instead of return."
   ]
  },
  {
   "cell_type": "code",
   "execution_count": 41,
   "id": "67daf08e-5977-479d-a130-51295c447622",
   "metadata": {},
   "outputs": [
    {
     "name": "stdout",
     "output_type": "stream",
     "text": [
      "<generator object squares at 0x00000264EFBAD580>\n"
     ]
    }
   ],
   "source": [
    "def squares(n = 10):\n",
    "    print('Generating squares from 1 to {0}'.format(n ** 2))\n",
    "    for i in range(1, n + 1):\n",
    "        yield i ** 2\n",
    "        \n",
    "#no code is executed when you call a generator\n",
    "gen = squares()\n",
    "print(gen)"
   ]
  },
  {
   "cell_type": "code",
   "execution_count": 42,
   "id": "e3bd04dc-ef26-4752-a9af-61cb1e0dab9c",
   "metadata": {},
   "outputs": [
    {
     "name": "stdout",
     "output_type": "stream",
     "text": [
      "Generating squares from 1 to 100\n",
      "1\n",
      "4\n",
      "9\n",
      "16\n",
      "25\n",
      "36\n",
      "49\n",
      "64\n",
      "81\n",
      "100\n"
     ]
    }
   ],
   "source": [
    "#code is only executed when you request elements from the generator. lazy evaluation\n",
    "for x in gen:\n",
    "    print(x)"
   ]
  },
  {
   "cell_type": "markdown",
   "id": "bd50ee9e-93b3-4a97-a513-ca9ad39f6305",
   "metadata": {},
   "source": [
    "## the Itertools Module\n",
    "the standard library itertools has a collection of generators for many common data algorithms:\n",
    "* combinations(iterable, k) - generates a sequence of all possibnle k-tuples in the iterable, ignoring order and without replacement (A, B) == (B, A)\n",
    "* permutations(iterable, k) - generates a sequence of all possible k-tuples in the iterable, respecting order (A, B) != (B, A)\n",
    "* groupby(iterable, keyfunc) - generates (key, sub-iterator) for each unique key\n",
    "* product(*iterables, repeat=1) - generates the cartesian product of the input iterables as tuples"
   ]
  },
  {
   "cell_type": "code",
   "execution_count": 43,
   "id": "63ade1dd-eb75-4c8d-a4e1-a01cdd154281",
   "metadata": {},
   "outputs": [
    {
     "name": "stdout",
     "output_type": "stream",
     "text": [
      "A ['Alan', 'Adam']\n",
      "W ['Wes', 'Will']\n",
      "A ['Albert']\n",
      "S ['Steven']\n"
     ]
    }
   ],
   "source": [
    "#ex - group by\n",
    "import itertools\n",
    "\n",
    "firstLetter = lambda x: x[0]\n",
    "names = ['Alan', 'Adam', 'Wes', 'Will', 'Albert', 'Steven']\n",
    "\n",
    "for letter, names in itertools.groupby(names, firstLetter):\n",
    "    print(letter, list(names)) #names is a generator"
   ]
  },
  {
   "cell_type": "markdown",
   "id": "fc1157f5-620e-4113-9999-6c40e1f898c0",
   "metadata": {},
   "source": [
    "## Errors and Exception Handling\n",
    "Handling Python Errors or *exceptions* gracefully is an important part of building robust programs. in data analysis, many function only work on certain kinds of input"
   ]
  },
  {
   "cell_type": "code",
   "execution_count": 44,
   "id": "8ebea91f-fe4a-4e66-9c33-69b068d1ee13",
   "metadata": {},
   "outputs": [
    {
     "name": "stdout",
     "output_type": "stream",
     "text": [
      "1.2345\n"
     ]
    }
   ],
   "source": [
    "print(float('1.2345'))\n",
    "#print(float('something')) error"
   ]
  },
  {
   "cell_type": "code",
   "execution_count": 45,
   "id": "e321d5da-d1f9-44b1-a00d-b543189b92c7",
   "metadata": {},
   "outputs": [
    {
     "name": "stdout",
     "output_type": "stream",
     "text": [
      "3.14159\n",
      "parade float\n"
     ]
    }
   ],
   "source": [
    "#this program will handle exceptions to float gracefullly\n",
    "def attempt_float(x):\n",
    "    try:\n",
    "        return float(x)\n",
    "    #this will only block value errors\n",
    "    except ValueError:\n",
    "        return x\n",
    "    \n",
    "print(attempt_float('3.14159'))\n",
    "print(attempt_float('parade float'))"
   ]
  },
  {
   "cell_type": "markdown",
   "id": "988edf85-d508-467d-ba59-8ea6a9155b8a",
   "metadata": {},
   "source": [
    "## Files and the Operating System\n",
    "to opena file, use the built-in *open* function. this function starts in read mode ('r') by default. we can thus treat the file like an iterator and iteratore over the lines"
   ]
  },
  {
   "cell_type": "code",
   "execution_count": 47,
   "id": "0809173b-c036-4fd0-84e6-a1872125534f",
   "metadata": {},
   "outputs": [],
   "source": [
    "#open a file for reading or writing\n",
    "file = open('test.txt')"
   ]
  },
  {
   "cell_type": "code",
   "execution_count": 49,
   "id": "b50f78ec-b6a4-479a-b28d-74b782923b4f",
   "metadata": {},
   "outputs": [
    {
     "name": "stdout",
     "output_type": "stream",
     "text": [
      "this is a file.\n",
      "\n",
      "I like this file.\n",
      "\n",
      "it is a good file.\n",
      "\n",
      "Hello File.\n"
     ]
    }
   ],
   "source": [
    "for line in file:\n",
    "    print(line)"
   ]
  },
  {
   "cell_type": "code",
   "execution_count": 50,
   "id": "1d13e16d-ec3d-4d00-9ab8-c97eab605b20",
   "metadata": {},
   "outputs": [
    {
     "name": "stdout",
     "output_type": "stream",
     "text": [
      "this is a file.\n",
      "I like this file.\n",
      "it is a good file.\n",
      "Hello File.\n"
     ]
    }
   ],
   "source": [
    "#the lines coming out of the file have the end-of-line markers in tact (\\n), to remove them use r.strip\n",
    "lines = [x.rstrip() for x in open('test.txt')]\n",
    "for line in lines:\n",
    "    print(line)"
   ]
  },
  {
   "cell_type": "code",
   "execution_count": 51,
   "id": "8f207225-be54-4dc6-a630-975e08834abf",
   "metadata": {},
   "outputs": [],
   "source": [
    "#when you use open to create file objects, it is important to explicitly close the file. closing the file releases resources back to the operating system\n",
    "file.close()"
   ]
  },
  {
   "cell_type": "code",
   "execution_count": 55,
   "id": "cdec0f45-fc3b-474e-acd3-f7f08a657a1b",
   "metadata": {},
   "outputs": [],
   "source": [
    "#creating a new file\n",
    "f = open('newFile.txt', 'w')\n",
    "f.write(\"this is a sentence.\")\n",
    "f.close()"
   ]
  },
  {
   "cell_type": "code",
   "execution_count": 58,
   "id": "af134b91-08ca-45fd-975c-ec42c4f65e67",
   "metadata": {},
   "outputs": [
    {
     "name": "stdout",
     "output_type": "stream",
     "text": [
      "file already exists.\n"
     ]
    }
   ],
   "source": [
    "#x attempts to write a new file. fails if file exists\n",
    "try:\n",
    "    f = open('newFile.txt', 'x')\n",
    "    f.close()\n",
    "except:\n",
    "    print(\"file already exists.\")"
   ]
  },
  {
   "cell_type": "markdown",
   "id": "5f79743a-852a-4f59-948a-027e6a335780",
   "metadata": {},
   "source": [
    "### Read, Seek, Tell\n",
    "* Read - returns a certain number fo characters from a file (what a \"character\" is is determined by the files encoding). or returns a number of raw bytes if in binary mode. Advances the file handles read position by the number of character or bytes read.\n",
    "* Tell - gives the current position of the read pointer\n",
    "* Seek - changes the file position to the indicated byte in teh file"
   ]
  },
  {
   "cell_type": "code",
   "execution_count": 63,
   "id": "c4b123b9-c620-4449-a73c-f2c5d9954030",
   "metadata": {},
   "outputs": [
    {
     "name": "stdout",
     "output_type": "stream",
     "text": [
      "this is a \n"
     ]
    }
   ],
   "source": [
    "f = open('test.txt')\n",
    "print(f.read(10))\n"
   ]
  },
  {
   "cell_type": "code",
   "execution_count": 64,
   "id": "28827e76-68a9-4750-8c95-b4e0ab398d47",
   "metadata": {},
   "outputs": [
    {
     "name": "stdout",
     "output_type": "stream",
     "text": [
      "b'this is a '\n"
     ]
    }
   ],
   "source": [
    "f2 = open('test.txt', 'rb')\n",
    "print(f2.read(10))\n"
   ]
  },
  {
   "cell_type": "code",
   "execution_count": 65,
   "id": "f906b4cf-5f5e-4cc6-ab4d-385634683e80",
   "metadata": {},
   "outputs": [
    {
     "name": "stdout",
     "output_type": "stream",
     "text": [
      "10\n",
      "10\n"
     ]
    }
   ],
   "source": [
    "print(f.tell())\n",
    "print(f2.tell())"
   ]
  },
  {
   "cell_type": "code",
   "execution_count": 66,
   "id": "c9399932-eb09-4551-a343-eafa8463a164",
   "metadata": {},
   "outputs": [
    {
     "data": {
      "text/plain": [
       "'utf-8'"
      ]
     },
     "execution_count": 66,
     "metadata": {},
     "output_type": "execute_result"
    }
   ],
   "source": [
    "#you can check a systems default encoding through the sys module\n",
    "import sys\n",
    "sys.getdefaultencoding()"
   ]
  },
  {
   "cell_type": "code",
   "execution_count": 67,
   "id": "6e282c5c-d6c5-4cab-b3bf-ffcc76262d50",
   "metadata": {},
   "outputs": [
    {
     "data": {
      "text/plain": [
       "'this is a file.\\nI li'"
      ]
     },
     "execution_count": 67,
     "metadata": {},
     "output_type": "execute_result"
    }
   ],
   "source": [
    "f.seek(0)\n",
    "f.read(20)"
   ]
  },
  {
   "cell_type": "code",
   "execution_count": 68,
   "id": "84006f92-c2aa-4ce1-9462-ada4596cddf2",
   "metadata": {},
   "outputs": [],
   "source": [
    "f.close()\n",
    "f2.close()"
   ]
  },
  {
   "cell_type": "code",
   "execution_count": null,
   "id": "61af5ac2-1247-42ad-9fa8-39dbef4e526f",
   "metadata": {},
   "outputs": [],
   "source": []
  }
 ],
 "metadata": {
  "kernelspec": {
   "display_name": "Python 3",
   "language": "python",
   "name": "python3"
  },
  "language_info": {
   "codemirror_mode": {
    "name": "ipython",
    "version": 3
   },
   "file_extension": ".py",
   "mimetype": "text/x-python",
   "name": "python",
   "nbconvert_exporter": "python",
   "pygments_lexer": "ipython3",
   "version": "3.8.11"
  }
 },
 "nbformat": 4,
 "nbformat_minor": 5
}
