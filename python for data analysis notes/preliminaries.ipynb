{
 "cells": [
  {
   "cell_type": "markdown",
   "id": "16651c6b-be8f-4ac0-a80e-f8828c95ac97",
   "metadata": {},
   "source": [
    "<h1>preliminaries</h1>\n",
    "\n",
    "<h2>what is this book about</h2>\n",
    "<p>this book is mainly concerning with manipulating, processing, cleaning, and crunching data in python. it is not concerned with specifically\n",
    "    teaching data analysis methodology. rather, it teaches the python programming you need <i>for</i> data analysis</p>\n",
    "    \n",
    "<h2>what kinds of data?</h2>\n",
    "<p>mainly structured data, including:</p>\n",
    "<ol>\n",
    "    <li>Tabular, or speadsheet-like data in which each column may be a different type. most commonly found in relational databases or CSV files</li>\n",
    "    <li>multi-dimensional arrays</li>\n",
    "    <li>multiple tables of tada interrelated by key columns (what would be primary or foreign keys for an SQL user</li>\n",
    "    <li>Evenly or unevenly spaced time series</li>\n",
    "    <li>However, this is not a complete list</li>\n",
    "<ol>\n",
    "    \n",
    "<p>many data can be transformed into a structured form that is more suitable for analysis and modeling. if not, then it may be possible to extract features from the dataset into a structured form</p>\n",
    "       "
   ]
  },
  {
   "cell_type": "markdown",
   "id": "95c1e1b9-6f7b-426d-8f78-1b1019901456",
   "metadata": {},
   "source": [
    "<h2>Python as Glue</h2>\n",
    "<p>python can easily itegrate C, C++, and FORTRAN code.. many programs consist of small portions of code where most of the time is spent, with large amounts of \"glue code\" that doesn't run often. it is often beneficial to focus on these small, often used portions of code (since running the glue code in comparison is often insignificant) and it is sometimes optimized by moving the code to a lower level language like C</p>"
   ]
  },
  {
   "cell_type": "markdown",
   "id": "058c6959-dfe0-4183-a896-3a39b29b4e0a",
   "metadata": {},
   "source": [
    "<h2>Why Not Python</h2>\n",
    "<p>There are a number of uses where python is less suitable</p>\n",
    "<ol>\n",
    "    <li>python is an interpreted program and is often slower than code written in a compiled language</li>\n",
    "    <li>python can be a challenging language for building highly concurrent, multithreaded applications, particularly applications with many CPU bound threads</li>\n",
    "</ol>"
   ]
  },
  {
   "cell_type": "markdown",
   "id": "93dae102-388b-4efe-a755-14a4017a84e8",
   "metadata": {},
   "source": [
    "<h2>Essential Python Libraries</h2>\n",
    "\n",
    "<p><b>Numpy</b>: Generally the cornerstone of numerical computing in python. it provides datastructure, algorithms, and library glue needed for most scientific applications. generally used for storing data between libarries and algorithms. C or FORTRAN can also directly access numpy datasrtuctures.</p>\n",
    "<ol>\n",
    "    <li>contains a fast and efficient multi-dimensional array object, <i>ndarray</i></li>\n",
    "    <li>Functions for performing element-wise conputations with arrays, or mathimatical operations between arrays</li>\n",
    "    <li>tools for reading and writing array-based datasets to disk</li>\n",
    "    <li>linear algebra operations, fourier transform, and random number generation</li>\n",
    "    <li>a mature C API to enable python extensions and natic C or C++ code to access Numpy's datastructures and computational facilities</li>\n",
    "</ol>\n",
    "\n",
    "<p><b>pandas</b>: provides high-level data structures and functions designed to make workign with structured, or tabular data fast, easy, and expressive. Mainly used here is the <b>Dataframe</b>, a tabular, column-oriented, datastructure with both row and column labels. Also the <b>series</b>, a 1D labeled array object.</p>\n",
    "\n",
    "<br>\n",
    "\n",
    "<p>pandas offers sophicsticated indexing funcitonality, to make it esy to reshape, slice, dice, perform aggregations, and select subsets of data. the Dataframe object was modeled after the R langauage data.frame, which is built in.</p>\n",
    "\n",
    "<p><b>matplotlib</b> the most popular library for producing plots and other two-dimensional data visualizations.it is designed for creating plots suitable for publication</p>\n",
    "\n",
    "<p><b>IPython and Jupyter</b>: the IPython project was an effort to make a better interactive python interpreter. the Jupyter project was developed later, and by the same team, to create a language-agnostic interactive computing tool.</p>\n",
    "\n",
    "<p><b>SciP</b>: scipy is a collection of packages addressing a number of different scientic computing problems, and includes the following packages (and more)</p>\n",
    "<ol>\n",
    "    <li>scipy.integrate - numerical integration routines and differential equation solvers</li>\n",
    "    <li>scipy.linalg - linear algebra routines and matrix decompositions extending beyond those provided in numpy.linalg</li>\n",
    "    <li>scipy.optimize - function optimiezrs (minimizers) and root finding algorithms</li>\n",
    "    <li>scipy.signal - signal processing code</li>\n",
    "    <li>scipy.sparse - sparse matrices and sparse linear algebra system solvers</li>\n",
    "    <li>scipy.special - wrapper around SPECFUN, a FORTRAN library implemnting many common mathematicalfunctions, such as the gamma function</li>\n",
    "    <li>scipy.stats - standard continuous and discrete probablilty distributions (density funcitons, smaplers, continuous distribution functions), varous statistical tests, and more descripting statistics</li>\n",
    "</ol>\n",
    "<p>together NumPy and SciPy for a resonably complete and mature computational foundation</p>\n",
    "\n",
    "<p><b>Scikit-learn</b> - SciKit Learn is the premier general-purpose ML toolkit. it includes submodules for models such as: Classification (SVM, NN, random forest, logistic regression, etc), Regression (Lasso, redge regression, etc), Clustering (k-means, spectral clustering, etc), Dimensionality reduction (PCA, feature selection, matrix factorication, etc), Model selection (Grid search, cross-validation, metrics), Preprocessing (feature-extraction, normalization).</p>\n",
    "\n",
    "<p><b>statsmodels</b>: statsmodels is a statisical analysis package. contains classical (primarily frequentists) statistics an econometrics, this includes: Regression models (linear regression, generalized linear models, robust linear models, linear mixed effects models, etc), Analysis of Variance (ANOVA), Time Series Analysis (AR, ARMA, ARIMA, VAR, etc), NonParametric Methods (Kernel Density Estimation, Kernel Regression), Visualization of statiscial model results.</p>\n",
    "\n",
    "<br>\n",
    "\n",
    "<p>more focused on statistical inference, providing uncertaiunty estimates and p-values for parameters. whereas SKLearn is more focused on prediction</p> "
   ]
  },
  {
   "cell_type": "code",
   "execution_count": null,
   "id": "27be3f8a-ce18-4a64-9559-226ced45a129",
   "metadata": {},
   "outputs": [],
   "source": []
  }
 ],
 "metadata": {
  "kernelspec": {
   "display_name": "Python 3",
   "language": "python",
   "name": "python3"
  },
  "language_info": {
   "codemirror_mode": {
    "name": "ipython",
    "version": 3
   },
   "file_extension": ".py",
   "mimetype": "text/x-python",
   "name": "python",
   "nbconvert_exporter": "python",
   "pygments_lexer": "ipython3",
   "version": "3.8.11"
  }
 },
 "nbformat": 4,
 "nbformat_minor": 5
}
