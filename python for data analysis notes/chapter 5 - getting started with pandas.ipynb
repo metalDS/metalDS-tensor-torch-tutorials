{
 "cells": [
  {
   "cell_type": "markdown",
   "id": "18ab3caa-ccf6-40d8-adfc-b0f251cde537",
   "metadata": {},
   "source": [
    "# getting started with pandas\n",
    "pandas contains data structures and data manipulation tools designed to make cleaning and analysis fast and easy. it is often used in tandem with:\n",
    "* numerical computing tools such as NumPy and SciPy\n",
    "* analytical libraries like statsmodels and SKLearn\n",
    "* data visualization libraries like matplotlib\n",
    "\n",
    "pandas adops many coding idioms from NumPy, the biggest difference is that pandas is designed for tabular, or heterogenious data, and NumPy si designed for workign with homogeneous numerical array data.\n",
    "\n",
    "## Introduction to pandas Data Structures\n",
    "\n",
    "### Series\n",
    "a **Series** is a one-dimensional, array-like object containing a sequence of values (of similar types to NuPy types) and an associated array of data-labels, called its *index*."
   ]
  },
  {
   "cell_type": "code",
   "execution_count": 1,
   "id": "57712bce-49b0-4172-978c-0fc588a289b7",
   "metadata": {},
   "outputs": [],
   "source": [
    "import pandas as pd\n",
    "import numpy as np"
   ]
  },
  {
   "cell_type": "code",
   "execution_count": 2,
   "id": "42d0bd8e-e840-4f97-ab59-e02596fa1afa",
   "metadata": {},
   "outputs": [
    {
     "name": "stdout",
     "output_type": "stream",
     "text": [
      "0    4\n",
      "1    7\n",
      "2   -5\n",
      "3    3\n",
      "dtype: int64\n"
     ]
    }
   ],
   "source": [
    "#simple series formed from only an array fo data\n",
    "simpleSeries = pd.Series([4, 7, -5, 3])\n",
    "print(simpleSeries)"
   ]
  },
  {
   "cell_type": "markdown",
   "id": "f49fed1f-fcad-4e55-9ce5-0507f0c235c2",
   "metadata": {},
   "source": [
    "the string of numbers on the left shows the *index* (the index can be an integer, string, etc). the right string of numbers consists of the data. <u>A series is a homogenous data structure: only one type of data</u>."
   ]
  },
  {
   "cell_type": "code",
   "execution_count": 3,
   "id": "a8d358a8-5872-4e9c-9764-dca7adf72085",
   "metadata": {},
   "outputs": [
    {
     "name": "stdout",
     "output_type": "stream",
     "text": [
      "[ 4  7 -5  3]\n"
     ]
    }
   ],
   "source": [
    "#you can get the array representation of a Series with the values attribute\n",
    "print(simpleSeries.values)"
   ]
  },
  {
   "cell_type": "code",
   "execution_count": 4,
   "id": "188400e5-1955-4423-be7e-826d03fba43b",
   "metadata": {},
   "outputs": [
    {
     "name": "stdout",
     "output_type": "stream",
     "text": [
      "RangeIndex(start=0, stop=4, step=1)\n"
     ]
    }
   ],
   "source": [
    "#you can get the array represenation of the index object with the index attribute\n",
    "print(simpleSeries.index)"
   ]
  },
  {
   "cell_type": "markdown",
   "id": "d86a366f-0033-4301-aab9-00f388b48640",
   "metadata": {},
   "source": [
    "it is often desirable to create a series with an index consisting of **labels** instead of numbers"
   ]
  },
  {
   "cell_type": "code",
   "execution_count": 5,
   "id": "58a933c1-cf54-4d8a-be0b-14e168b091f7",
   "metadata": {},
   "outputs": [
    {
     "name": "stdout",
     "output_type": "stream",
     "text": [
      "d    4\n",
      "b    7\n",
      "a   -5\n",
      "c    3\n",
      "dtype: int64\n"
     ]
    }
   ],
   "source": [
    "labelSeries = pd.Series(simpleSeries.values, index=[\"d\", \"b\", \"a\", \"c\"])\n",
    "print(labelSeries)"
   ]
  },
  {
   "cell_type": "code",
   "execution_count": 6,
   "id": "8e8f7812-a330-4e3c-b186-27f60b0e2414",
   "metadata": {},
   "outputs": [
    {
     "name": "stdout",
     "output_type": "stream",
     "text": [
      "Index(['d', 'b', 'a', 'c'], dtype='object')\n"
     ]
    }
   ],
   "source": [
    "print(labelSeries.index)"
   ]
  },
  {
   "cell_type": "markdown",
   "id": "d543dc88-ecde-46da-ad1b-7085b71121b5",
   "metadata": {},
   "source": [
    "you can use labels in the index of the object when sleecting single values, or even a set of values:"
   ]
  },
  {
   "cell_type": "code",
   "execution_count": 7,
   "id": "8db55e4e-8507-4708-bb61-3d9075e0ce26",
   "metadata": {},
   "outputs": [
    {
     "name": "stdout",
     "output_type": "stream",
     "text": [
      "datapoint - a:  -5\n",
      "datapoint - c, a, and d:  c    3\n",
      "a   -5\n",
      "d    4\n",
      "dtype: int64\n",
      "datapoint d:  4\n"
     ]
    }
   ],
   "source": [
    "print(\"datapoint - a: \", labelSeries[\"a\"])\n",
    "#here [\"c\", \"a\", \"d\"] is interpreted as a list of indices, even though it contains strings\n",
    "print(\"datapoint - c, a, and d: \", labelSeries[[\"c\", \"a\", \"d\"]])\n",
    "#seems like you can still access labled series with index positions\n",
    "print(\"datapoint d: \", labelSeries[0])"
   ]
  },
  {
   "cell_type": "markdown",
   "id": "157c9e94-0cb5-4480-a2fd-2457fc95db66",
   "metadata": {},
   "source": [
    "## numpy functions\n",
    "using NumPy functions or NumPy-like operations, such as filtering with a boolean array, scalar multiplication, or applying math functions, will preserve the index-value link"
   ]
  },
  {
   "cell_type": "code",
   "execution_count": 10,
   "id": "f7435634-2c85-4481-bdcc-66ef585893a7",
   "metadata": {},
   "outputs": [
    {
     "name": "stdout",
     "output_type": "stream",
     "text": [
      "d    4\n",
      "b    7\n",
      "c    3\n",
      "dtype: int64\n",
      "d     8\n",
      "b    14\n",
      "a   -10\n",
      "c     6\n",
      "dtype: int64\n",
      "d      54.598150\n",
      "b    1096.633158\n",
      "a       0.006738\n",
      "c      20.085537\n",
      "dtype: float64\n"
     ]
    }
   ],
   "source": [
    "#get all array elements greater than 0\n",
    "print(labelSeries[labelSeries > 0])\n",
    "\n",
    "#multiply all elements of the array by (scalar) 2\n",
    "print(labelSeries * 2)\n",
    "\n",
    "#you can use numpy functions directly in pandas\n",
    "print(np.exp(labelSeries))"
   ]
  },
  {
   "cell_type": "markdown",
   "id": "a33f40c5-fa99-4348-ad6d-7a25a9fd2efa",
   "metadata": {},
   "source": [
    "### Series as an ordered dictionary\n",
    "another way to think about a Seris is as a fixed-length, ordered dict, as it is a mapping of index values to data values. It can be used in many contexts where you might use a dict"
   ]
  },
  {
   "cell_type": "code",
   "execution_count": 11,
   "id": "75ee08be-6a57-4da4-ab66-6aa06f856dc0",
   "metadata": {},
   "outputs": [
    {
     "name": "stdout",
     "output_type": "stream",
     "text": [
      "True\n",
      "False\n"
     ]
    }
   ],
   "source": [
    "#is the label 'b' in label series?\n",
    "print('b' in labelSeries)\n",
    "#is 'e'?\n",
    "print('e' in labelSeries)"
   ]
  },
  {
   "cell_type": "markdown",
   "id": "f101996a-187e-463e-bc5a-4afb14d30eba",
   "metadata": {},
   "source": [
    "In fact, you can create a Series form a Python dict. If you pass a dict to the Series object it will automatically put the labels in the order of the dict; you can override this by manually entering the labels in, how you want them to be ordered."
   ]
  },
  {
   "cell_type": "code",
   "execution_count": 22,
   "id": "6a6ac0ad-d741-41b2-8d5e-3b7412970e0b",
   "metadata": {},
   "outputs": [
    {
     "name": "stdout",
     "output_type": "stream",
     "text": [
      "Ohio      35000\n",
      "Texas     71000\n",
      "Oregon    16000\n",
      "Utah       5000\n",
      "dtype: int64\n",
      "California        NaN\n",
      "Ohio          35000.0\n",
      "Oregon        16000.0\n",
      "Texas         71000.0\n",
      "dtype: float64\n"
     ]
    }
   ],
   "source": [
    "myDict = {'Ohio': 35000, 'Texas': 71000, 'Oregon': 16000, 'Utah': 5000}\n",
    "states = ['California', 'Ohio', 'Oregon', 'Texas']\n",
    "\n",
    "#or you can pass in the dict by itself and the Series will automatically assign the labels\n",
    "dictSeris = pd.Series(myDict)\n",
    "print(dictSeris)\n",
    "\n",
    "#we can create a list from these two things. note how Californias is assigned a NaN value, and Utah isn't included\n",
    "#you can override the dict order by passing the dict keys directly\n",
    "dictSeries2 = pd.Series(myDict, states)\n",
    "print(dictSeries2)"
   ]
  },
  {
   "cell_type": "markdown",
   "id": "9447bf67-4390-41e5-9d63-4e3d63d3d026",
   "metadata": {},
   "source": [
    "the **pd.isnull(object)** and **pd.notnull(obect)** methods can be used to detect missing data. they will returns a boolean array of indices that satisfy the null condition."
   ]
  },
  {
   "cell_type": "code",
   "execution_count": 23,
   "id": "08a2ee95-88bd-4a34-b736-ad72e878ae19",
   "metadata": {},
   "outputs": [
    {
     "name": "stdout",
     "output_type": "stream",
     "text": [
      "California     True\n",
      "Ohio          False\n",
      "Oregon        False\n",
      "Texas         False\n",
      "dtype: bool\n",
      "California    False\n",
      "Ohio           True\n",
      "Oregon         True\n",
      "Texas          True\n",
      "dtype: bool\n",
      "California     True\n",
      "Ohio          False\n",
      "Oregon        False\n",
      "Texas         False\n",
      "dtype: bool\n"
     ]
    }
   ],
   "source": [
    "#calling statically\n",
    "print(pd.isnull(dictSeries))\n",
    "print(pd.notnull(dictSeries))\n",
    "\n",
    "#calling from the series object\n",
    "print(dictSeries.isnull())"
   ]
  },
  {
   "cell_type": "markdown",
   "id": "ee51d0c6-777e-4cab-bda5-b1ad05cf901c",
   "metadata": {},
   "source": [
    "## series data alignment\n",
    "a useful feature is that, for many applications, a Series automatially assigns by index label in arithmetic operations"
   ]
  },
  {
   "cell_type": "code",
   "execution_count": 25,
   "id": "7bce9779-a818-4fb6-ae7e-fd43649c7978",
   "metadata": {},
   "outputs": [
    {
     "data": {
      "text/plain": [
       "California         NaN\n",
       "Ohio           70000.0\n",
       "Oregon         32000.0\n",
       "Texas         142000.0\n",
       "dtype: float64"
      ]
     },
     "execution_count": 26,
     "metadata": {},
     "output_type": "execute_result"
    }
   ],
   "source": [
    "print(dictSeries + dictSeries2)"
   ]
  },
  {
   "cell_type": "markdown",
   "id": "d0bcc042-28e0-4be5-94c4-30c24caa25f0",
   "metadata": {},
   "source": [
    "Both the series object and it's index implement the name attribute"
   ]
  },
  {
   "cell_type": "code",
   "execution_count": 27,
   "id": "4b1ce6cb-913f-43bd-9342-03213f86d546",
   "metadata": {},
   "outputs": [
    {
     "name": "stdout",
     "output_type": "stream",
     "text": [
      "state\n",
      "California        NaN\n",
      "Ohio          35000.0\n",
      "Oregon        16000.0\n",
      "Texas         71000.0\n",
      "Name: population, dtype: float64\n"
     ]
    }
   ],
   "source": [
    "dictSeries.name = 'population'\n",
    "dictSeries.index.name = 'state'\n",
    "\n",
    "print(dictSeries)"
   ]
  },
  {
   "cell_type": "markdown",
   "id": "901f30f6-b3e4-4106-8198-9beaad6f38f6",
   "metadata": {},
   "source": [
    "## DataFrame\n",
    "a **DataFrame** represents a rectangular table of data, and contains an ordered collection of columns, <u>each of which can be a different value type</u>. it can be thought of a dict of **Series** objects, all sharing the same index. under the hood, the data is stored as one or more two-dimensional blocks rather than a list, dict, or other colection.\n",
    "\n",
    "> while a Dataframe is physically two-dimensional, you can use it to represent higher dimensional data in a tabular format using hierarchical indexing. discussed in Chapter 8. this is an ingredient in some of the more advanced data-handling features.\n",
    "\n",
    "There are many ways to construct a DataFrame, though one of the most common is from a dict of equal-length lists or NumPy arrays:"
   ]
  },
  {
   "cell_type": "code",
   "execution_count": 28,
   "id": "8ece5c9b-e3d8-4a49-8cc4-1d187d7b71d2",
   "metadata": {},
   "outputs": [
    {
     "name": "stdout",
     "output_type": "stream",
     "text": [
      "    state  year  pop\n",
      "0    Ohio  2000  1.5\n",
      "1    Ohio  2001  1.7\n",
      "2    Ohio  2002  3.6\n",
      "3  Nevada  2000  2.4\n",
      "4  Nevada  2001  2.9\n",
      "5  Nevada  2002  3.2\n"
     ]
    }
   ],
   "source": [
    "data = {'state': ['Ohio', 'Ohio', 'Ohio', 'Nevada', 'Nevada', 'Nevada'], 'year': [2000, 2001, 2002, 2000, 2001, 2002], 'pop': [1.5, 1.7, 3.6, 2.4, 2.9, 3.2]}\n",
    "\n",
    "popDataFrame = pd.DataFrame(data)\n",
    "print(popDataFrame)"
   ]
  },
  {
   "cell_type": "markdown",
   "id": "82ff8d05-1142-48a4-8117-6340a48b4839",
   "metadata": {},
   "source": [
    "the resulting DataFrame will have its index assigned automatically, as with Series, and the columns are placed in sorted order."
   ]
  },
  {
   "cell_type": "code",
   "execution_count": 29,
   "id": "f344738c-6972-40b4-9643-950e9eb0bab9",
   "metadata": {},
   "outputs": [
    {
     "name": "stdout",
     "output_type": "stream",
     "text": [
      "  state  year  pop\n",
      "0  Ohio  2000  1.5\n",
      "1  Ohio  2001  1.7\n"
     ]
    }
   ],
   "source": [
    "#the head method selects the first n (default is 5) rows\n",
    "print(popDataFrame.head(2))"
   ]
  },
  {
   "cell_type": "code",
   "execution_count": 31,
   "id": "19e6f397-69cd-49d9-999e-2736dab1c93c",
   "metadata": {},
   "outputs": [
    {
     "name": "stdout",
     "output_type": "stream",
     "text": [
      "    state  year  pop\n",
      "3  Nevada  2000  2.4\n",
      "4  Nevada  2001  2.9\n",
      "5  Nevada  2002  3.2\n"
     ]
    }
   ],
   "source": [
    "#the tail method selects the last n rows\n",
    "print(popDataFrame.tail(3))"
   ]
  },
  {
   "cell_type": "markdown",
   "id": "e2e606bd-a2b2-4771-a32f-3818e60a8c96",
   "metadata": {},
   "source": [
    "if you pass in a column that isn't contained within the dict, then <u>it will appear with a missing value (np.NaN) in the result</u>"
   ]
  },
  {
   "cell_type": "code",
   "execution_count": 32,
   "id": "0dac6935-4659-410a-9b91-d4301a0463a4",
   "metadata": {},
   "outputs": [
    {
     "name": "stdout",
     "output_type": "stream",
     "text": [
      "       year   state  pop debt\n",
      "one    2000    Ohio  1.5  NaN\n",
      "two    2001    Ohio  1.7  NaN\n",
      "three  2002    Ohio  3.6  NaN\n",
      "four   2000  Nevada  2.4  NaN\n",
      "five   2001  Nevada  2.9  NaN\n",
      "six    2002  Nevada  3.2  NaN\n"
     ]
    }
   ],
   "source": [
    "frame2 = pd.DataFrame(data, columns=['year', 'state', 'pop', 'debt'], index=['one', 'two', 'three', 'four', 'five', 'six'])\n",
    "print(frame2)"
   ]
  },
  {
   "cell_type": "markdown",
   "id": "34e775dd-ba3a-402c-b5ed-6ac8ef543bc1",
   "metadata": {},
   "source": [
    "A column in a DF can be retrieved as a Series either by dict-like notation, or by attribute"
   ]
  },
  {
   "cell_type": "code",
   "execution_count": 33,
   "id": "1ceb4255-e9cc-4519-8be7-d5a84b50e12d",
   "metadata": {},
   "outputs": [
    {
     "name": "stdout",
     "output_type": "stream",
     "text": [
      "one        Ohio\n",
      "two        Ohio\n",
      "three      Ohio\n",
      "four     Nevada\n",
      "five     Nevada\n",
      "six      Nevada\n",
      "Name: state, dtype: object\n",
      "one      2000\n",
      "two      2001\n",
      "three    2002\n",
      "four     2000\n",
      "five     2001\n",
      "six      2002\n",
      "Name: year, dtype: int64\n"
     ]
    }
   ],
   "source": [
    "#getting a series by indexing\n",
    "print(frame2['state'])\n",
    "\n",
    "#getting an array by attribute\n",
    "print(frame2.year)"
   ]
  },
  {
   "cell_type": "markdown",
   "id": "f21384c5-ad93-45ae-a202-51d340739454",
   "metadata": {},
   "source": [
    "**the Series will have the same index as the DataFrame, and their name attribute will be set to the name of the column**.\n",
    "\n",
    "rows can also be retrieved by position or name, with the **loc** attribute:"
   ]
  },
  {
   "cell_type": "code",
   "execution_count": 51,
   "id": "7390ae75-271e-4d2f-bb0b-d55a88bf01f6",
   "metadata": {},
   "outputs": [
    {
     "name": "stdout",
     "output_type": "stream",
     "text": [
      "year     2002\n",
      "state    Ohio\n",
      "pop       3.6\n",
      "debt      NaN\n",
      "Name: three, dtype: object\n"
     ]
    }
   ],
   "source": [
    "print(frame2.loc['three'])"
   ]
  },
  {
   "cell_type": "markdown",
   "id": "f1ae7ede-58ab-464a-8bd9-ac5353812a62",
   "metadata": {},
   "source": [
    "Columns can be modified by assignment. The empty 'debt' column could be assigned with a scalar, or an array of values:"
   ]
  },
  {
   "cell_type": "code",
   "execution_count": 53,
   "id": "d8f35763-ddce-4013-8765-2229a772574d",
   "metadata": {},
   "outputs": [
    {
     "name": "stdout",
     "output_type": "stream",
     "text": [
      "       year   state  pop  debt\n",
      "one    2000    Ohio  1.5  16.5\n",
      "two    2001    Ohio  1.7  16.5\n",
      "three  2002    Ohio  3.6  16.5\n",
      "four   2000  Nevada  2.4  16.5\n",
      "five   2001  Nevada  2.9  16.5\n",
      "six    2002  Nevada  3.2  16.5\n",
      "       year   state  pop  debt\n",
      "one    2000    Ohio  1.5   0.0\n",
      "two    2001    Ohio  1.7   1.0\n",
      "three  2002    Ohio  3.6   2.0\n",
      "four   2000  Nevada  2.4   3.0\n",
      "five   2001  Nevada  2.9   4.0\n",
      "six    2002  Nevada  3.2   5.0\n"
     ]
    }
   ],
   "source": [
    "#assign the entire column with a scalar value\n",
    "frame2['debt'] = 16.5\n",
    "print(frame2)\n",
    "\n",
    "#assign with an array of values\n",
    "frame2['debt'] = np.arange(6.)\n",
    "print(frame2)"
   ]
  },
  {
   "cell_type": "markdown",
   "id": "0476bb7e-0aeb-4d60-b287-f151d2feb47c",
   "metadata": {},
   "source": [
    "if you assign with a Series then the labels will be realigned exactly tot he DataFrame's index, inserting missing values in any holes"
   ]
  },
  {
   "cell_type": "code",
   "execution_count": 36,
   "id": "b3503c2f-b3e7-4f1b-8b5f-319d9cb192e7",
   "metadata": {},
   "outputs": [
    {
     "name": "stdout",
     "output_type": "stream",
     "text": [
      "       year   state  pop  debt\n",
      "one    2000    Ohio  1.5   NaN\n",
      "two    2001    Ohio  1.7  -1.2\n",
      "three  2002    Ohio  3.6   NaN\n",
      "four   2000  Nevada  2.4  -1.5\n",
      "five   2001  Nevada  2.9  -1.7\n",
      "six    2002  Nevada  3.2   NaN\n"
     ]
    }
   ],
   "source": [
    "val = pd.Series([-1.2, -1.5, -1.7], index=['two', 'four', 'five'])\n",
    "frame2['debt'] = val\n",
    "print(frame2)"
   ]
  },
  {
   "cell_type": "markdown",
   "id": "4d8898e7-0280-4b3e-8263-e5d2b95fd25f",
   "metadata": {},
   "source": [
    "assigning a column that doesn't exist <u>will create a new column</u>. the del keyword will delect columns as with a dict.\n",
    "\n",
    "> WARNING: new columns cannot be created with the attribute style syntax"
   ]
  },
  {
   "cell_type": "code",
   "execution_count": 37,
   "id": "180a97d2-0c2c-4a65-bd05-82fda100d62d",
   "metadata": {},
   "outputs": [
    {
     "name": "stdout",
     "output_type": "stream",
     "text": [
      "       year   state  pop  debt  eastern\n",
      "one    2000    Ohio  1.5   NaN     True\n",
      "two    2001    Ohio  1.7  -1.2     True\n",
      "three  2002    Ohio  3.6   NaN     True\n",
      "four   2000  Nevada  2.4  -1.5    False\n",
      "five   2001  Nevada  2.9  -1.7    False\n",
      "six    2002  Nevada  3.2   NaN    False\n"
     ]
    }
   ],
   "source": [
    "frame2['eastern'] = frame2.state == 'Ohio'\n",
    "print(frame2)"
   ]
  },
  {
   "cell_type": "code",
   "execution_count": 38,
   "id": "2ea2fd53-2283-4501-8421-f81a362fc02e",
   "metadata": {},
   "outputs": [
    {
     "name": "stdout",
     "output_type": "stream",
     "text": [
      "Index(['year', 'state', 'pop', 'debt'], dtype='object')\n"
     ]
    }
   ],
   "source": [
    "#then delete\n",
    "del frame2['eastern']\n",
    "print(frame2.columns)"
   ]
  },
  {
   "cell_type": "markdown",
   "id": "a46e1c9e-e654-42c3-9f45-0c536471aa71",
   "metadata": {},
   "source": [
    "> WARNING: the column returned from indexing a DataFrame is a <u>view</u> on teh underlying data, not a copy. thus, any in-place modifications to the Sereis will be reflected in the DataFrame. The Column can be explicitly copied with the Serie's **copy** method.\n",
    "\n",
    "Another common form of data is a nested dict of dicts. pandas will treat the outer dict keys as the columns and the innder keys as the row indices:"
   ]
  },
  {
   "cell_type": "code",
   "execution_count": 40,
   "id": "f4324276-6313-494a-85b6-a411bb1542b5",
   "metadata": {},
   "outputs": [
    {
     "name": "stdout",
     "output_type": "stream",
     "text": [
      "      Nevada  Ohio\n",
      "2001     2.4   1.7\n",
      "2002     2.9   3.6\n",
      "2000     NaN   1.5\n"
     ]
    }
   ],
   "source": [
    "pop = {'Nevada': {2001: 2.4, 2002: 2.9}, 'Ohio': {2000: 1.5, 2001: 1.7, 2002: 3.6}}\n",
    "populationFrame = pd.DataFrame(pop)\n",
    "print(populationFrame)"
   ]
  },
  {
   "cell_type": "markdown",
   "id": "6f01ace3-792c-41c6-ab2a-f52d640f21e4",
   "metadata": {},
   "source": [
    "you can transpose the DataFrame (swap rows and columns) with a similar syntax to NumPy arrays:"
   ]
  },
  {
   "cell_type": "code",
   "execution_count": 42,
   "id": "2f45944d-b928-4bfa-a16c-f8b7100e7611",
   "metadata": {},
   "outputs": [
    {
     "name": "stdout",
     "output_type": "stream",
     "text": [
      "        2001  2002  2000\n",
      "Nevada   2.4   2.9   NaN\n",
      "Ohio     1.7   3.6   1.5\n"
     ]
    }
   ],
   "source": [
    "print(populationFrame.T)"
   ]
  },
  {
   "cell_type": "markdown",
   "id": "e02d749f-2214-41d0-b2e8-65e1b44d4025",
   "metadata": {},
   "source": [
    "Dicts of Series are treated in the same way as Dicts of Dicts"
   ]
  },
  {
   "cell_type": "code",
   "execution_count": 45,
   "id": "ed85a334-12ad-4c68-ae63-8ecbb816c767",
   "metadata": {},
   "outputs": [
    {
     "name": "stdout",
     "output_type": "stream",
     "text": [
      "      Ohio  Nevada\n",
      "2001   1.7     2.4\n",
      "2002   3.6     2.9\n"
     ]
    }
   ],
   "source": [
    "pdata = pd.DataFrame({'Ohio': populationFrame['Ohio'][:-1], 'Nevada': populationFrame['Nevada'][:2]})\n",
    "print(pdata)"
   ]
  },
  {
   "cell_type": "markdown",
   "id": "9889d90b-1429-4b36-bba8-d36f68cf081b",
   "metadata": {},
   "source": [
    "the name of a DataFrames index and columns will be displayed when it is printed"
   ]
  },
  {
   "cell_type": "code",
   "execution_count": 46,
   "id": "72b41cd7-3a5c-4322-82f5-78b525b77470",
   "metadata": {},
   "outputs": [
    {
     "name": "stdout",
     "output_type": "stream",
     "text": [
      "state  Nevada  Ohio\n",
      "year               \n",
      "2001      2.4   1.7\n",
      "2002      2.9   3.6\n",
      "2000      NaN   1.5\n"
     ]
    }
   ],
   "source": [
    "populationFrame.index.name = 'year'\n",
    "populationFrame.columns.name = 'state'\n",
    "print(populationFrame)"
   ]
  },
  {
   "cell_type": "markdown",
   "id": "d923aabc-1b31-4127-9dcf-1f0b36cca3b5",
   "metadata": {},
   "source": [
    "the **value** attibute, similar to the Series object, will return a two-dimensional ndarray:"
   ]
  },
  {
   "cell_type": "code",
   "execution_count": 47,
   "id": "6df38fd8-2523-4c1f-8675-66c4c7330512",
   "metadata": {},
   "outputs": [
    {
     "name": "stdout",
     "output_type": "stream",
     "text": [
      "[[2.4 1.7]\n",
      " [2.9 3.6]\n",
      " [nan 1.5]]\n"
     ]
    }
   ],
   "source": [
    "print(populationFrame.values)"
   ]
  },
  {
   "cell_type": "markdown",
   "id": "bfbe2464-b9a4-405e-b6c6-8a6337988d73",
   "metadata": {},
   "source": [
    "if the Dataframes columns are different data types, then the data type of the values array will be chosen to accomodate all of the columns\n"
   ]
  },
  {
   "cell_type": "code",
   "execution_count": 49,
   "id": "57efb040-bafa-44c7-a078-2778582291aa",
   "metadata": {},
   "outputs": [
    {
     "data": {
      "text/plain": [
       "array([[2000, 'Ohio', 1.5, nan],\n",
       "       [2001, 'Ohio', 1.7, -1.2],\n",
       "       [2002, 'Ohio', 3.6, nan],\n",
       "       [2000, 'Nevada', 2.4, -1.5],\n",
       "       [2001, 'Nevada', 2.9, -1.7],\n",
       "       [2002, 'Nevada', 3.2, nan]], dtype=object)"
      ]
     },
     "execution_count": 49,
     "metadata": {},
     "output_type": "execute_result"
    }
   ],
   "source": [
    "frame2.values"
   ]
  },
  {
   "cell_type": "markdown",
   "id": "44ea8fee-dd06-49c2-b0e4-ff660a6f29bf",
   "metadata": {},
   "source": [
    "### table 5-1: possible inputs to the DataFrame constructor\n",
    "* 2d ndarray - a matrix of data, passing optional row and column labels\n",
    "* dict of arrays, lists, or tuples - each sequence becomes a column in the DataFrame; all sequences must be the same length\n",
    "* NumPy structured/record array -  treated at \"dict of arrays\" case\n",
    "* Dict of Series - Each value becomes a column; indexes from each Series are unioned together to form the result's row index if no explicit index is passed\n",
    "* dict of dicts - Each value becomes a column; keys are unioned to form the row index as in the \"Dict of Series\" case.\n",
    "* List of Dicts or Series - Each item becomes a row in the DataFrame; union of dict keys or Series indexes becomes the dataframe's column labels\n",
    "* list of lists or tuples - treated as the \"2D ndarray\" case\n",
    "* Another Dataframe - The DataFrames indexes are used unless different ones are passed\n",
    "* NumPy MaskedArray - Like the \"2D ndarray\" case except masked values become NA.missing in the DataFrame result"
   ]
  },
  {
   "cell_type": "markdown",
   "id": "f471b75a-e35b-4be7-b0b6-e42c9906baba",
   "metadata": {},
   "source": [
    "## Index Objects\n",
    "* Index objects are responsible for holidng the axis labels and other metadata. any array, or other sequence of labels, is internally converted into an index\n",
    "* Index objects are Immutable\n",
    "* Index objects behive like a fixed size set\n",
    "* unlike sets, index objects can contain duplicate labels"
   ]
  },
  {
   "cell_type": "code",
   "execution_count": 60,
   "id": "cfdec334-8ecc-48ad-a642-ff97ab2c0c33",
   "metadata": {},
   "outputs": [
    {
     "name": "stdout",
     "output_type": "stream",
     "text": [
      "Index(['d', 'b', 'a', 'c'], dtype='object')\n",
      "b\n",
      "True\n",
      "False\n"
     ]
    }
   ],
   "source": [
    "index = labelSeries.index\n",
    "print(index)\n",
    "print(index[1])\n",
    "\n",
    "#set-like behavior in labelSeries\n",
    "print('c' in index)\n",
    "print('e' in index)"
   ]
  },
  {
   "cell_type": "code",
   "execution_count": 62,
   "id": "d451ada1-e466-47e7-a3ba-f0875af01b91",
   "metadata": {},
   "outputs": [
    {
     "name": "stdout",
     "output_type": "stream",
     "text": [
      "foo    0\n",
      "foo    1\n",
      "bar    2\n",
      "bar    3\n",
      "dtype: int64\n",
      "foo    0\n",
      "foo    1\n",
      "dtype: int64\n"
     ]
    }
   ],
   "source": [
    "#duplicate labels\n",
    "foobarSeries = pd.Series([0, 1, 2, 3], index = ['foo', 'foo', 'bar', 'bar'])\n",
    "\n",
    "print(foobarSeries)\n",
    "print(foobarSeries['foo'])"
   ]
  },
  {
   "cell_type": "markdown",
   "id": "b41bc8cb-785e-4db7-9613-258b498a254a",
   "metadata": {},
   "source": [
    "## Pandas Essintial Functionality\n",
    "\n",
    "### Reindexing\n",
    "reindexing  apandas object means that you create a new object with the old object's data *conformed* to the new index"
   ]
  },
  {
   "cell_type": "code",
   "execution_count": 63,
   "id": "ea6983ed-263e-4a4e-a0f6-a2823c10e877",
   "metadata": {},
   "outputs": [
    {
     "name": "stdout",
     "output_type": "stream",
     "text": [
      "d    4.5\n",
      "b    7.2\n",
      "a   -5.3\n",
      "c    3.6\n",
      "dtype: float64\n",
      "a   -5.3\n",
      "b    7.2\n",
      "c    3.6\n",
      "d    4.5\n",
      "e    NaN\n",
      "dtype: float64\n"
     ]
    }
   ],
   "source": [
    "obj = pd.Series([4.5, 7.2, -5.3, 3.6], index = ['d', 'b', 'a', 'c'])\n",
    "print(obj)\n",
    "\n",
    "#calling reindex rearranges teh data according to the new index\n",
    "objReindexed = obj.reindex(['a', 'b', 'c', 'd', 'e'])\n",
    "print(objReindexed)"
   ]
  },
  {
   "cell_type": "markdown",
   "id": "31a0f20a-8f14-40d6-bfe4-873d95e4f4f6",
   "metadata": {},
   "source": [
    "for ordered data like time series, it may be desirable to do some interpolation, or filling of values when reindexed. we can do this by passing in an argument to the *method* parameter"
   ]
  },
  {
   "cell_type": "code",
   "execution_count": 64,
   "id": "9b04887e-5ff3-4a76-aed0-af651ea17d9e",
   "metadata": {},
   "outputs": [
    {
     "name": "stdout",
     "output_type": "stream",
     "text": [
      "0      blue\n",
      "2    purple\n",
      "4    yellow\n",
      "dtype: object\n",
      "0      blue\n",
      "1      blue\n",
      "2    purple\n",
      "3    purple\n",
      "4    yellow\n",
      "5    yellow\n",
      "dtype: object\n"
     ]
    }
   ],
   "source": [
    "colorObj = pd.Series(['blue', 'purple', 'yellow'], index=[0, 2, 4])\n",
    "print(colorObj)\n",
    "\n",
    "#ffill - fill forward\n",
    "#bfill - fill backwards\n",
    "print(colorObj.reindex(range(6), method='ffill'))"
   ]
  },
  {
   "cell_type": "markdown",
   "id": "d4eed10b-ab52-4862-b027-b15a0e3c5799",
   "metadata": {},
   "source": [
    "reindex can alter either the (row) index, columns, or both. When passed only a sequence, it reindexes the rows in the reult"
   ]
  },
  {
   "cell_type": "code",
   "execution_count": 66,
   "id": "7c19db1a-8950-4c26-a01a-5a8936eec0a7",
   "metadata": {},
   "outputs": [
    {
     "name": "stdout",
     "output_type": "stream",
     "text": [
      "   Ohio  Texas  California\n",
      "a     0      1           2\n",
      "c     3      4           5\n",
      "d     6      7           8\n"
     ]
    }
   ],
   "source": [
    "frame = pd.DataFrame(np.arange(9).reshape((3, 3)), index = ['a', 'c', 'd'], columns = ['Ohio', 'Texas', 'California'])\n",
    "print(frame)"
   ]
  },
  {
   "cell_type": "code",
   "execution_count": 83,
   "id": "2767f0b3-db58-4843-9d2c-75b7e193ba6c",
   "metadata": {},
   "outputs": [
    {
     "name": "stdout",
     "output_type": "stream",
     "text": [
      "   Ohio  Texas  California\n",
      "a   0.0    1.0         2.0\n",
      "b   NaN    NaN         NaN\n",
      "c   3.0    4.0         5.0\n",
      "d   6.0    7.0         8.0\n"
     ]
    }
   ],
   "source": [
    "#reindex only the rows\n",
    "print(frame.reindex(['a', 'b', 'c', 'd']))"
   ]
  },
  {
   "cell_type": "code",
   "execution_count": 84,
   "id": "82f3d50e-6efa-4e22-9319-c64c29570345",
   "metadata": {},
   "outputs": [
    {
     "name": "stdout",
     "output_type": "stream",
     "text": [
      "   Texas  Utah  California\n",
      "a      1   NaN           2\n",
      "c      4   NaN           5\n",
      "d      7   NaN           8\n"
     ]
    }
   ],
   "source": [
    "#the columns can be reindex with the columns keyword\n",
    "states = ['Texas', 'Utah', 'California']\n",
    "print(frame.reindex(columns = states))"
   ]
  },
  {
   "cell_type": "markdown",
   "id": "c6c3de7f-b6b4-4084-9aba-e0f111157d14",
   "metadata": {},
   "source": [
    "### Dropping Entries from an Axis\n",
    "dropping one or more entries from an axis is easy if you aready have an index array, or list without those entries. the *drop* method will return a new object with the indicated value or values delted from an axis"
   ]
  },
  {
   "cell_type": "code",
   "execution_count": 89,
   "id": "8a6628cb-bc38-46f9-8073-95f868a19bc9",
   "metadata": {},
   "outputs": [
    {
     "name": "stdout",
     "output_type": "stream",
     "text": [
      "a    0.0\n",
      "b    1.0\n",
      "c    2.0\n",
      "d    3.0\n",
      "e    4.0\n",
      "dtype: float64\n",
      "a    0.0\n",
      "b    1.0\n",
      "d    3.0\n",
      "e    4.0\n",
      "dtype: float64\n",
      "a    0.0\n",
      "b    1.0\n",
      "e    4.0\n",
      "dtype: float64\n"
     ]
    }
   ],
   "source": [
    "obj = pd.Series(np.arange(5.), index=['a', 'b', 'c', 'd', 'e'])\n",
    "print(obj)\n",
    "\n",
    "new_obj = obj.drop('c')\n",
    "print(new_obj)\n",
    "\n",
    "newer_ob = obj.drop(['d', 'c'])\n",
    "print(newer_ob)"
   ]
  },
  {
   "cell_type": "markdown",
   "id": "3090cd43-6b0d-4945-8fef-7e138ee182b8",
   "metadata": {},
   "source": [
    "DataFrame index values can be deleted from either axis"
   ]
  },
  {
   "cell_type": "code",
   "execution_count": 91,
   "id": "9cbb54f4-136d-47e0-9f75-9a8db821004e",
   "metadata": {},
   "outputs": [
    {
     "name": "stdout",
     "output_type": "stream",
     "text": [
      "          one  two  three  four\n",
      "Ohio        0    1      2     3\n",
      "Colorado    4    5      6     7\n",
      "Utah        8    9     10    11\n",
      "New York   12   13     14    15\n",
      "          one  two  three  four\n",
      "Utah        8    9     10    11\n",
      "New York   12   13     14    15\n"
     ]
    }
   ],
   "source": [
    "data = pd.DataFrame(np.arange(16).reshape((4, 4)), index = ['Ohio', 'Colorado', 'Utah', 'New York'], columns = ['one', 'two', 'three', 'four'])\n",
    "print(data)\n",
    "\n",
    "#dropping colorado and ohio\n",
    "print(data.drop(['Colorado', 'Ohio']))"
   ]
  },
  {
   "cell_type": "code",
   "execution_count": 92,
   "id": "0244ef31-c186-4147-bca4-b3aa4742adc4",
   "metadata": {},
   "outputs": [
    {
     "name": "stdout",
     "output_type": "stream",
     "text": [
      "          one  three\n",
      "Ohio        0      2\n",
      "Colorado    4      6\n",
      "Utah        8     10\n",
      "New York   12     14\n"
     ]
    }
   ],
   "source": [
    "#you can drop columns by passing axis=1, or axis='columns'\n",
    "print(data.drop(['two', 'four'], axis=1))"
   ]
  },
  {
   "cell_type": "markdown",
   "id": "a96036b8-7004-4f09-a928-56e2ef1b9765",
   "metadata": {},
   "source": [
    "**many functions like drop, which modify the size or shape of a Series or DataFrame can manipulate an object *in place* by using the inplace argument**"
   ]
  },
  {
   "cell_type": "code",
   "execution_count": 93,
   "id": "638d31b2-9899-4339-a6e2-06dbce28b705",
   "metadata": {},
   "outputs": [
    {
     "name": "stdout",
     "output_type": "stream",
     "text": [
      "          two  three  four\n",
      "Ohio        1      2     3\n",
      "Colorado    5      6     7\n",
      "Utah        9     10    11\n",
      "New York   13     14    15\n"
     ]
    }
   ],
   "source": [
    "data.drop('one', axis='columns', inplace=True)\n",
    "print(data)"
   ]
  },
  {
   "cell_type": "markdown",
   "id": "5856a07f-fd55-4e7a-9c4c-ebc87bcda044",
   "metadata": {},
   "source": [
    "### Indexing, Selection, And Filtering\n",
    "\n",
    "Series indexing (obj[...]) works analogously to NumPy array indecing, except that **you can use the Series's index value instead of only integers**"
   ]
  },
  {
   "cell_type": "code",
   "execution_count": 95,
   "id": "2c942582-0c1d-45e0-a168-cab00b1afbc3",
   "metadata": {},
   "outputs": [
    {
     "name": "stdout",
     "output_type": "stream",
     "text": [
      "a    0.0\n",
      "b    1.0\n",
      "c    2.0\n",
      "d    3.0\n",
      "dtype: float64\n",
      "1.0\n",
      "1.0\n",
      "c    2.0\n",
      "d    3.0\n",
      "dtype: float64\n",
      "b    1.0\n",
      "a    0.0\n",
      "d    3.0\n",
      "dtype: float64\n",
      "a    0.0\n",
      "b    1.0\n",
      "dtype: float64\n"
     ]
    }
   ],
   "source": [
    "obj = pd.Series(np.arange(4.), index=['a', 'b', 'c', 'd'])\n",
    "print(obj)\n",
    "\n",
    "#get b\n",
    "print(obj['b'])\n",
    "print(obj[1])\n",
    "\n",
    "#get c and d\n",
    "print(obj[2:4])\n",
    "\n",
    "print(obj[['b', 'a', 'd']])\n",
    "\n",
    "#logical indexing\n",
    "print(obj[obj < 2])"
   ]
  },
  {
   "cell_type": "markdown",
   "id": "58f16d2c-ba64-42dc-9949-a05dc5a75cc7",
   "metadata": {},
   "source": [
    "**NOTE:** slicing in pandas is different from normal pandas in that, the <u>endpoints are inclusive</u>"
   ]
  },
  {
   "cell_type": "code",
   "execution_count": 98,
   "id": "528cbafe-4a2e-4e43-94df-9865ab642070",
   "metadata": {},
   "outputs": [
    {
     "name": "stdout",
     "output_type": "stream",
     "text": [
      "b    1.0\n",
      "c    2.0\n",
      "dtype: float64\n",
      "a    0.0\n",
      "b    5.0\n",
      "c    5.0\n",
      "d    3.0\n",
      "dtype: float64\n"
     ]
    }
   ],
   "source": [
    "#slicing directly with index labels\n",
    "print(obj['b':'c'])\n",
    "\n",
    "#setting these methods modifies teh corresponding section of the series\n",
    "\n",
    "obj['b':'c'] = 5\n",
    "print(obj)"
   ]
  },
  {
   "cell_type": "code",
   "execution_count": 108,
   "id": "69828096-722b-4bce-a894-3edb6bcf4edc",
   "metadata": {},
   "outputs": [
    {
     "name": "stdout",
     "output_type": "stream",
     "text": [
      "          two  three  four\n",
      "Ohio        1      2     3\n",
      "Colorado    5      6     7\n",
      "Ohio         2\n",
      "Colorado     6\n",
      "Utah        10\n",
      "New York    14\n",
      "Name: three, dtype: int64\n",
      "Ohio        False\n",
      "Colorado     True\n",
      "Utah         True\n",
      "New York     True\n",
      "Name: three, dtype: bool\n",
      "          two  three  four\n",
      "Colorado    5      6     7\n",
      "Utah        9     10    11\n",
      "New York   13     14    15\n",
      "            two  three   four\n",
      "Ohio       True   True   True\n",
      "Colorado  False  False  False\n",
      "Utah      False  False  False\n",
      "New York  False  False  False\n"
     ]
    }
   ],
   "source": [
    "#slicing automatically selects columns\n",
    "print(data[:2])\n",
    "\n",
    "print(data['three'])\n",
    "\n",
    "print(data['three'] > 5)\n",
    "print(data[data['three'] > 5])\n",
    "\n",
    "print(data < 5)"
   ]
  },
  {
   "cell_type": "markdown",
   "id": "78493669-6132-47ea-9c74-8ce66b75ecf3",
   "metadata": {},
   "source": [
    "### Selecting with loc and iloc\n",
    "for label-indexing on the rows, you use *loc* and *iloc*. they enable you to select a subset of rows and columns from a Dtaframe with NumPy-like notation: either by using the axis labels (loc) or integers (iloc)"
   ]
  },
  {
   "cell_type": "code",
   "execution_count": 113,
   "id": "f76998a0-4f24-4a5a-b765-b0137550b81f",
   "metadata": {},
   "outputs": [
    {
     "name": "stdout",
     "output_type": "stream",
     "text": [
      "          two  three  four\n",
      "Ohio        1      2     3\n",
      "Colorado    5      6     7\n",
      "Utah        9     10    11\n",
      "New York   13     14    15\n",
      "two      5\n",
      "three    6\n",
      "Name: Colorado, dtype: int64\n",
      "two      5\n",
      "three    6\n",
      "Name: Colorado, dtype: int64\n"
     ]
    }
   ],
   "source": [
    "print(data)\n",
    "\n",
    "#selecting a single row, and multiple columns by label\n",
    "print(data.loc['Colorado', ['two', 'three']])\n",
    "\n",
    "#an equivalent selection with integers\n",
    "print(data.iloc[1, [0, 1]])"
   ]
  },
  {
   "cell_type": "code",
   "execution_count": 114,
   "id": "185b9c1b-6ad9-4277-8085-dba10955826f",
   "metadata": {},
   "outputs": [
    {
     "name": "stdout",
     "output_type": "stream",
     "text": [
      "Ohio        1\n",
      "Colorado    5\n",
      "Utah        9\n",
      "Name: two, dtype: int64\n",
      "          two  three  four\n",
      "Ohio        1      2     3\n",
      "Colorado    5      6     7\n",
      "Utah        9     10    11\n",
      "New York   13     14    15\n",
      "          two  three  four\n",
      "Colorado    5      6     7\n",
      "Utah        9     10    11\n",
      "New York   13     14    15\n"
     ]
    }
   ],
   "source": [
    "#both indexing functions work with slices in adition to single labels\n",
    "print(data.loc[:'Utah', 'two'])\n",
    "\n",
    "print(data.iloc[:, :3])\n",
    "print(data.iloc[:, :3][data.three > 5])"
   ]
  },
  {
   "cell_type": "markdown",
   "id": "05cb3565-022f-4b91-ada9-e34fbfbb8f2f",
   "metadata": {},
   "source": [
    "### Table 5-4, Indexing Options with DataFrame\n",
    "* df[val] - Select a single column, or sequence of columns from the data frame; special case conveniances: boolean array (filter rows), slice (slice rows), or boolean DataFrame (set values based on some criterion\n",
    "* df.loc[val] - select a single row, or subset of rows, from the DataFrame by label\n",
    "* df.loc[:, val] - selects single column or subset of columns by label\n",
    "* df.loc[val1, val2] - selects both rows and coumns by label\n",
    "* df.iloc[where] select single row or subset row from the DataFrame by integer posision\n",
    "* df.iloc[:, where] - selects single column or subset of columns by integer position\n",
    "* df.iloc[where_i, where_j] - selects both rows and columns by integer position\n",
    "* df.at[label_i, label_j] - selects a single scalar value by row and column label\n",
    "* df.iat[i, j] - selects a single scalar value by row and column position (integers)\n",
    "* reindex method - select either rows or columns by labels\n",
    "* get_value, set_value methods - select a single value by row and column labels"
   ]
  },
  {
   "cell_type": "markdown",
   "id": "d1b1b49c-1c41-444f-afa7-8a789fa921ed",
   "metadata": {},
   "source": [
    "if you have an axis index containing integer, data selection will always be label-oriented. for more precision handling use *loc* and *iloc*\n",
    "\n",
    "on the other hand **slicing with integers is always integer oriented**"
   ]
  },
  {
   "cell_type": "markdown",
   "id": "2f2b9701-fe35-4ce0-9603-cdfd1f6b4f56",
   "metadata": {},
   "source": [
    "### Arithmetic and Data Alighment\n",
    "when adding together objects, if any index pairs are not the same, the respective index in teh result will be the union of the index pairs. siliar to *automatic outer join* in databases "
   ]
  },
  {
   "cell_type": "markdown",
   "id": "2074b30b-53d4-4bf4-b699-7bb92fa024a0",
   "metadata": {},
   "source": [
    "### function applications and mapping\n",
    "NumPy functions also work with pandas objects"
   ]
  },
  {
   "cell_type": "code",
   "execution_count": 116,
   "id": "351da167-19d9-4fd2-9300-1fecb5a5a722",
   "metadata": {},
   "outputs": [
    {
     "name": "stdout",
     "output_type": "stream",
     "text": [
      "               b         d         e\n",
      "Utah   -0.702725  1.461847 -0.600543\n",
      "Ohio   -0.878414  0.159343 -0.268247\n",
      "Texas  -0.462516 -2.476017 -1.829872\n",
      "Oregon -1.443210 -0.342621 -1.251918\n",
      "               b         d         e\n",
      "Utah    0.702725  1.461847  0.600543\n",
      "Ohio    0.878414  0.159343  0.268247\n",
      "Texas   0.462516  2.476017  1.829872\n",
      "Oregon  1.443210  0.342621  1.251918\n"
     ]
    }
   ],
   "source": [
    "frame = pd.DataFrame(np.random.randn(4, 3), columns=list('bde'), index = ['Utah', 'Ohio', 'Texas', 'Oregon'])\n",
    "print(frame)\n",
    "\n",
    "print(np.abs(frame))"
   ]
  },
  {
   "cell_type": "code",
   "execution_count": 120,
   "id": "c97c2b18-bb89-4e6c-b0de-4627291bb5f7",
   "metadata": {},
   "outputs": [
    {
     "name": "stdout",
     "output_type": "stream",
     "text": [
      "b    0.980694\n",
      "d    3.937864\n",
      "e    1.561625\n",
      "dtype: float64\n",
      "Utah      2.164572\n",
      "Ohio      1.037757\n",
      "Texas     2.013501\n",
      "Oregon    1.100588\n",
      "dtype: float64\n"
     ]
    }
   ],
   "source": [
    "#apply\n",
    "#another frequent operation is applying a function on one-dimensional arrays to each column or row. DataFrames apply method does exactly this\n",
    "f = lambda x: x.max() - x.min()\n",
    "\n",
    "#here function f, which computes the difference betwen the maximum and minimu of a Series, if invoked once on each column in frame,\n",
    "#    the result is a Series having the oclumns of frame as its index. you can pass axis='columns' to apply the function per row instead\n",
    "print(frame.apply(f))\n",
    "print(frame.apply(f, axis=1))"
   ]
  },
  {
   "cell_type": "markdown",
   "id": "c296784d-e716-4ce1-9644-a44562074129",
   "metadata": {},
   "source": [
    "### Summarizing and Computing Descriptinve Statistics\n",
    "pandas objects are equiped with a set of common mathematical and statistical methods. Most of these fall into the category of *reductions* or *summary statistics*. methods that extract a single value from a Series or a Seris of values from the rows or columns of a DataFrame"
   ]
  },
  {
   "cell_type": "code",
   "execution_count": 123,
   "id": "bfb7b791-d205-4beb-b85c-0e0acf8ca57a",
   "metadata": {},
   "outputs": [
    {
     "name": "stdout",
     "output_type": "stream",
     "text": [
      "    one  two\n",
      "a  1.30  NaN\n",
      "b  7.10 -4.5\n",
      "c   NaN  NaN\n",
      "d  0.75 -1.3\n"
     ]
    }
   ],
   "source": [
    "df = pd.DataFrame([[1.3, np.nan], [7.1, -4.5], [np.nan, np.nan], [0.75, -1.3]], index = ['a', 'b', 'c', 'd'], columns = ['one', 'two'])\n",
    "print(df)"
   ]
  },
  {
   "cell_type": "code",
   "execution_count": 124,
   "id": "f67ac4bd-4a0d-4aea-8977-7a7390a00d46",
   "metadata": {},
   "outputs": [
    {
     "name": "stdout",
     "output_type": "stream",
     "text": [
      "one    9.15\n",
      "two   -5.80\n",
      "dtype: float64\n"
     ]
    }
   ],
   "source": [
    "#print sum of columns (across rows)\n",
    "print(df.sum())"
   ]
  },
  {
   "cell_type": "code",
   "execution_count": 126,
   "id": "4d2e338a-bcf6-4f19-b120-0b6c9640000b",
   "metadata": {},
   "outputs": [
    {
     "name": "stdout",
     "output_type": "stream",
     "text": [
      "a    1.30\n",
      "b    2.60\n",
      "c    0.00\n",
      "d   -0.55\n",
      "dtype: float64\n"
     ]
    }
   ],
   "source": [
    "#print sum of rows (across columns)\n",
    "print(df.sum(axis=1))"
   ]
  },
  {
   "cell_type": "markdown",
   "id": "2ae54ff1-d58c-4a82-985c-4ce4ae566233",
   "metadata": {},
   "source": [
    "NA values are excluded unless the entire slice is NA, this can be disabled wit the skipna option"
   ]
  },
  {
   "cell_type": "code",
   "execution_count": 127,
   "id": "c9d9d50f-b0ce-4a36-88e3-f43f8790e43e",
   "metadata": {},
   "outputs": [
    {
     "name": "stdout",
     "output_type": "stream",
     "text": [
      "a      NaN\n",
      "b    1.300\n",
      "c      NaN\n",
      "d   -0.275\n",
      "dtype: float64\n"
     ]
    }
   ],
   "source": [
    "print(df.mean(axis='columns', skipna=False))"
   ]
  },
  {
   "cell_type": "code",
   "execution_count": 128,
   "id": "52d32c03-36fa-4b1a-a38f-6630bb0b78a8",
   "metadata": {},
   "outputs": [
    {
     "name": "stdout",
     "output_type": "stream",
     "text": [
      "a    1.300\n",
      "b    1.300\n",
      "c      NaN\n",
      "d   -0.275\n",
      "dtype: float64\n"
     ]
    }
   ],
   "source": [
    "print(df.mean(axis='columns', skipna=True))"
   ]
  },
  {
   "cell_type": "markdown",
   "id": "121c9c43-7d4c-4494-b69d-cef5887a8f8f",
   "metadata": {},
   "source": [
    "some methods, like *idxmin* and *idxmax* return indirect statistics"
   ]
  },
  {
   "cell_type": "code",
   "execution_count": 129,
   "id": "61ef4fe3-6d8e-405b-9baf-007abac8e115",
   "metadata": {},
   "outputs": [
    {
     "name": "stdout",
     "output_type": "stream",
     "text": [
      "one    b\n",
      "two    d\n",
      "dtype: object\n"
     ]
    }
   ],
   "source": [
    "#return index with max value\n",
    "print(df.idxmax())"
   ]
  },
  {
   "cell_type": "code",
   "execution_count": 131,
   "id": "d45d1749-87af-4140-a353-82f4fe4321cb",
   "metadata": {},
   "outputs": [
    {
     "name": "stdout",
     "output_type": "stream",
     "text": [
      "one    d\n",
      "two    b\n",
      "dtype: object\n"
     ]
    }
   ],
   "source": [
    "#return index with minimum value\n",
    "print(df.idxmin())"
   ]
  },
  {
   "cell_type": "markdown",
   "id": "e3d96d17-4a2b-42e5-919f-4dc86a471777",
   "metadata": {},
   "source": [
    "other methods are *accumulations*"
   ]
  },
  {
   "cell_type": "code",
   "execution_count": 132,
   "id": "38fea5aa-57d4-4818-bc59-cd04171968ca",
   "metadata": {},
   "outputs": [
    {
     "name": "stdout",
     "output_type": "stream",
     "text": [
      "    one  two\n",
      "a  1.30  NaN\n",
      "b  8.40 -4.5\n",
      "c   NaN  NaN\n",
      "d  9.15 -5.8\n"
     ]
    }
   ],
   "source": [
    "#get teh cumulative sum of df\n",
    "print(df.cumsum())"
   ]
  },
  {
   "cell_type": "markdown",
   "id": "a826b1c6-25b1-4479-8cc5-efa7991eab88",
   "metadata": {},
   "source": [
    "### Correlation and Covariance\n",
    "some summary statistics, like *correlation* and *covariance*, are computed from pairs of arguments"
   ]
  },
  {
   "cell_type": "code",
   "execution_count": 135,
   "id": "3bc361f9-6961-499d-a89f-ae599ef0501e",
   "metadata": {},
   "outputs": [
    {
     "name": "stdout",
     "output_type": "stream",
     "text": [
      "{'AAPL':                   High         Low        Open       Close       Volume  \\\n",
      "Date                                                                      \n",
      "2016-08-26   26.987499   26.577499   26.852501   26.735001  111065200.0   \n",
      "2016-08-29   26.860001   26.572500   26.655001   26.705000   99881200.0   \n",
      "2016-08-30   26.625000   26.375000   26.450001   26.500000   99455600.0   \n",
      "2016-08-31   26.642500   26.410000   26.415001   26.525000  118649600.0   \n",
      "2016-09-01   26.700001   26.405001   26.535000   26.682501  106806000.0   \n",
      "...                ...         ...         ...         ...          ...   \n",
      "2021-08-19  148.000000  144.500000  145.029999  146.699997   86960300.0   \n",
      "2021-08-20  148.500000  146.779999  147.440002  148.190002   59947400.0   \n",
      "2021-08-23  150.190002  147.889999  148.309998  149.710007   60131800.0   \n",
      "2021-08-24  150.860001  149.149994  149.449997  149.619995   48606400.0   \n",
      "2021-08-25  150.320007  147.800003  149.809998  148.360001   57790733.0   \n",
      "\n",
      "             Adj Close  \n",
      "Date                    \n",
      "2016-08-26   25.073166  \n",
      "2016-08-29   25.045031  \n",
      "2016-08-30   24.852774  \n",
      "2016-08-31   24.876219  \n",
      "2016-09-01   25.023932  \n",
      "...                ...  \n",
      "2021-08-19  146.699997  \n",
      "2021-08-20  148.190002  \n",
      "2021-08-23  149.710007  \n",
      "2021-08-24  149.619995  \n",
      "2021-08-25  148.360001  \n",
      "\n",
      "[1258 rows x 6 columns], 'IBM':                   High         Low        Open       Close     Volume  \\\n",
      "Date                                                                    \n",
      "2016-08-26  160.440002  157.850006  158.880005  158.320007  2498900.0   \n",
      "2016-08-29  160.210007  158.500000  158.830002  159.720001  2475900.0   \n",
      "2016-08-30  160.149994  158.809998  159.759995  159.399994  1813300.0   \n",
      "2016-08-31  159.660004  158.259995  159.660004  158.880005  2323600.0   \n",
      "2016-09-01  159.619995  158.100006  158.320007  159.539993  2358400.0   \n",
      "...                ...         ...         ...         ...        ...   \n",
      "2021-08-19  139.449997  137.210007  138.690002  138.020004  4160100.0   \n",
      "2021-08-20  139.380005  137.270004  137.740005  139.110001  2656300.0   \n",
      "2021-08-23  140.149994  138.800003  139.619995  139.619995  3039600.0   \n",
      "2021-08-24  140.229996  139.320007  139.779999  139.839996  2365600.0   \n",
      "2021-08-25  140.800003  139.475006  139.919998  139.860001  1957777.0   \n",
      "\n",
      "             Adj Close  \n",
      "Date                    \n",
      "2016-08-26  126.406105  \n",
      "2016-08-29  127.523842  \n",
      "2016-08-30  127.268356  \n",
      "2016-08-31  126.853180  \n",
      "2016-09-01  127.380173  \n",
      "...                ...  \n",
      "2021-08-19  138.020004  \n",
      "2021-08-20  139.110001  \n",
      "2021-08-23  139.619995  \n",
      "2021-08-24  139.839996  \n",
      "2021-08-25  139.860001  \n",
      "\n",
      "[1258 rows x 6 columns], 'MSFT':                   High         Low        Open       Close      Volume  \\\n",
      "Date                                                                     \n",
      "2016-08-26   58.700001   57.689999   58.279999   58.029999  20971200.0   \n",
      "2016-08-29   58.599998   58.099998   58.180000   58.099998  16417200.0   \n",
      "2016-08-30   58.189999   57.610001   57.980000   57.889999  16930200.0   \n",
      "2016-08-31   57.799999   57.299999   57.650002   57.459999  20860300.0   \n",
      "2016-09-01   57.820000   57.009998   57.009998   57.590000  26075400.0   \n",
      "...                ...         ...         ...         ...         ...   \n",
      "2021-08-19  297.470001  288.640015  288.690002  296.769989  29850500.0   \n",
      "2021-08-20  305.839996  298.059998  299.720001  304.359985  40796100.0   \n",
      "2021-08-23  305.399994  301.850006  303.250000  304.649994  22830200.0   \n",
      "2021-08-24  305.649994  302.000000  305.019989  302.619995  18175800.0   \n",
      "2021-08-25  304.589996  300.420013  304.299988  302.010010  17057369.0   \n",
      "\n",
      "             Adj Close  \n",
      "Date                    \n",
      "2016-08-26   53.691029  \n",
      "2016-08-29   53.755795  \n",
      "2016-08-30   53.561485  \n",
      "2016-08-31   53.163647  \n",
      "2016-09-01   53.283924  \n",
      "...                ...  \n",
      "2021-08-19  296.769989  \n",
      "2021-08-20  304.359985  \n",
      "2021-08-23  304.649994  \n",
      "2021-08-24  302.619995  \n",
      "2021-08-25  302.010010  \n",
      "\n",
      "[1258 rows x 6 columns], 'GOOG':                    High          Low         Open        Close   Volume  \\\n",
      "Date                                                                      \n",
      "2016-08-26   776.080017   765.849976   769.000000   769.539978  1166700   \n",
      "2016-08-29   774.989990   766.614990   768.739990   772.150024   847600   \n",
      "2016-08-30   774.466003   766.840027   769.330017   769.090027  1130000   \n",
      "2016-08-31   769.090027   765.380005   767.010010   767.049988  1248600   \n",
      "2016-09-01   771.020020   764.299988   769.250000   768.780029   925100   \n",
      "...                 ...          ...          ...          ...      ...   \n",
      "2021-08-19  2749.040039  2707.120117  2709.350098  2738.270020   914800   \n",
      "2021-08-20  2772.290039  2729.340088  2741.659912  2768.739990   778200   \n",
      "2021-08-23  2843.540039  2774.958984  2779.969971  2821.989990  1054500   \n",
      "2021-08-24  2860.149902  2827.070068  2830.870117  2847.969971   756300   \n",
      "2021-08-25  2866.260010  2849.120117  2857.659912  2859.000000   628711   \n",
      "\n",
      "              Adj Close  \n",
      "Date                     \n",
      "2016-08-26   769.539978  \n",
      "2016-08-29   772.150024  \n",
      "2016-08-30   769.090027  \n",
      "2016-08-31   767.049988  \n",
      "2016-09-01   768.780029  \n",
      "...                 ...  \n",
      "2021-08-19  2738.270020  \n",
      "2021-08-20  2768.739990  \n",
      "2021-08-23  2821.989990  \n",
      "2021-08-24  2847.969971  \n",
      "2021-08-25  2859.000000  \n",
      "\n",
      "[1258 rows x 6 columns]}\n"
     ]
    }
   ],
   "source": [
    "import pandas_datareader.data as web\n",
    "all_data = {ticker: web.get_data_yahoo(ticker) for ticker in ['AAPL', 'IBM', 'MSFT', 'GOOG']}\n",
    "print(all_data)"
   ]
  },
  {
   "cell_type": "code",
   "execution_count": 136,
   "id": "1b37fdb5-6a1a-4763-a956-9f0f5febd29c",
   "metadata": {},
   "outputs": [
    {
     "name": "stdout",
     "output_type": "stream",
     "text": [
      "                  AAPL         IBM        MSFT         GOOG\n",
      "Date                                                       \n",
      "2016-08-26   25.073166  126.406105   53.691029   769.539978\n",
      "2016-08-29   25.045031  127.523842   53.755795   772.150024\n",
      "2016-08-30   24.852774  127.268356   53.561485   769.090027\n",
      "2016-08-31   24.876219  126.853180   53.163647   767.049988\n",
      "2016-09-01   25.023932  127.380173   53.283924   768.780029\n",
      "...                ...         ...         ...          ...\n",
      "2021-08-19  146.699997  138.020004  296.769989  2738.270020\n",
      "2021-08-20  148.190002  139.110001  304.359985  2768.739990\n",
      "2021-08-23  149.710007  139.619995  304.649994  2821.989990\n",
      "2021-08-24  149.619995  139.839996  302.619995  2847.969971\n",
      "2021-08-25  148.360001  139.860001  302.010010  2859.000000\n",
      "\n",
      "[1258 rows x 4 columns]\n"
     ]
    }
   ],
   "source": [
    "price = pd.DataFrame({ticker: data['Adj Close'] for ticker, data in all_data.items()})\n",
    "print(price)"
   ]
  },
  {
   "cell_type": "code",
   "execution_count": 137,
   "id": "0783ed1e-3784-440e-81d5-406dda9b1909",
   "metadata": {},
   "outputs": [
    {
     "name": "stdout",
     "output_type": "stream",
     "text": [
      "                   AAPL        IBM        MSFT     GOOG\n",
      "Date                                                   \n",
      "2016-08-26  111065200.0  2498900.0  20971200.0  1166700\n",
      "2016-08-29   99881200.0  2475900.0  16417200.0   847600\n",
      "2016-08-30   99455600.0  1813300.0  16930200.0  1130000\n",
      "2016-08-31  118649600.0  2323600.0  20860300.0  1248600\n",
      "2016-09-01  106806000.0  2358400.0  26075400.0   925100\n",
      "...                 ...        ...         ...      ...\n",
      "2021-08-19   86960300.0  4160100.0  29850500.0   914800\n",
      "2021-08-20   59947400.0  2656300.0  40796100.0   778200\n",
      "2021-08-23   60131800.0  3039600.0  22830200.0  1054500\n",
      "2021-08-24   48606400.0  2365600.0  18175800.0   756300\n",
      "2021-08-25   57790733.0  1957777.0  17057369.0   628711\n",
      "\n",
      "[1258 rows x 4 columns]\n"
     ]
    }
   ],
   "source": [
    "volume = pd.DataFrame({ticker: data['Volume'] for ticker, data in all_data.items()})\n",
    "print(volume)"
   ]
  },
  {
   "cell_type": "code",
   "execution_count": 138,
   "id": "798e0b94-7b81-4b00-bbdf-014dd9bcc59a",
   "metadata": {},
   "outputs": [
    {
     "name": "stdout",
     "output_type": "stream",
     "text": [
      "                AAPL       IBM      MSFT      GOOG\n",
      "Date                                              \n",
      "2016-08-26       NaN       NaN       NaN       NaN\n",
      "2016-08-29 -0.001122  0.008842  0.001206  0.003392\n",
      "2016-08-30 -0.007676 -0.002003 -0.003615 -0.003963\n",
      "2016-08-31  0.000943 -0.003262 -0.007428 -0.002653\n",
      "2016-09-01  0.005938  0.004154  0.002262  0.002255\n",
      "...              ...       ...       ...       ...\n",
      "2021-08-19  0.002323 -0.010396  0.020775  0.002515\n",
      "2021-08-20  0.010157  0.007897  0.025575  0.011127\n",
      "2021-08-23  0.010257  0.003666  0.000953  0.019233\n",
      "2021-08-24 -0.000601  0.001576 -0.006663  0.009206\n",
      "2021-08-25 -0.008421  0.000143 -0.002016  0.003873\n",
      "\n",
      "[1258 rows x 4 columns]\n"
     ]
    }
   ],
   "source": [
    "returns = price.pct_change()\n",
    "print(returns)"
   ]
  },
  {
   "cell_type": "code",
   "execution_count": 139,
   "id": "f61ba510-0011-4c31-b4cf-1ddb3652e79b",
   "metadata": {},
   "outputs": [
    {
     "name": "stdout",
     "output_type": "stream",
     "text": [
      "0.5167814957608666\n",
      "0.00014544044572982248\n"
     ]
    }
   ],
   "source": [
    "#the coor method of Series computes the correlation of the overlapping, non-NA aligned-by-index values in two Series, cov computes the covariance\n",
    "print(returns['MSFT'].corr(returns['IBM']))\n",
    "\n",
    "print(returns['MSFT'].cov(returns['IBM']))"
   ]
  },
  {
   "cell_type": "code",
   "execution_count": null,
   "id": "88290c33-d790-4872-a8aa-bf1d0d0fc8dd",
   "metadata": {},
   "outputs": [],
   "source": []
  }
 ],
 "metadata": {
  "kernelspec": {
   "display_name": "Python 3",
   "language": "python",
   "name": "python3"
  },
  "language_info": {
   "codemirror_mode": {
    "name": "ipython",
    "version": 3
   },
   "file_extension": ".py",
   "mimetype": "text/x-python",
   "name": "python",
   "nbconvert_exporter": "python",
   "pygments_lexer": "ipython3",
   "version": "3.8.11"
  }
 },
 "nbformat": 4,
 "nbformat_minor": 5
}
