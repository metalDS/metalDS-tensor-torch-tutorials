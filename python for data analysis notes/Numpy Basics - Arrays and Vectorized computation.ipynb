{
 "cells": [
  {
   "cell_type": "markdown",
   "id": "fiscal-canal",
   "metadata": {},
   "source": [
    "# Numpy Basics - Arrays and Vectorized Computation\n",
    "numpy, short for Numerical Python, is an important foundational package for numerical computing. Most computational packages providing scientific functionality use NumpPy's array objects as *lingua franca* for data exchange. you'll find:\n",
    "* ndarray - an efficient multidemianional array providing fast array-oriented artihmetic operations and flexible *broadcasting* capabilities\n",
    "* mathematical functions for fast operations on entire arrays of dta without looping\n",
    "* tools for reading/writing array data to disk, and working with memory-mapped files\n",
    "* linearl algebra, RNG, and fourier transforms\n",
    "* A C API for connecting NumPy with libraries written in C, C++, or FORTRAN\n",
    "\n",
    "for data analysis, the main NumPy functionality involves:\n",
    "* Fast vectorized array operations for data munging and cleaning, subsetting and filtering, transformations, and any other kinds of computation\n",
    "* Common array algoritms like sorting, unique, and set operations\n",
    "* Efficient descriptive statistics and aggregating/summarizing data\n",
    "* Data alignment and relational data manipulation for mergin and joinng together heterogeneous datasets\n",
    "* Expressing conditional logic as array expressions instead of loops\n",
    "* group-wise data manipulations (aggregations, transformation, function application)\n",
    "\n",
    "one of the reasons why NumPy is so important for numerical conputation is because it is designed for efficiency on large arrays of data:\n",
    "* NumPy internally stores data in a contiguous block of memory, independant of other built-in python objects. NumPy's library of algorithms written in teh C language can operate on this memory without any type checking or other overhead. NumPy arrays also use much less memory than built-in python sequences\n",
    "* NumPy operations perform complex computations on entire arrays without the need for looping\n",
    "\n",
    "speed comparison"
   ]
  },
  {
   "cell_type": "code",
   "execution_count": 1,
   "id": "individual-outline",
   "metadata": {},
   "outputs": [],
   "source": [
    "import numpy as np"
   ]
  },
  {
   "cell_type": "markdown",
   "id": "involved-relations",
   "metadata": {},
   "source": [
    "## numpy array vs list performance"
   ]
  },
  {
   "cell_type": "code",
   "execution_count": 2,
   "id": "vulnerable-confidence",
   "metadata": {},
   "outputs": [],
   "source": [
    "nElements = 1000000\n",
    "my_arr = np.arange(nElements)\n",
    "my_list = list(range(nElements))"
   ]
  },
  {
   "cell_type": "code",
   "execution_count": 3,
   "id": "ordered-quantity",
   "metadata": {},
   "outputs": [
    {
     "name": "stdout",
     "output_type": "stream",
     "text": [
      "Wall time: 17.8 ms\n"
     ]
    }
   ],
   "source": [
    "%time for _ in range(10): my_arr2 = my_arr * 2"
   ]
  },
  {
   "cell_type": "code",
   "execution_count": 4,
   "id": "copyrighted-officer",
   "metadata": {},
   "outputs": [
    {
     "name": "stdout",
     "output_type": "stream",
     "text": [
      "Wall time: 665 ms\n"
     ]
    }
   ],
   "source": [
    "%time for _ in range(10): my_list2 = [x * 2 for x in my_list]"
   ]
  },
  {
   "cell_type": "markdown",
   "id": "frequent-ebony",
   "metadata": {},
   "source": [
    "numpy arrays are generally 10 to 100 times faster (or more) than pure python, and use significantly less memory\n",
    "\n",
    "## The NumPy ndarray: a Multidimensional object\n",
    "ndarrays allow you to perform mathematical operations on whole blocks of data, using similar syntax to the operations between scalar objects."
   ]
  },
  {
   "cell_type": "code",
   "execution_count": 5,
   "id": "israeli-working",
   "metadata": {},
   "outputs": [],
   "source": [
    "#generate some random data\n",
    "data = np.random.randn(2, 3)"
   ]
  },
  {
   "cell_type": "code",
   "execution_count": 6,
   "id": "compressed-retrieval",
   "metadata": {},
   "outputs": [
    {
     "data": {
      "text/plain": [
       "array([[-1.7960466 , -1.15881259,  0.06573119],\n",
       "       [-1.18181815,  2.4430217 ,  0.06495519]])"
      ]
     },
     "execution_count": 6,
     "metadata": {},
     "output_type": "execute_result"
    }
   ],
   "source": [
    "data"
   ]
  },
  {
   "cell_type": "code",
   "execution_count": 7,
   "id": "social-reunion",
   "metadata": {},
   "outputs": [
    {
     "data": {
      "text/plain": [
       "array([[-17.96046595, -11.58812591,   0.65731193],\n",
       "       [-11.81818154,  24.43021696,   0.64955187]])"
      ]
     },
     "execution_count": 7,
     "metadata": {},
     "output_type": "execute_result"
    }
   ],
   "source": [
    "#multiply every element by 10\n",
    "data * 10"
   ]
  },
  {
   "cell_type": "code",
   "execution_count": 8,
   "id": "commercial-limitation",
   "metadata": {},
   "outputs": [
    {
     "data": {
      "text/plain": [
       "array([[-3.59209319, -2.31762518,  0.13146239],\n",
       "       [-2.36363631,  4.88604339,  0.12991037]])"
      ]
     },
     "execution_count": 8,
     "metadata": {},
     "output_type": "execute_result"
    }
   ],
   "source": [
    "#add data with itsef\n",
    "data + data"
   ]
  },
  {
   "cell_type": "markdown",
   "id": "competitive-evolution",
   "metadata": {},
   "source": [
    "an ndarray is a generic multidimensional container for homogeneous data. every array has a *shape*, which is a tuple indicating the size of each dimension, and a *dtype* an object describing the **datatype** of the array."
   ]
  },
  {
   "cell_type": "code",
   "execution_count": 9,
   "id": "unexpected-handling",
   "metadata": {},
   "outputs": [
    {
     "data": {
      "text/plain": [
       "(2, 3)"
      ]
     },
     "execution_count": 9,
     "metadata": {},
     "output_type": "execute_result"
    }
   ],
   "source": [
    "#numpy is row major\n",
    "#first dimension - number of rows\n",
    "#second dimension - number of columns\n",
    "data.shape"
   ]
  },
  {
   "cell_type": "code",
   "execution_count": 10,
   "id": "robust-logic",
   "metadata": {},
   "outputs": [
    {
     "data": {
      "text/plain": [
       "dtype('float64')"
      ]
     },
     "execution_count": 10,
     "metadata": {},
     "output_type": "execute_result"
    }
   ],
   "source": [
    "data.dtype"
   ]
  },
  {
   "cell_type": "markdown",
   "id": "alive-illustration",
   "metadata": {},
   "source": [
    "## creating ndarrays"
   ]
  },
  {
   "cell_type": "code",
   "execution_count": 11,
   "id": "immediate-spyware",
   "metadata": {},
   "outputs": [],
   "source": [
    "#numpy accepts any sequence-like object (including other arrays)\n",
    "data1 = [6, 7.5, 8, 0, 1]\n",
    "\n",
    "arr1 = np.array(data1)"
   ]
  },
  {
   "cell_type": "code",
   "execution_count": 12,
   "id": "sweet-allocation",
   "metadata": {},
   "outputs": [
    {
     "data": {
      "text/plain": [
       "array([6. , 7.5, 8. , 0. , 1. ])"
      ]
     },
     "execution_count": 12,
     "metadata": {},
     "output_type": "execute_result"
    }
   ],
   "source": [
    "arr1"
   ]
  },
  {
   "cell_type": "code",
   "execution_count": 13,
   "id": "naughty-provision",
   "metadata": {},
   "outputs": [],
   "source": [
    "#nested sequences will be converted into a multi-dimensional array\n",
    "#note how we define by rows\n",
    "data2 = [[1, 2, 3, 4], [5, 6, 7, 8]]\n",
    "arr2 = np.array(data2)"
   ]
  },
  {
   "cell_type": "code",
   "execution_count": 14,
   "id": "favorite-journalist",
   "metadata": {},
   "outputs": [
    {
     "data": {
      "text/plain": [
       "array([[1, 2, 3, 4],\n",
       "       [5, 6, 7, 8]])"
      ]
     },
     "execution_count": 14,
     "metadata": {},
     "output_type": "execute_result"
    }
   ],
   "source": [
    "arr2"
   ]
  },
  {
   "cell_type": "code",
   "execution_count": 15,
   "id": "experienced-label",
   "metadata": {},
   "outputs": [
    {
     "data": {
      "text/plain": [
       "2"
      ]
     },
     "execution_count": 15,
     "metadata": {},
     "output_type": "execute_result"
    }
   ],
   "source": [
    "#arr2 has two dimensions, inferred from the data\n",
    "arr2.ndim"
   ]
  },
  {
   "cell_type": "code",
   "execution_count": 16,
   "id": "present-webcam",
   "metadata": {},
   "outputs": [
    {
     "data": {
      "text/plain": [
       "(2, 4)"
      ]
     },
     "execution_count": 16,
     "metadata": {},
     "output_type": "execute_result"
    }
   ],
   "source": [
    "arr2.shape"
   ]
  },
  {
   "cell_type": "code",
   "execution_count": 17,
   "id": "nasty-nerve",
   "metadata": {},
   "outputs": [
    {
     "data": {
      "text/plain": [
       "dtype('int32')"
      ]
     },
     "execution_count": 17,
     "metadata": {},
     "output_type": "execute_result"
    }
   ],
   "source": [
    "#unless explicitly specified, np.array tries to infer a good data type for the type of value it tries to store\n",
    "#this is stored in a dtype metadata object\n",
    "arr2.dtype"
   ]
  },
  {
   "cell_type": "markdown",
   "id": "elder-personality",
   "metadata": {},
   "source": [
    "there are a number of functions for creating new arrays. specialized functions such as *zeros* and *ones*"
   ]
  },
  {
   "cell_type": "code",
   "execution_count": 18,
   "id": "intimate-plain",
   "metadata": {},
   "outputs": [
    {
     "data": {
      "text/plain": [
       "array([0., 0., 0., 0., 0., 0., 0., 0., 0., 0.])"
      ]
     },
     "execution_count": 18,
     "metadata": {},
     "output_type": "execute_result"
    }
   ],
   "source": [
    "np.zeros(10)"
   ]
  },
  {
   "cell_type": "code",
   "execution_count": 19,
   "id": "starting-belief",
   "metadata": {},
   "outputs": [
    {
     "data": {
      "text/plain": [
       "array([1., 1., 1., 1., 1., 1., 1., 1., 1., 1.])"
      ]
     },
     "execution_count": 19,
     "metadata": {},
     "output_type": "execute_result"
    }
   ],
   "source": [
    "np.ones(10)"
   ]
  },
  {
   "cell_type": "markdown",
   "id": "amazing-guard",
   "metadata": {},
   "source": [
    "*empty* which creates an array with no initialized values"
   ]
  },
  {
   "cell_type": "code",
   "execution_count": 20,
   "id": "horizontal-sierra",
   "metadata": {},
   "outputs": [
    {
     "data": {
      "text/plain": [
       "array([[[1.01855798e-312, 1.03977794e-312],\n",
       "        [1.01855798e-312, 9.54898106e-313],\n",
       "        [1.08221785e-312, 1.01855798e-312]],\n",
       "\n",
       "       [[1.23075756e-312, 1.14587773e-312],\n",
       "        [1.10343781e-312, 9.76118064e-313],\n",
       "        [1.08221785e-312, 1.90979621e-312]]])"
      ]
     },
     "execution_count": 20,
     "metadata": {},
     "output_type": "execute_result"
    }
   ],
   "source": [
    "np.empty((2, 3, 2))"
   ]
  },
  {
   "cell_type": "markdown",
   "id": "indian-christianity",
   "metadata": {},
   "source": [
    "**NOTE:** empty **does not initialize values** this means that the values in the array are whatever garbage data was left over before. a more correct use (i think) is as such"
   ]
  },
  {
   "cell_type": "code",
   "execution_count": 21,
   "id": "considerable-formula",
   "metadata": {},
   "outputs": [
    {
     "data": {
      "text/plain": [
       "array([], shape=(0, 10), dtype=float64)"
      ]
     },
     "execution_count": 21,
     "metadata": {},
     "output_type": "execute_result"
    }
   ],
   "source": [
    "#no rows and ten columns\n",
    "np.empty((0, 10))"
   ]
  },
  {
   "cell_type": "markdown",
   "id": "indirect-budapest",
   "metadata": {},
   "source": [
    "arange is an array-valued version of the built-in python range function"
   ]
  },
  {
   "cell_type": "code",
   "execution_count": 22,
   "id": "corrected-coffee",
   "metadata": {},
   "outputs": [
    {
     "data": {
      "text/plain": [
       "array([ 0,  1,  2,  3,  4,  5,  6,  7,  8,  9, 10, 11, 12, 13, 14])"
      ]
     },
     "execution_count": 22,
     "metadata": {},
     "output_type": "execute_result"
    }
   ],
   "source": [
    "np.arange(15)"
   ]
  },
  {
   "cell_type": "markdown",
   "id": "aware-bachelor",
   "metadata": {},
   "source": [
    "### datatypes for ndarrays\n",
    "each array has a *dtype* contaiing metadata that the array needs to interpret a chunk of memory. dtypes are a source of flexibility for interacting with data coming from other systems. they provide a mapping directly to an underlying disk, or memory representation. you can cast arrays from one type to another"
   ]
  },
  {
   "cell_type": "code",
   "execution_count": 23,
   "id": "systematic-raleigh",
   "metadata": {},
   "outputs": [],
   "source": [
    "arr = np.array([1, 2, 3, 4, 5])"
   ]
  },
  {
   "cell_type": "code",
   "execution_count": 24,
   "id": "developmental-socket",
   "metadata": {},
   "outputs": [
    {
     "data": {
      "text/plain": [
       "dtype('int32')"
      ]
     },
     "execution_count": 24,
     "metadata": {},
     "output_type": "execute_result"
    }
   ],
   "source": [
    "arr.dtype"
   ]
  },
  {
   "cell_type": "code",
   "execution_count": 25,
   "id": "moderate-abuse",
   "metadata": {},
   "outputs": [],
   "source": [
    "float_arr = arr.astype(np.float64)"
   ]
  },
  {
   "cell_type": "code",
   "execution_count": 26,
   "id": "marked-weight",
   "metadata": {},
   "outputs": [
    {
     "data": {
      "text/plain": [
       "dtype('float64')"
      ]
     },
     "execution_count": 26,
     "metadata": {},
     "output_type": "execute_result"
    }
   ],
   "source": [
    "float_arr.dtype"
   ]
  },
  {
   "cell_type": "markdown",
   "id": "after-apparel",
   "metadata": {},
   "source": [
    "you can convert string representations of numbers to their actual type, be careful with this though"
   ]
  },
  {
   "cell_type": "code",
   "execution_count": 27,
   "id": "communist-swift",
   "metadata": {},
   "outputs": [],
   "source": [
    "numeric_strings = np.array(['1.25', '-9.6', '42'], dtype=np.string_)"
   ]
  },
  {
   "cell_type": "code",
   "execution_count": 28,
   "id": "differential-international",
   "metadata": {},
   "outputs": [
    {
     "data": {
      "text/plain": [
       "array([b'1.25', b'-9.6', b'42'], dtype='|S4')"
      ]
     },
     "execution_count": 28,
     "metadata": {},
     "output_type": "execute_result"
    }
   ],
   "source": [
    "numeric_strings"
   ]
  },
  {
   "cell_type": "code",
   "execution_count": 29,
   "id": "fiscal-california",
   "metadata": {},
   "outputs": [
    {
     "data": {
      "text/plain": [
       "array([ 1.25, -9.6 , 42.  ])"
      ]
     },
     "execution_count": 29,
     "metadata": {},
     "output_type": "execute_result"
    }
   ],
   "source": [
    "numeric_strings.astype(float)"
   ]
  },
  {
   "cell_type": "markdown",
   "id": "integrated-result",
   "metadata": {},
   "source": [
    "## Arithmetic with NumPy arrays\n",
    "arrays allow you do express batch operations on data without writing any for loops. numpy calls this *vectorization*. any arithmentic operations between equal-size arrays applies the operation element-wise"
   ]
  },
  {
   "cell_type": "code",
   "execution_count": 30,
   "id": "personalized-sharing",
   "metadata": {},
   "outputs": [],
   "source": [
    "arr = np.array([[1., 2., 3.], [4., 5. , 6.]])"
   ]
  },
  {
   "cell_type": "code",
   "execution_count": 31,
   "id": "needed-trailer",
   "metadata": {},
   "outputs": [
    {
     "data": {
      "text/plain": [
       "array([[1., 2., 3.],\n",
       "       [4., 5., 6.]])"
      ]
     },
     "execution_count": 31,
     "metadata": {},
     "output_type": "execute_result"
    }
   ],
   "source": [
    "arr"
   ]
  },
  {
   "cell_type": "code",
   "execution_count": 32,
   "id": "compressed-classics",
   "metadata": {},
   "outputs": [
    {
     "data": {
      "text/plain": [
       "array([[ 1.,  4.,  9.],\n",
       "       [16., 25., 36.]])"
      ]
     },
     "execution_count": 32,
     "metadata": {},
     "output_type": "execute_result"
    }
   ],
   "source": [
    "arr * arr"
   ]
  },
  {
   "cell_type": "code",
   "execution_count": 33,
   "id": "lesbian-synthesis",
   "metadata": {},
   "outputs": [
    {
     "data": {
      "text/plain": [
       "array([[0., 0., 0.],\n",
       "       [0., 0., 0.]])"
      ]
     },
     "execution_count": 33,
     "metadata": {},
     "output_type": "execute_result"
    }
   ],
   "source": [
    "arr - arr"
   ]
  },
  {
   "cell_type": "markdown",
   "id": "indian-frontier",
   "metadata": {},
   "source": [
    "arithmetic oeprations with scalars propagate the scalar argument to each element in the array (this is a part of the *broadcasting* functionality. the scalar is broadcasted to each element in the array)"
   ]
  },
  {
   "cell_type": "code",
   "execution_count": 34,
   "id": "higher-taylor",
   "metadata": {},
   "outputs": [
    {
     "data": {
      "text/plain": [
       "array([[1.        , 0.5       , 0.33333333],\n",
       "       [0.25      , 0.2       , 0.16666667]])"
      ]
     },
     "execution_count": 34,
     "metadata": {},
     "output_type": "execute_result"
    }
   ],
   "source": [
    "1 / arr"
   ]
  },
  {
   "cell_type": "code",
   "execution_count": 35,
   "id": "swedish-melbourne",
   "metadata": {},
   "outputs": [
    {
     "data": {
      "text/plain": [
       "array([[1.        , 1.41421356, 1.73205081],\n",
       "       [2.        , 2.23606798, 2.44948974]])"
      ]
     },
     "execution_count": 35,
     "metadata": {},
     "output_type": "execute_result"
    }
   ],
   "source": [
    "arr ** 0.5"
   ]
  },
  {
   "cell_type": "markdown",
   "id": "palestinian-disease",
   "metadata": {},
   "source": [
    "### boolean arrays\n",
    "comparisons between arrays yield boolean arrays"
   ]
  },
  {
   "cell_type": "code",
   "execution_count": 36,
   "id": "worse-shakespeare",
   "metadata": {},
   "outputs": [],
   "source": [
    "arr2 = np.array([[0., 3., 1.], [7., 2., 12.]])"
   ]
  },
  {
   "cell_type": "code",
   "execution_count": 37,
   "id": "detected-bryan",
   "metadata": {},
   "outputs": [
    {
     "data": {
      "text/plain": [
       "array([[ 0.,  3.,  1.],\n",
       "       [ 7.,  2., 12.]])"
      ]
     },
     "execution_count": 37,
     "metadata": {},
     "output_type": "execute_result"
    }
   ],
   "source": [
    "arr2"
   ]
  },
  {
   "cell_type": "code",
   "execution_count": 38,
   "id": "blank-mining",
   "metadata": {},
   "outputs": [
    {
     "data": {
      "text/plain": [
       "array([[False,  True, False],\n",
       "       [ True, False,  True]])"
      ]
     },
     "execution_count": 38,
     "metadata": {},
     "output_type": "execute_result"
    }
   ],
   "source": [
    "arr2 >= arr"
   ]
  },
  {
   "cell_type": "code",
   "execution_count": 39,
   "id": "twelve-supervisor",
   "metadata": {},
   "outputs": [
    {
     "data": {
      "text/plain": [
       "array([[False, False, False],\n",
       "       [ True, False,  True]])"
      ]
     },
     "execution_count": 39,
     "metadata": {},
     "output_type": "execute_result"
    }
   ],
   "source": [
    "#works with scalars, or other broadcastable arrays as well\n",
    "arr2 > 5"
   ]
  },
  {
   "cell_type": "markdown",
   "id": "laden-stationery",
   "metadata": {},
   "source": [
    "## Basic Indexing and Slicing\n",
    "\n",
    "One-dimensional array slicing behaves similariy to python lists"
   ]
  },
  {
   "cell_type": "code",
   "execution_count": 40,
   "id": "affected-vietnamese",
   "metadata": {},
   "outputs": [],
   "source": [
    "arr = np.arange(10)"
   ]
  },
  {
   "cell_type": "code",
   "execution_count": 41,
   "id": "cosmetic-investment",
   "metadata": {},
   "outputs": [
    {
     "data": {
      "text/plain": [
       "array([0, 1, 2, 3, 4, 5, 6, 7, 8, 9])"
      ]
     },
     "execution_count": 41,
     "metadata": {},
     "output_type": "execute_result"
    }
   ],
   "source": [
    "arr"
   ]
  },
  {
   "cell_type": "code",
   "execution_count": 42,
   "id": "passive-version",
   "metadata": {},
   "outputs": [
    {
     "data": {
      "text/plain": [
       "5"
      ]
     },
     "execution_count": 42,
     "metadata": {},
     "output_type": "execute_result"
    }
   ],
   "source": [
    "arr[5]"
   ]
  },
  {
   "cell_type": "code",
   "execution_count": 43,
   "id": "million-canada",
   "metadata": {},
   "outputs": [
    {
     "data": {
      "text/plain": [
       "array([5, 6, 7])"
      ]
     },
     "execution_count": 43,
     "metadata": {},
     "output_type": "execute_result"
    }
   ],
   "source": [
    "arr[5:8]"
   ]
  },
  {
   "cell_type": "code",
   "execution_count": 44,
   "id": "underlying-doctrine",
   "metadata": {},
   "outputs": [],
   "source": [
    "#you can assign to multiple elements\n",
    "arr[5:8] = 12"
   ]
  },
  {
   "cell_type": "code",
   "execution_count": 45,
   "id": "surprising-solomon",
   "metadata": {},
   "outputs": [
    {
     "data": {
      "text/plain": [
       "array([ 0,  1,  2,  3,  4, 12, 12, 12,  8,  9])"
      ]
     },
     "execution_count": 45,
     "metadata": {},
     "output_type": "execute_result"
    }
   ],
   "source": [
    "arr"
   ]
  },
  {
   "cell_type": "markdown",
   "id": "cloudy-description",
   "metadata": {},
   "source": [
    "an important distinction on *np.arrays* is that NumPy slices are **views on the data**. meaning that <u>the data is not copied, and modifications on teh view will be reflected to teh source array</u>. use the *copy* method to get a copy instead of a view."
   ]
  },
  {
   "cell_type": "code",
   "execution_count": 46,
   "id": "fitted-discount",
   "metadata": {},
   "outputs": [],
   "source": [
    "#create a view on np array\n",
    "arr_slice = arr[5:8]"
   ]
  },
  {
   "cell_type": "code",
   "execution_count": 47,
   "id": "signal-assessment",
   "metadata": {},
   "outputs": [
    {
     "data": {
      "text/plain": [
       "array([12, 12, 12])"
      ]
     },
     "execution_count": 47,
     "metadata": {},
     "output_type": "execute_result"
    }
   ],
   "source": [
    "arr_slice"
   ]
  },
  {
   "cell_type": "code",
   "execution_count": 48,
   "id": "median-limit",
   "metadata": {},
   "outputs": [],
   "source": [
    "#when you change the values in arr_slice, the mutations are reflected in the original array\n",
    "arr_slice[1] = 12345"
   ]
  },
  {
   "cell_type": "code",
   "execution_count": 49,
   "id": "better-parameter",
   "metadata": {},
   "outputs": [
    {
     "data": {
      "text/plain": [
       "array([   12, 12345,    12])"
      ]
     },
     "execution_count": 49,
     "metadata": {},
     "output_type": "execute_result"
    }
   ],
   "source": [
    "arr_slice"
   ]
  },
  {
   "cell_type": "code",
   "execution_count": 50,
   "id": "fleet-newman",
   "metadata": {},
   "outputs": [
    {
     "data": {
      "text/plain": [
       "array([    0,     1,     2,     3,     4,    12, 12345,    12,     8,\n",
       "           9])"
      ]
     },
     "execution_count": 50,
     "metadata": {},
     "output_type": "execute_result"
    }
   ],
   "source": [
    "arr"
   ]
  },
  {
   "cell_type": "code",
   "execution_count": 51,
   "id": "bibliographic-blackjack",
   "metadata": {},
   "outputs": [],
   "source": [
    "#if you want a copy of a slice instead of a view, you will explicitly use the copy method\n",
    "arr_copy = arr[5:8].copy()"
   ]
  },
  {
   "cell_type": "code",
   "execution_count": 52,
   "id": "modern-paintball",
   "metadata": {},
   "outputs": [
    {
     "data": {
      "text/plain": [
       "array([   12, 12345,    12])"
      ]
     },
     "execution_count": 52,
     "metadata": {},
     "output_type": "execute_result"
    }
   ],
   "source": [
    "arr_copy"
   ]
  },
  {
   "cell_type": "code",
   "execution_count": 53,
   "id": "requested-asbestos",
   "metadata": {},
   "outputs": [],
   "source": [
    "arr_copy[1] = 12"
   ]
  },
  {
   "cell_type": "code",
   "execution_count": 54,
   "id": "annoying-eagle",
   "metadata": {},
   "outputs": [
    {
     "data": {
      "text/plain": [
       "array([12, 12, 12])"
      ]
     },
     "execution_count": 54,
     "metadata": {},
     "output_type": "execute_result"
    }
   ],
   "source": [
    "arr_copy"
   ]
  },
  {
   "cell_type": "code",
   "execution_count": 55,
   "id": "polished-foundation",
   "metadata": {},
   "outputs": [
    {
     "data": {
      "text/plain": [
       "array([    0,     1,     2,     3,     4,    12, 12345,    12,     8,\n",
       "           9])"
      ]
     },
     "execution_count": 55,
     "metadata": {},
     "output_type": "execute_result"
    }
   ],
   "source": [
    "arr"
   ]
  },
  {
   "cell_type": "markdown",
   "id": "dental-transaction",
   "metadata": {},
   "source": [
    "### higher dimensional slicing\n",
    "you may want more options for higher dimensional slicing. for a 2d array, the elements at each index are no longer scalars, **but rather 1d arrays**"
   ]
  },
  {
   "cell_type": "code",
   "execution_count": 56,
   "id": "royal-dealing",
   "metadata": {},
   "outputs": [],
   "source": [
    "arr2d = np.array([[1, 2, 3], [4, 5, 6], [7, 8, 9]])"
   ]
  },
  {
   "cell_type": "code",
   "execution_count": 57,
   "id": "trained-examination",
   "metadata": {},
   "outputs": [
    {
     "data": {
      "text/plain": [
       "array([[1, 2, 3],\n",
       "       [4, 5, 6],\n",
       "       [7, 8, 9]])"
      ]
     },
     "execution_count": 57,
     "metadata": {},
     "output_type": "execute_result"
    }
   ],
   "source": [
    "arr2d"
   ]
  },
  {
   "cell_type": "code",
   "execution_count": 58,
   "id": "overhead-transparency",
   "metadata": {},
   "outputs": [
    {
     "data": {
      "text/plain": [
       "array([7, 8, 9])"
      ]
     },
     "execution_count": 58,
     "metadata": {},
     "output_type": "execute_result"
    }
   ],
   "source": [
    "#get the third (last) row of the array\n",
    "arr2d[2]"
   ]
  },
  {
   "cell_type": "markdown",
   "id": "cheap-mauritius",
   "metadata": {},
   "source": [
    "individual elements can either be access recursively, or through a comma separated list of indices"
   ]
  },
  {
   "cell_type": "code",
   "execution_count": 59,
   "id": "assigned-check",
   "metadata": {},
   "outputs": [
    {
     "data": {
      "text/plain": [
       "3"
      ]
     },
     "execution_count": 59,
     "metadata": {},
     "output_type": "execute_result"
    }
   ],
   "source": [
    "arr2d[0][2]"
   ]
  },
  {
   "cell_type": "code",
   "execution_count": 60,
   "id": "funny-arbor",
   "metadata": {},
   "outputs": [
    {
     "data": {
      "text/plain": [
       "3"
      ]
     },
     "execution_count": 60,
     "metadata": {},
     "output_type": "execute_result"
    }
   ],
   "source": [
    "#equivalent operation\n",
    "arr2d[0, 2]"
   ]
  },
  {
   "cell_type": "markdown",
   "id": "incomplete-california",
   "metadata": {},
   "source": [
    "it's helpful to think of axis 0 as the \"rows\" and axis 1 as the \"columns\".\n",
    "\n",
    "omiting an index returns an array of a lower dimensional ndarray."
   ]
  },
  {
   "cell_type": "code",
   "execution_count": 61,
   "id": "equipped-highlight",
   "metadata": {},
   "outputs": [],
   "source": [
    "arr3d = np.array([[[1, 2, 3], [4, 5, 6]], [[7, 8, 9], [10, 11, 12]]])"
   ]
  },
  {
   "cell_type": "code",
   "execution_count": 62,
   "id": "pregnant-water",
   "metadata": {},
   "outputs": [
    {
     "data": {
      "text/plain": [
       "array([[[ 1,  2,  3],\n",
       "        [ 4,  5,  6]],\n",
       "\n",
       "       [[ 7,  8,  9],\n",
       "        [10, 11, 12]]])"
      ]
     },
     "execution_count": 62,
     "metadata": {},
     "output_type": "execute_result"
    }
   ],
   "source": [
    "arr3d"
   ]
  },
  {
   "cell_type": "code",
   "execution_count": 63,
   "id": "speaking-print",
   "metadata": {},
   "outputs": [
    {
     "data": {
      "text/plain": [
       "array([[1, 2, 3],\n",
       "       [4, 5, 6]])"
      ]
     },
     "execution_count": 63,
     "metadata": {},
     "output_type": "execute_result"
    }
   ],
   "source": [
    "#arr3d 0 is a 2x3 array, representing the \"first channel\"\n",
    "arr3d[0]"
   ]
  },
  {
   "cell_type": "code",
   "execution_count": 64,
   "id": "dress-reform",
   "metadata": {},
   "outputs": [],
   "source": [
    "#both scalar values and arrays can be assigned to arr3d[0]\n",
    "old_values = arr3d[0].copy()\n",
    "arr3d[0] = 42"
   ]
  },
  {
   "cell_type": "code",
   "execution_count": 65,
   "id": "logical-luxembourg",
   "metadata": {},
   "outputs": [
    {
     "data": {
      "text/plain": [
       "array([[[42, 42, 42],\n",
       "        [42, 42, 42]],\n",
       "\n",
       "       [[ 7,  8,  9],\n",
       "        [10, 11, 12]]])"
      ]
     },
     "execution_count": 65,
     "metadata": {},
     "output_type": "execute_result"
    }
   ],
   "source": [
    "arr3d"
   ]
  },
  {
   "cell_type": "code",
   "execution_count": 66,
   "id": "reasonable-taxation",
   "metadata": {},
   "outputs": [],
   "source": [
    "arr3d[0] = old_values"
   ]
  },
  {
   "cell_type": "code",
   "execution_count": 67,
   "id": "verbal-brazilian",
   "metadata": {},
   "outputs": [
    {
     "data": {
      "text/plain": [
       "array([[[ 1,  2,  3],\n",
       "        [ 4,  5,  6]],\n",
       "\n",
       "       [[ 7,  8,  9],\n",
       "        [10, 11, 12]]])"
      ]
     },
     "execution_count": 67,
     "metadata": {},
     "output_type": "execute_result"
    }
   ],
   "source": [
    "arr3d"
   ]
  },
  {
   "cell_type": "code",
   "execution_count": 68,
   "id": "dangerous-score",
   "metadata": {},
   "outputs": [
    {
     "data": {
      "text/plain": [
       "array([7, 8, 9])"
      ]
     },
     "execution_count": 68,
     "metadata": {},
     "output_type": "execute_result"
    }
   ],
   "source": [
    "#arr[1, 0] gives you all the values who's indices start with (1, 0)\n",
    "#channel 1 (second, row)\n",
    "arr3d[1, 0]"
   ]
  },
  {
   "cell_type": "code",
   "execution_count": 69,
   "id": "alleged-limit",
   "metadata": {},
   "outputs": [
    {
     "data": {
      "text/plain": [
       "array([7, 8, 9])"
      ]
     },
     "execution_count": 69,
     "metadata": {},
     "output_type": "execute_result"
    }
   ],
   "source": [
    "x = arr3d[1]\n",
    "x[0]"
   ]
  },
  {
   "cell_type": "markdown",
   "id": "academic-premiere",
   "metadata": {},
   "source": [
    "### Indexing with slices\n",
    "like one-dimensional objects such as Python lists, ndarrays can be sliced with the familiar syntax\n",
    "NOTE: numpy, like python in genral, uses exclusive slicing (it doesn't including the end slice point)"
   ]
  },
  {
   "cell_type": "code",
   "execution_count": 70,
   "id": "major-equity",
   "metadata": {},
   "outputs": [
    {
     "data": {
      "text/plain": [
       "array([    0,     1,     2,     3,     4,    12, 12345,    12,     8,\n",
       "           9])"
      ]
     },
     "execution_count": 70,
     "metadata": {},
     "output_type": "execute_result"
    }
   ],
   "source": [
    "arr"
   ]
  },
  {
   "cell_type": "code",
   "execution_count": 71,
   "id": "decreased-handy",
   "metadata": {},
   "outputs": [
    {
     "data": {
      "text/plain": [
       "array([ 1,  2,  3,  4, 12])"
      ]
     },
     "execution_count": 71,
     "metadata": {},
     "output_type": "execute_result"
    }
   ],
   "source": [
    "#grab the second element up to the sixth\n",
    "arr[1:6]"
   ]
  },
  {
   "cell_type": "markdown",
   "id": "bibliographic-bearing",
   "metadata": {},
   "source": [
    "Slicing multidimensional arrays are different"
   ]
  },
  {
   "cell_type": "code",
   "execution_count": 72,
   "id": "flush-divorce",
   "metadata": {},
   "outputs": [
    {
     "data": {
      "text/plain": [
       "array([[1, 2, 3],\n",
       "       [4, 5, 6],\n",
       "       [7, 8, 9]])"
      ]
     },
     "execution_count": 72,
     "metadata": {},
     "output_type": "execute_result"
    }
   ],
   "source": [
    "arr2d"
   ]
  },
  {
   "cell_type": "code",
   "execution_count": 73,
   "id": "blocked-screen",
   "metadata": {},
   "outputs": [
    {
     "data": {
      "text/plain": [
       "array([[1, 2, 3],\n",
       "       [4, 5, 6]])"
      ]
     },
     "execution_count": 73,
     "metadata": {},
     "output_type": "execute_result"
    }
   ],
   "source": [
    "arr2d[:2]"
   ]
  },
  {
   "cell_type": "markdown",
   "id": "separate-cambodia",
   "metadata": {},
   "source": [
    "when indexing with integers, you always get the same number of dimensiona, bu mixing integer indexes and slices, you get lower dimensional slices"
   ]
  },
  {
   "cell_type": "code",
   "execution_count": 74,
   "id": "experienced-grammar",
   "metadata": {},
   "outputs": [
    {
     "data": {
      "text/plain": [
       "array([4, 5])"
      ]
     },
     "execution_count": 74,
     "metadata": {},
     "output_type": "execute_result"
    }
   ],
   "source": [
    "arr2d[1, :2]"
   ]
  },
  {
   "cell_type": "markdown",
   "id": "invisible-listening",
   "metadata": {},
   "source": [
    "a colon by itself will take the entire axis"
   ]
  },
  {
   "cell_type": "code",
   "execution_count": 75,
   "id": "adjacent-booth",
   "metadata": {},
   "outputs": [
    {
     "data": {
      "text/plain": [
       "array([[1],\n",
       "       [4],\n",
       "       [7]])"
      ]
     },
     "execution_count": 75,
     "metadata": {},
     "output_type": "execute_result"
    }
   ],
   "source": [
    "arr2d[:, :1]"
   ]
  },
  {
   "cell_type": "markdown",
   "id": "based-morgan",
   "metadata": {},
   "source": [
    "### Boolean Indexing"
   ]
  },
  {
   "cell_type": "code",
   "execution_count": 76,
   "id": "divided-tattoo",
   "metadata": {},
   "outputs": [],
   "source": [
    "names = np.array(['Bob', 'Joe', 'Will', 'Bob', 'Will', 'Joe', 'Joe'])\n",
    "data = np.random.randn(7, 4)"
   ]
  },
  {
   "cell_type": "code",
   "execution_count": 77,
   "id": "demonstrated-samba",
   "metadata": {},
   "outputs": [
    {
     "data": {
      "text/plain": [
       "array([[ 0.50406155, -0.5802423 ,  0.51453026,  0.92466579],\n",
       "       [-0.47101887,  0.2575551 ,  1.19866987,  1.1542195 ],\n",
       "       [-1.25738651, -1.11071397,  0.92277897, -0.17149642],\n",
       "       [-0.05231256,  0.77514933, -1.05643194,  1.16470459],\n",
       "       [-0.48183648,  0.46741938,  0.48323722,  0.07547411],\n",
       "       [ 1.07534373, -0.53638961,  1.09929428,  0.36834407],\n",
       "       [-0.04525942, -0.4539199 , -0.55992848, -0.82479969]])"
      ]
     },
     "execution_count": 77,
     "metadata": {},
     "output_type": "execute_result"
    }
   ],
   "source": [
    "data"
   ]
  },
  {
   "cell_type": "markdown",
   "id": "contrary-thing",
   "metadata": {},
   "source": [
    "comparison operations on ndarrays yield arrays of booleans"
   ]
  },
  {
   "cell_type": "code",
   "execution_count": 78,
   "id": "foreign-pressing",
   "metadata": {},
   "outputs": [
    {
     "data": {
      "text/plain": [
       "array([ True, False, False,  True, False, False, False])"
      ]
     },
     "execution_count": 78,
     "metadata": {},
     "output_type": "execute_result"
    }
   ],
   "source": [
    "names == 'Bob'"
   ]
  },
  {
   "cell_type": "markdown",
   "id": "latest-pizza",
   "metadata": {},
   "source": [
    "Boolean arrays can be used to index ndarrays. the boolean array must be the same length as teh axis it's indexing"
   ]
  },
  {
   "cell_type": "code",
   "execution_count": 79,
   "id": "renewable-orange",
   "metadata": {},
   "outputs": [
    {
     "data": {
      "text/plain": [
       "array([[ 0.50406155, -0.5802423 ,  0.51453026,  0.92466579],\n",
       "       [-0.05231256,  0.77514933, -1.05643194,  1.16470459]])"
      ]
     },
     "execution_count": 79,
     "metadata": {},
     "output_type": "execute_result"
    }
   ],
   "source": [
    "#since the first and fourth element of names is true, the first and fourth row is grabbed\n",
    "data[names == 'Bob']"
   ]
  },
  {
   "cell_type": "markdown",
   "id": "greatest-direction",
   "metadata": {},
   "source": [
    "Boolean indexing can be combined with integer indexing and slicing"
   ]
  },
  {
   "cell_type": "code",
   "execution_count": 80,
   "id": "major-contract",
   "metadata": {},
   "outputs": [
    {
     "data": {
      "text/plain": [
       "array([[ 0.51453026,  0.92466579],\n",
       "       [-1.05643194,  1.16470459]])"
      ]
     },
     "execution_count": 80,
     "metadata": {},
     "output_type": "execute_result"
    }
   ],
   "source": [
    "#grab the values in the first and fourth column, and the last two rows\n",
    "data[names == 'Bob', 2:]"
   ]
  },
  {
   "cell_type": "markdown",
   "id": "fixed-madagascar",
   "metadata": {},
   "source": [
    "WARNING: pythons *and* and *or* keywords do not work for ndarrays, use *&* and *|* instead"
   ]
  },
  {
   "cell_type": "code",
   "execution_count": 81,
   "id": "decreased-seven",
   "metadata": {},
   "outputs": [
    {
     "data": {
      "text/plain": [
       "array([[ 0.50406155, -0.5802423 ,  0.51453026,  0.92466579],\n",
       "       [-1.25738651, -1.11071397,  0.92277897, -0.17149642],\n",
       "       [-0.05231256,  0.77514933, -1.05643194,  1.16470459],\n",
       "       [-0.48183648,  0.46741938,  0.48323722,  0.07547411]])"
      ]
     },
     "execution_count": 81,
     "metadata": {},
     "output_type": "execute_result"
    }
   ],
   "source": [
    "data[(names == 'Bob' )  |  (names == 'Will')]"
   ]
  },
  {
   "cell_type": "code",
   "execution_count": 82,
   "id": "psychological-meditation",
   "metadata": {},
   "outputs": [],
   "source": [
    "#setting negative values to zero\n",
    "data[data < 0] = 0"
   ]
  },
  {
   "cell_type": "code",
   "execution_count": 83,
   "id": "capital-formula",
   "metadata": {},
   "outputs": [
    {
     "data": {
      "text/plain": [
       "array([[0.50406155, 0.        , 0.51453026, 0.92466579],\n",
       "       [0.        , 0.2575551 , 1.19866987, 1.1542195 ],\n",
       "       [0.        , 0.        , 0.92277897, 0.        ],\n",
       "       [0.        , 0.77514933, 0.        , 1.16470459],\n",
       "       [0.        , 0.46741938, 0.48323722, 0.07547411],\n",
       "       [1.07534373, 0.        , 1.09929428, 0.36834407],\n",
       "       [0.        , 0.        , 0.        , 0.        ]])"
      ]
     },
     "execution_count": 83,
     "metadata": {},
     "output_type": "execute_result"
    }
   ],
   "source": [
    "data"
   ]
  },
  {
   "cell_type": "markdown",
   "id": "affected-proceeding",
   "metadata": {},
   "source": [
    "### Fancy Indexing\n",
    "fancy indexing is NumPys term for indeing using integer arrays"
   ]
  },
  {
   "cell_type": "code",
   "execution_count": 84,
   "id": "brilliant-warehouse",
   "metadata": {},
   "outputs": [],
   "source": [
    "arr = np.empty((8, 4))\n",
    "\n",
    "for i in range (8):\n",
    "    arr[i] = i"
   ]
  },
  {
   "cell_type": "code",
   "execution_count": 85,
   "id": "searching-student",
   "metadata": {},
   "outputs": [
    {
     "data": {
      "text/plain": [
       "array([[0., 0., 0., 0.],\n",
       "       [1., 1., 1., 1.],\n",
       "       [2., 2., 2., 2.],\n",
       "       [3., 3., 3., 3.],\n",
       "       [4., 4., 4., 4.],\n",
       "       [5., 5., 5., 5.],\n",
       "       [6., 6., 6., 6.],\n",
       "       [7., 7., 7., 7.]])"
      ]
     },
     "execution_count": 85,
     "metadata": {},
     "output_type": "execute_result"
    }
   ],
   "source": [
    "arr"
   ]
  },
  {
   "cell_type": "markdown",
   "id": "vocational-delivery",
   "metadata": {},
   "source": [
    "to select a subset of the rows in a particular order, you can simply pass a list, or an ndarray of integers specifying the desired order"
   ]
  },
  {
   "cell_type": "code",
   "execution_count": 86,
   "id": "becoming-breeding",
   "metadata": {},
   "outputs": [
    {
     "data": {
      "text/plain": [
       "array([[4., 4., 4., 4.],\n",
       "       [3., 3., 3., 3.],\n",
       "       [0., 0., 0., 0.],\n",
       "       [6., 6., 6., 6.]])"
      ]
     },
     "execution_count": 86,
     "metadata": {},
     "output_type": "execute_result"
    }
   ],
   "source": [
    "#select the fourth row, the third row, the zeroeth row (first row), and the 6th row, in a particular order\n",
    "arr[[4, 3, 0, 6]]"
   ]
  },
  {
   "cell_type": "markdown",
   "id": "public-publication",
   "metadata": {},
   "source": [
    "using negative indices selects rows from the end"
   ]
  },
  {
   "cell_type": "code",
   "execution_count": 87,
   "id": "mobile-challenge",
   "metadata": {},
   "outputs": [
    {
     "data": {
      "text/plain": [
       "array([[5., 5., 5., 5.],\n",
       "       [3., 3., 3., 3.],\n",
       "       [1., 1., 1., 1.]])"
      ]
     },
     "execution_count": 87,
     "metadata": {},
     "output_type": "execute_result"
    }
   ],
   "source": [
    "arr[[-3, -5, -7]]"
   ]
  },
  {
   "cell_type": "markdown",
   "id": "multiple-oriental",
   "metadata": {},
   "source": [
    "passing multiple index arrays selects a one-dimensional array of elements corresponding to each tuple of indices"
   ]
  },
  {
   "cell_type": "code",
   "execution_count": 88,
   "id": "caroline-protein",
   "metadata": {},
   "outputs": [],
   "source": [
    "arr = np.arange(32).reshape((8, 4))"
   ]
  },
  {
   "cell_type": "code",
   "execution_count": 89,
   "id": "disabled-accreditation",
   "metadata": {},
   "outputs": [
    {
     "data": {
      "text/plain": [
       "array([[ 0,  1,  2,  3],\n",
       "       [ 4,  5,  6,  7],\n",
       "       [ 8,  9, 10, 11],\n",
       "       [12, 13, 14, 15],\n",
       "       [16, 17, 18, 19],\n",
       "       [20, 21, 22, 23],\n",
       "       [24, 25, 26, 27],\n",
       "       [28, 29, 30, 31]])"
      ]
     },
     "execution_count": 89,
     "metadata": {},
     "output_type": "execute_result"
    }
   ],
   "source": [
    "arr"
   ]
  },
  {
   "cell_type": "code",
   "execution_count": 90,
   "id": "adjustable-gates",
   "metadata": {},
   "outputs": [
    {
     "data": {
      "text/plain": [
       "array([ 4, 23, 29, 10])"
      ]
     },
     "execution_count": 90,
     "metadata": {},
     "output_type": "execute_result"
    }
   ],
   "source": [
    "#select elements ((1, 0), (5, 3), (7, 1), (2, 2))\n",
    "arr[[1, 5, 7, 2], [0, 3, 1, 2]]"
   ]
  },
  {
   "cell_type": "markdown",
   "id": "medieval-madness",
   "metadata": {},
   "source": [
    "users may have expected to get the rectangluar region formed by selecting a subset of teh matrix's rows and columns. to get that, you do this"
   ]
  },
  {
   "cell_type": "code",
   "execution_count": 91,
   "id": "interested-adobe",
   "metadata": {},
   "outputs": [
    {
     "data": {
      "text/plain": [
       "array([[ 4,  7,  5,  6],\n",
       "       [20, 23, 21, 22],\n",
       "       [28, 31, 29, 30],\n",
       "       [ 8, 11,  9, 10]])"
      ]
     },
     "execution_count": 91,
     "metadata": {},
     "output_type": "execute_result"
    }
   ],
   "source": [
    "#select the second, fourth, sixth, and third row. And THEN, select all the rows of that, and the first, fourth, second, and third column\" \n",
    "arr[[1, 5, 7, 2]][:, [0, 3, 1, 2]]"
   ]
  },
  {
   "cell_type": "markdown",
   "id": "printable-ethiopia",
   "metadata": {},
   "source": [
    "NOTE: Fancy indexing, unlike slicing, always copies the data into a new array"
   ]
  },
  {
   "cell_type": "code",
   "execution_count": 92,
   "id": "restricted-gibson",
   "metadata": {},
   "outputs": [],
   "source": [
    "array4d = np.array([[[[1, 2], [3, 4]], [[5, 6], [7, 8]]], [[[9, 10], [11, 12]], [[13, 14], [15, 16]]]])"
   ]
  },
  {
   "cell_type": "code",
   "execution_count": 93,
   "id": "banner-egypt",
   "metadata": {},
   "outputs": [
    {
     "data": {
      "text/plain": [
       "array([[[[ 1,  2],\n",
       "         [ 3,  4]],\n",
       "\n",
       "        [[ 5,  6],\n",
       "         [ 7,  8]]],\n",
       "\n",
       "\n",
       "       [[[ 9, 10],\n",
       "         [11, 12]],\n",
       "\n",
       "        [[13, 14],\n",
       "         [15, 16]]]])"
      ]
     },
     "execution_count": 93,
     "metadata": {},
     "output_type": "execute_result"
    }
   ],
   "source": [
    "array4d"
   ]
  },
  {
   "cell_type": "code",
   "execution_count": 94,
   "id": "essential-warehouse",
   "metadata": {},
   "outputs": [
    {
     "data": {
      "text/plain": [
       "4"
      ]
     },
     "execution_count": 94,
     "metadata": {},
     "output_type": "execute_result"
    }
   ],
   "source": [
    "array4d.ndim"
   ]
  },
  {
   "cell_type": "code",
   "execution_count": 95,
   "id": "corporate-blogger",
   "metadata": {},
   "outputs": [
    {
     "data": {
      "text/plain": [
       "(2, 2, 2, 2)"
      ]
     },
     "execution_count": 95,
     "metadata": {},
     "output_type": "execute_result"
    }
   ],
   "source": [
    "array4d.shape"
   ]
  },
  {
   "cell_type": "code",
   "execution_count": 96,
   "id": "warming-hepatitis",
   "metadata": {},
   "outputs": [
    {
     "data": {
      "text/plain": [
       "array([[[1, 2],\n",
       "        [3, 4]],\n",
       "\n",
       "       [[5, 6],\n",
       "        [7, 8]]])"
      ]
     },
     "execution_count": 96,
     "metadata": {},
     "output_type": "execute_result"
    }
   ],
   "source": [
    "#single indexing gives an array of ndim-1 dimensions\n",
    "array4d[0]"
   ]
  },
  {
   "cell_type": "code",
   "execution_count": 97,
   "id": "floating-edwards",
   "metadata": {},
   "outputs": [
    {
     "data": {
      "text/plain": [
       "(2, 2, 2)"
      ]
     },
     "execution_count": 97,
     "metadata": {},
     "output_type": "execute_result"
    }
   ],
   "source": [
    "array4d[0].shape"
   ]
  },
  {
   "cell_type": "code",
   "execution_count": 98,
   "id": "quiet-identifier",
   "metadata": {},
   "outputs": [
    {
     "data": {
      "text/plain": [
       "array([[[ 9, 10],\n",
       "        [11, 12]],\n",
       "\n",
       "       [[13, 14],\n",
       "        [15, 16]]])"
      ]
     },
     "execution_count": 98,
     "metadata": {},
     "output_type": "execute_result"
    }
   ],
   "source": [
    "array4d[1]"
   ]
  },
  {
   "cell_type": "code",
   "execution_count": 99,
   "id": "medical-pepper",
   "metadata": {},
   "outputs": [
    {
     "data": {
      "text/plain": [
       "array([[5, 6],\n",
       "       [7, 8]])"
      ]
     },
     "execution_count": 99,
     "metadata": {},
     "output_type": "execute_result"
    }
   ],
   "source": [
    "#grab all elements in the first dimension along the 3rd axis (cube), and the second dimension along the 2nd axis (channel)\n",
    "array4d[0, 1]"
   ]
  },
  {
   "cell_type": "code",
   "execution_count": 100,
   "id": "likely-flush",
   "metadata": {},
   "outputs": [
    {
     "data": {
      "text/plain": [
       "array([5, 6])"
      ]
     },
     "execution_count": 100,
     "metadata": {},
     "output_type": "execute_result"
    }
   ],
   "source": [
    "#grab all the elements in the first dimension along the 3rd axis, the second dimension along the 2nd axis, and all the elements of the first row\n",
    "array4d[0, 1, 0]"
   ]
  },
  {
   "cell_type": "code",
   "execution_count": 101,
   "id": "republican-ambassador",
   "metadata": {},
   "outputs": [
    {
     "data": {
      "text/plain": [
       "6"
      ]
     },
     "execution_count": 101,
     "metadata": {},
     "output_type": "execute_result"
    }
   ],
   "source": [
    "array4d[0, 1, 0, 1]"
   ]
  },
  {
   "cell_type": "markdown",
   "id": "separated-commodity",
   "metadata": {},
   "source": [
    "NOTE: so it seems that when indexing an ndimensioal array, the first term of the indexing accesses the highest dimension axis available in the ndarray"
   ]
  },
  {
   "cell_type": "code",
   "execution_count": 102,
   "id": "realistic-participant",
   "metadata": {},
   "outputs": [
    {
     "data": {
      "text/plain": [
       "array([[[[16, 15],\n",
       "         [14, 13]],\n",
       "\n",
       "        [[12, 11],\n",
       "         [10,  9]]],\n",
       "\n",
       "\n",
       "       [[[ 8,  7],\n",
       "         [ 6,  5]],\n",
       "\n",
       "        [[ 4,  3],\n",
       "         [ 2,  1]]]])"
      ]
     },
     "execution_count": 102,
     "metadata": {},
     "output_type": "execute_result"
    }
   ],
   "source": [
    "#THIS fun expression swaps the two arrays in the 3rd axis, then grabs all the elements of the new array and swaps the two arrays in the 2nd axis, and so on..\n",
    "array4d[[1, 0]][:, [1, 0]][:, :, [1, 0]][:, :, :, [1, 0]]"
   ]
  },
  {
   "cell_type": "markdown",
   "id": "outstanding-stake",
   "metadata": {},
   "source": [
    "## Transposing and Swapping Axes\n",
    "transposing is a special form of reshaping that returns a view on the underlyign data without copying anything"
   ]
  },
  {
   "cell_type": "code",
   "execution_count": 103,
   "id": "associate-concert",
   "metadata": {},
   "outputs": [],
   "source": [
    "arr = np.arange(15).reshape((3, 5))"
   ]
  },
  {
   "cell_type": "code",
   "execution_count": 104,
   "id": "respiratory-water",
   "metadata": {},
   "outputs": [
    {
     "data": {
      "text/plain": [
       "array([[ 0,  1,  2,  3,  4],\n",
       "       [ 5,  6,  7,  8,  9],\n",
       "       [10, 11, 12, 13, 14]])"
      ]
     },
     "execution_count": 104,
     "metadata": {},
     "output_type": "execute_result"
    }
   ],
   "source": [
    "arr"
   ]
  },
  {
   "cell_type": "code",
   "execution_count": 105,
   "id": "relevant-consumer",
   "metadata": {},
   "outputs": [
    {
     "data": {
      "text/plain": [
       "array([[ 0,  5, 10],\n",
       "       [ 1,  6, 11],\n",
       "       [ 2,  7, 12],\n",
       "       [ 3,  8, 13],\n",
       "       [ 4,  9, 14]])"
      ]
     },
     "execution_count": 105,
     "metadata": {},
     "output_type": "execute_result"
    }
   ],
   "source": [
    "arr.T"
   ]
  },
  {
   "cell_type": "markdown",
   "id": "acoustic-balance",
   "metadata": {},
   "source": [
    "Transposing is common in matrix operations"
   ]
  },
  {
   "cell_type": "code",
   "execution_count": 106,
   "id": "sorted-staff",
   "metadata": {},
   "outputs": [
    {
     "data": {
      "text/plain": [
       "array([[125, 140, 155, 170, 185],\n",
       "       [140, 158, 176, 194, 212],\n",
       "       [155, 176, 197, 218, 239],\n",
       "       [170, 194, 218, 242, 266],\n",
       "       [185, 212, 239, 266, 293]])"
      ]
     },
     "execution_count": 106,
     "metadata": {},
     "output_type": "execute_result"
    }
   ],
   "source": [
    "np.dot(arr.T, arr)"
   ]
  },
  {
   "cell_type": "markdown",
   "id": "continent-orange",
   "metadata": {},
   "source": [
    "np.transpose is an operation for higher dimensional arrays that will accept a tupel fo axis numbers to permute the axes"
   ]
  },
  {
   "cell_type": "code",
   "execution_count": 107,
   "id": "cloudy-adams",
   "metadata": {},
   "outputs": [],
   "source": [
    "arr = np.arange(16).reshape((2, 2, 2, 2))"
   ]
  },
  {
   "cell_type": "code",
   "execution_count": 108,
   "id": "collect-delay",
   "metadata": {},
   "outputs": [
    {
     "data": {
      "text/plain": [
       "array([[[[ 0,  1],\n",
       "         [ 2,  3]],\n",
       "\n",
       "        [[ 4,  5],\n",
       "         [ 6,  7]]],\n",
       "\n",
       "\n",
       "       [[[ 8,  9],\n",
       "         [10, 11]],\n",
       "\n",
       "        [[12, 13],\n",
       "         [14, 15]]]])"
      ]
     },
     "execution_count": 108,
     "metadata": {},
     "output_type": "execute_result"
    }
   ],
   "source": [
    "arr"
   ]
  },
  {
   "cell_type": "code",
   "execution_count": 109,
   "id": "funded-grammar",
   "metadata": {},
   "outputs": [
    {
     "data": {
      "text/plain": [
       "array([[[[ 0,  2],\n",
       "         [ 8, 10]],\n",
       "\n",
       "        [[ 1,  3],\n",
       "         [ 9, 11]]],\n",
       "\n",
       "\n",
       "       [[[ 4,  6],\n",
       "         [12, 14]],\n",
       "\n",
       "        [[ 5,  7],\n",
       "         [13, 15]]]])"
      ]
     },
     "execution_count": 109,
     "metadata": {},
     "output_type": "execute_result"
    }
   ],
   "source": [
    "arr.transpose((1, 3, 0, 2))"
   ]
  },
  {
   "cell_type": "code",
   "execution_count": 110,
   "id": "median-strain",
   "metadata": {},
   "outputs": [
    {
     "data": {
      "text/plain": [
       "array([[[[ 0,  1],\n",
       "         [ 2,  3]],\n",
       "\n",
       "        [[ 4,  5],\n",
       "         [ 6,  7]]],\n",
       "\n",
       "\n",
       "       [[[ 8,  9],\n",
       "         [10, 11]],\n",
       "\n",
       "        [[12, 13],\n",
       "         [14, 15]]]])"
      ]
     },
     "execution_count": 110,
     "metadata": {},
     "output_type": "execute_result"
    }
   ],
   "source": [
    "#regular transpose would be 0, 1, 2, 3\n",
    "arr.transpose((0, 1, 2, 3))"
   ]
  },
  {
   "cell_type": "markdown",
   "id": "binary-extreme",
   "metadata": {},
   "source": [
    "**REMEMBER** that nparrays are row major (rows stored first). even though the left most parameter affects the larges axis for the array, it is still stored end to end by rows. this is why transpose is ordered as it is. "
   ]
  },
  {
   "cell_type": "code",
   "execution_count": 111,
   "id": "determined-minneapolis",
   "metadata": {},
   "outputs": [
    {
     "data": {
      "text/plain": [
       "array([[[[ 0,  2],\n",
       "         [ 4,  6]],\n",
       "\n",
       "        [[ 8, 10],\n",
       "         [12, 14]]],\n",
       "\n",
       "\n",
       "       [[[ 1,  3],\n",
       "         [ 5,  7]],\n",
       "\n",
       "        [[ 9, 11],\n",
       "         [13, 15]]]])"
      ]
     },
     "execution_count": 111,
     "metadata": {},
     "output_type": "execute_result"
    }
   ],
   "source": [
    "arr.transpose((3, 0, 1, 2))"
   ]
  },
  {
   "cell_type": "markdown",
   "id": "sublime-diagram",
   "metadata": {},
   "source": [
    "think of the array as an n-d cube (kinda hard with a 4d cube)"
   ]
  },
  {
   "cell_type": "code",
   "execution_count": 112,
   "id": "pursuant-original",
   "metadata": {},
   "outputs": [],
   "source": [
    "arr = np.arange(8).reshape((2, 2, 2))"
   ]
  },
  {
   "cell_type": "code",
   "execution_count": 113,
   "id": "entitled-chair",
   "metadata": {},
   "outputs": [
    {
     "data": {
      "text/plain": [
       "array([[[0, 1],\n",
       "        [2, 3]],\n",
       "\n",
       "       [[4, 5],\n",
       "        [6, 7]]])"
      ]
     },
     "execution_count": 113,
     "metadata": {},
     "output_type": "execute_result"
    }
   ],
   "source": [
    "arr"
   ]
  },
  {
   "cell_type": "code",
   "execution_count": 114,
   "id": "absent-china",
   "metadata": {},
   "outputs": [
    {
     "data": {
      "text/plain": [
       "array([[[0, 1],\n",
       "        [2, 3]],\n",
       "\n",
       "       [[4, 5],\n",
       "        [6, 7]]])"
      ]
     },
     "execution_count": 114,
     "metadata": {},
     "output_type": "execute_result"
    }
   ],
   "source": [
    "arr.transpose((0, 1, 2))"
   ]
  },
  {
   "cell_type": "code",
   "execution_count": 115,
   "id": "brown-porter",
   "metadata": {},
   "outputs": [
    {
     "data": {
      "text/plain": [
       "array([[[0, 1],\n",
       "        [4, 5]],\n",
       "\n",
       "       [[2, 3],\n",
       "        [6, 7]]])"
      ]
     },
     "execution_count": 115,
     "metadata": {},
     "output_type": "execute_result"
    }
   ],
   "source": [
    "arr.transpose((1, 0, 2))"
   ]
  },
  {
   "cell_type": "code",
   "execution_count": 116,
   "id": "flying-burns",
   "metadata": {},
   "outputs": [
    {
     "data": {
      "text/plain": [
       "array([[[0, 4],\n",
       "        [2, 6]],\n",
       "\n",
       "       [[1, 5],\n",
       "        [3, 7]]])"
      ]
     },
     "execution_count": 116,
     "metadata": {},
     "output_type": "execute_result"
    }
   ],
   "source": [
    "arr.transpose((2, 1, 0))"
   ]
  },
  {
   "cell_type": "code",
   "execution_count": 117,
   "id": "practical-christmas",
   "metadata": {},
   "outputs": [
    {
     "data": {
      "text/plain": [
       "array([[[0, 2],\n",
       "        [1, 3]],\n",
       "\n",
       "       [[4, 6],\n",
       "        [5, 7]]])"
      ]
     },
     "execution_count": 117,
     "metadata": {},
     "output_type": "execute_result"
    }
   ],
   "source": [
    "arr.transpose((0, 2, 1))"
   ]
  },
  {
   "cell_type": "markdown",
   "id": "american-decimal",
   "metadata": {},
   "source": [
    "np.swapaxes(array, axis1, axis2) is a general case of np.T which swaps two axes of an array"
   ]
  },
  {
   "cell_type": "code",
   "execution_count": 118,
   "id": "invisible-disorder",
   "metadata": {},
   "outputs": [
    {
     "data": {
      "text/plain": [
       "array([[[0, 2],\n",
       "        [1, 3]],\n",
       "\n",
       "       [[4, 6],\n",
       "        [5, 7]]])"
      ]
     },
     "execution_count": 118,
     "metadata": {},
     "output_type": "execute_result"
    }
   ],
   "source": [
    "arr.swapaxes(2, 1)"
   ]
  },
  {
   "cell_type": "markdown",
   "id": "included-intermediate",
   "metadata": {},
   "source": [
    "## Universal Functions: Fast Element-wise Array Function\n",
    "a universal function, or a *ufunc* is a function that performs an element-wise operation on data in ndarrays. they are essentially fast, vectorized wrappers for simple functions that take one or more scalar values and produce one or more scalar results."
   ]
  },
  {
   "cell_type": "code",
   "execution_count": 119,
   "id": "caring-holiday",
   "metadata": {},
   "outputs": [],
   "source": [
    "arr = np.arange(10)"
   ]
  },
  {
   "cell_type": "code",
   "execution_count": 120,
   "id": "weighted-aircraft",
   "metadata": {},
   "outputs": [
    {
     "data": {
      "text/plain": [
       "array([0, 1, 2, 3, 4, 5, 6, 7, 8, 9])"
      ]
     },
     "execution_count": 120,
     "metadata": {},
     "output_type": "execute_result"
    }
   ],
   "source": [
    "arr"
   ]
  },
  {
   "cell_type": "code",
   "execution_count": 121,
   "id": "pretty-entrepreneur",
   "metadata": {},
   "outputs": [
    {
     "data": {
      "text/plain": [
       "array([0.        , 1.        , 1.41421356, 1.73205081, 2.        ,\n",
       "       2.23606798, 2.44948974, 2.64575131, 2.82842712, 3.        ])"
      ]
     },
     "execution_count": 121,
     "metadata": {},
     "output_type": "execute_result"
    }
   ],
   "source": [
    "#element wise square root\n",
    "np.sqrt(arr)"
   ]
  },
  {
   "cell_type": "code",
   "execution_count": 122,
   "id": "hybrid-religious",
   "metadata": {},
   "outputs": [
    {
     "data": {
      "text/plain": [
       "array([1.00000000e+00, 2.71828183e+00, 7.38905610e+00, 2.00855369e+01,\n",
       "       5.45981500e+01, 1.48413159e+02, 4.03428793e+02, 1.09663316e+03,\n",
       "       2.98095799e+03, 8.10308393e+03])"
      ]
     },
     "execution_count": 122,
     "metadata": {},
     "output_type": "execute_result"
    }
   ],
   "source": [
    "#element wise exponential\n",
    "np.exp(arr)"
   ]
  },
  {
   "cell_type": "markdown",
   "id": "shaped-gateway",
   "metadata": {},
   "source": [
    "the above are known as *unary* ufuncs. *add* and other functions are *binary* ufuncs"
   ]
  },
  {
   "cell_type": "code",
   "execution_count": 123,
   "id": "integrated-tanzania",
   "metadata": {},
   "outputs": [],
   "source": [
    "x = np.random.randn(8)\n",
    "y = np.random.randn(8)"
   ]
  },
  {
   "cell_type": "code",
   "execution_count": 124,
   "id": "convenient-attention",
   "metadata": {},
   "outputs": [
    {
     "data": {
      "text/plain": [
       "array([ 0.96992909, -0.60170972, -0.79790024, -1.90610146, -0.89771028,\n",
       "        0.38034791,  0.84940935,  1.35318521])"
      ]
     },
     "execution_count": 124,
     "metadata": {},
     "output_type": "execute_result"
    }
   ],
   "source": [
    "x"
   ]
  },
  {
   "cell_type": "code",
   "execution_count": 125,
   "id": "rational-triumph",
   "metadata": {},
   "outputs": [
    {
     "data": {
      "text/plain": [
       "array([ 0.87199563,  2.35559764,  0.51284803, -0.21962932,  0.14238099,\n",
       "       -0.57729524,  1.76586853, -0.32482295])"
      ]
     },
     "execution_count": 125,
     "metadata": {},
     "output_type": "execute_result"
    }
   ],
   "source": [
    "y"
   ]
  },
  {
   "cell_type": "code",
   "execution_count": 126,
   "id": "sticky-dimension",
   "metadata": {},
   "outputs": [
    {
     "data": {
      "text/plain": [
       "array([ 0.96992909,  2.35559764,  0.51284803, -0.21962932,  0.14238099,\n",
       "        0.38034791,  1.76586853,  1.35318521])"
      ]
     },
     "execution_count": 126,
     "metadata": {},
     "output_type": "execute_result"
    }
   ],
   "source": [
    "#return the maximum value of either array\n",
    "np.maximum(x, y)"
   ]
  },
  {
   "cell_type": "code",
   "execution_count": 127,
   "id": "regular-latvia",
   "metadata": {},
   "outputs": [
    {
     "data": {
      "text/plain": [
       "array([ 1.84192472,  1.75388793, -0.28505222, -2.12573078, -0.75532929,\n",
       "       -0.19694733,  2.61527788,  1.02836226])"
      ]
     },
     "execution_count": 127,
     "metadata": {},
     "output_type": "execute_result"
    }
   ],
   "source": [
    "#add two arrays\n",
    "np.add(x, y)"
   ]
  },
  {
   "cell_type": "code",
   "execution_count": 128,
   "id": "brutal-decrease",
   "metadata": {},
   "outputs": [
    {
     "data": {
      "text/plain": [
       "array([ 1.84192472,  1.75388793, -0.28505222, -2.12573078, -0.75532929,\n",
       "       -0.19694733,  2.61527788,  1.02836226])"
      ]
     },
     "execution_count": 128,
     "metadata": {},
     "output_type": "execute_result"
    }
   ],
   "source": [
    "#also syntactic sugar\n",
    "x + y"
   ]
  },
  {
   "cell_type": "markdown",
   "id": "solved-essex",
   "metadata": {},
   "source": [
    "some ufuncs return multiple arrays"
   ]
  },
  {
   "cell_type": "code",
   "execution_count": 129,
   "id": "structured-swiss",
   "metadata": {},
   "outputs": [],
   "source": [
    "arr = np.random.randn(7) * 5"
   ]
  },
  {
   "cell_type": "code",
   "execution_count": 130,
   "id": "respected-public",
   "metadata": {},
   "outputs": [
    {
     "data": {
      "text/plain": [
       "array([-1.35130756, -0.34819662, -2.96460858, -2.03439999,  3.21456811,\n",
       "       -3.56817693,  4.6318243 ])"
      ]
     },
     "execution_count": 130,
     "metadata": {},
     "output_type": "execute_result"
    }
   ],
   "source": [
    "arr"
   ]
  },
  {
   "cell_type": "code",
   "execution_count": 131,
   "id": "modular-landscape",
   "metadata": {},
   "outputs": [],
   "source": [
    "#split the number into the fractional and integral\n",
    "remainder, whole_part = np.modf(arr)"
   ]
  },
  {
   "cell_type": "code",
   "execution_count": 132,
   "id": "economic-technical",
   "metadata": {},
   "outputs": [
    {
     "data": {
      "text/plain": [
       "array([-0.35130756, -0.34819662, -0.96460858, -0.03439999,  0.21456811,\n",
       "       -0.56817693,  0.6318243 ])"
      ]
     },
     "execution_count": 132,
     "metadata": {},
     "output_type": "execute_result"
    }
   ],
   "source": [
    "remainder"
   ]
  },
  {
   "cell_type": "code",
   "execution_count": 133,
   "id": "insured-round",
   "metadata": {},
   "outputs": [
    {
     "data": {
      "text/plain": [
       "array([-1., -0., -2., -2.,  3., -3.,  4.])"
      ]
     },
     "execution_count": 133,
     "metadata": {},
     "output_type": "execute_result"
    }
   ],
   "source": [
    "whole_part"
   ]
  },
  {
   "cell_type": "markdown",
   "id": "acceptable-hardware",
   "metadata": {},
   "source": [
    "ufuncs accept an optional *out* parameter to store the result of an operation"
   ]
  },
  {
   "cell_type": "code",
   "execution_count": 134,
   "id": "modern-appendix",
   "metadata": {},
   "outputs": [
    {
     "name": "stderr",
     "output_type": "stream",
     "text": [
      "<ipython-input-134-164954cb2c14>:1: RuntimeWarning: invalid value encountered in sqrt\n",
      "  np.sqrt(arr, arr)\n"
     ]
    },
    {
     "data": {
      "text/plain": [
       "array([       nan,        nan,        nan,        nan, 1.79292167,\n",
       "              nan, 2.15216735])"
      ]
     },
     "execution_count": 134,
     "metadata": {},
     "output_type": "execute_result"
    }
   ],
   "source": [
    "np.sqrt(arr, arr)"
   ]
  },
  {
   "cell_type": "code",
   "execution_count": 135,
   "id": "blank-session",
   "metadata": {},
   "outputs": [
    {
     "data": {
      "text/plain": [
       "array([       nan,        nan,        nan,        nan, 1.79292167,\n",
       "              nan, 2.15216735])"
      ]
     },
     "execution_count": 135,
     "metadata": {},
     "output_type": "execute_result"
    }
   ],
   "source": [
    "arr"
   ]
  },
  {
   "cell_type": "markdown",
   "id": "geographic-latter",
   "metadata": {},
   "source": [
    "## Array Oriented Programming with Arrays\n",
    "with NumPy, you can express many kinds of data processing tasks as concise array expressions that might otherwise require looping. this practice is known as *vectorization*.\n",
    "\n",
    "example: suppose we wanted to evaluate the function *sqrt(x^2 + y^2)* across a regular grid of values. *np.meshgrid* taks two 1D arrays and produces two 2D matricescorresponding to all paris of *(x, y)* in the two arrays:"
   ]
  },
  {
   "cell_type": "code",
   "execution_count": 136,
   "id": "hungarian-pharmacology",
   "metadata": {},
   "outputs": [],
   "source": [
    "points = np.arange(-5, 5, 0.01) #1000 equally spaced points"
   ]
  },
  {
   "cell_type": "code",
   "execution_count": 137,
   "id": "conventional-throw",
   "metadata": {},
   "outputs": [],
   "source": [
    "#from: https://stackoverflow.com/questions/36013063/what-is-the-purpose-of-meshgrid-in-python-numpy\n",
    "# \"The purpose of meshgrid is to create a rectangular grid out of an array of x values and an array of y values.\"\n",
    "# the function is very good for evaluating a function on a grid (it basically produces a grid of x and y (maybe more) coordinate pairs)\n",
    "xs, ys = np.meshgrid(points, points)"
   ]
  },
  {
   "cell_type": "code",
   "execution_count": 138,
   "id": "foreign-patrol",
   "metadata": {},
   "outputs": [
    {
     "data": {
      "text/plain": [
       "array([[-5.  , -4.99, -4.98, ...,  4.97,  4.98,  4.99],\n",
       "       [-5.  , -4.99, -4.98, ...,  4.97,  4.98,  4.99],\n",
       "       [-5.  , -4.99, -4.98, ...,  4.97,  4.98,  4.99],\n",
       "       ...,\n",
       "       [-5.  , -4.99, -4.98, ...,  4.97,  4.98,  4.99],\n",
       "       [-5.  , -4.99, -4.98, ...,  4.97,  4.98,  4.99],\n",
       "       [-5.  , -4.99, -4.98, ...,  4.97,  4.98,  4.99]])"
      ]
     },
     "execution_count": 138,
     "metadata": {},
     "output_type": "execute_result"
    }
   ],
   "source": [
    "xs"
   ]
  },
  {
   "cell_type": "code",
   "execution_count": 139,
   "id": "conditional-infection",
   "metadata": {},
   "outputs": [
    {
     "data": {
      "text/plain": [
       "array([[-5.  , -5.  , -5.  , ..., -5.  , -5.  , -5.  ],\n",
       "       [-4.99, -4.99, -4.99, ..., -4.99, -4.99, -4.99],\n",
       "       [-4.98, -4.98, -4.98, ..., -4.98, -4.98, -4.98],\n",
       "       ...,\n",
       "       [ 4.97,  4.97,  4.97, ...,  4.97,  4.97,  4.97],\n",
       "       [ 4.98,  4.98,  4.98, ...,  4.98,  4.98,  4.98],\n",
       "       [ 4.99,  4.99,  4.99, ...,  4.99,  4.99,  4.99]])"
      ]
     },
     "execution_count": 139,
     "metadata": {},
     "output_type": "execute_result"
    }
   ],
   "source": [
    "ys"
   ]
  },
  {
   "cell_type": "code",
   "execution_count": 140,
   "id": "sitting-stroke",
   "metadata": {},
   "outputs": [],
   "source": [
    "#take the coordinate arrays and evaluate them over the function\n",
    "z = np.sqrt(xs ** 2 + ys ** 2)"
   ]
  },
  {
   "cell_type": "code",
   "execution_count": 141,
   "id": "administrative-sperm",
   "metadata": {},
   "outputs": [
    {
     "data": {
      "text/plain": [
       "array([[7.07106781, 7.06400028, 7.05693985, ..., 7.04988652, 7.05693985,\n",
       "        7.06400028],\n",
       "       [7.06400028, 7.05692568, 7.04985815, ..., 7.04279774, 7.04985815,\n",
       "        7.05692568],\n",
       "       [7.05693985, 7.04985815, 7.04278354, ..., 7.03571603, 7.04278354,\n",
       "        7.04985815],\n",
       "       ...,\n",
       "       [7.04988652, 7.04279774, 7.03571603, ..., 7.0286414 , 7.03571603,\n",
       "        7.04279774],\n",
       "       [7.05693985, 7.04985815, 7.04278354, ..., 7.03571603, 7.04278354,\n",
       "        7.04985815],\n",
       "       [7.06400028, 7.05692568, 7.04985815, ..., 7.04279774, 7.04985815,\n",
       "        7.05692568]])"
      ]
     },
     "execution_count": 141,
     "metadata": {},
     "output_type": "execute_result"
    }
   ],
   "source": [
    "z"
   ]
  },
  {
   "cell_type": "code",
   "execution_count": 142,
   "id": "diagnostic-commercial",
   "metadata": {},
   "outputs": [
    {
     "data": {
      "text/plain": [
       "<matplotlib.colorbar.Colorbar at 0x20487c41340>"
      ]
     },
     "execution_count": 142,
     "metadata": {},
     "output_type": "execute_result"
    },
    {
     "data": {
      "image/png": "[encoded data removed]",
      "text/plain": [
       "<Figure size 432x288 with 2 Axes>"
      ]
     },
     "metadata": {
      "needs_background": "light"
     },
     "output_type": "display_data"
    }
   ],
   "source": [
    "#visualization of the plot\n",
    "import matplotlib.pyplot as plt\n",
    "\n",
    "plt.imshow(z, cmap=plt.cm.gray); plt.colorbar()"
   ]
  },
  {
   "cell_type": "code",
   "execution_count": 143,
   "id": "divine-woman",
   "metadata": {},
   "outputs": [
    {
     "data": {
      "text/plain": [
       "Text(0.5, 1.0, 'Image plot of $\\\\sqrt{x^2 + y^2}$ for a grid of values')"
      ]
     },
     "execution_count": 143,
     "metadata": {},
     "output_type": "execute_result"
    },
    {
     "data": {
      "image/png": "[encoded data removed]",
      "text/plain": [
       "<Figure size 432x288 with 1 Axes>"
      ]
     },
     "metadata": {
      "needs_background": "light"
     },
     "output_type": "display_data"
    }
   ],
   "source": [
    "plt.title(\"Image plot of $\\sqrt{x^2 + y^2}$ for a grid of values\")"
   ]
  },
  {
   "cell_type": "code",
   "execution_count": 144,
   "id": "subject-publicity",
   "metadata": {},
   "outputs": [],
   "source": [
    "plt.show()"
   ]
  },
  {
   "cell_type": "markdown",
   "id": "progressive-switzerland",
   "metadata": {},
   "source": [
    "NOTE: looks like this since it is in range [-5, 5]. centered on zero"
   ]
  },
  {
   "cell_type": "markdown",
   "id": "animated-insulation",
   "metadata": {},
   "source": [
    "## Expressing Conditional Logic as Array Operations\n",
    "the *numpy.where* function is a vectorized version of the ternary expression *x if cond else y*"
   ]
  },
  {
   "cell_type": "code",
   "execution_count": 145,
   "id": "genuine-rings",
   "metadata": {},
   "outputs": [],
   "source": [
    "xarr = np.array([1.1, 1.2, 1.3, 1.4, 1.5])\n",
    "yarr = np.array([2.1, 2.2, 2.3, 2.4, 2.5])\n",
    "cond = np.array([True, False, True, True, False])\n",
    "\n",
    "#this done with a list comprehension\n",
    "# this is slower than numpy.where and it will not work for multidimensional arrays\n",
    "# result = [(x if c else y) for x, y, c in zip(xarr, yarr, cond)]\n",
    "\n",
    "#for each corresponding element in the three values, return xarr if cond element is true, otherwise return yarr\n",
    "result = np.where(cond, xarr, yarr)"
   ]
  },
  {
   "cell_type": "code",
   "execution_count": 146,
   "id": "hungarian-running",
   "metadata": {},
   "outputs": [
    {
     "data": {
      "text/plain": [
       "array([1.1, 2.2, 1.3, 1.4, 2.5])"
      ]
     },
     "execution_count": 146,
     "metadata": {},
     "output_type": "execute_result"
    }
   ],
   "source": [
    "result"
   ]
  },
  {
   "cell_type": "code",
   "execution_count": 147,
   "id": "stock-business",
   "metadata": {},
   "outputs": [],
   "source": [
    "myArr = np.random.randn(5, 5)"
   ]
  },
  {
   "cell_type": "code",
   "execution_count": 148,
   "id": "gothic-intranet",
   "metadata": {},
   "outputs": [
    {
     "data": {
      "text/plain": [
       "array([[-0.30018673, -0.70581467, -0.68362767,  0.36032717,  0.34015554],\n",
       "       [-0.72793696,  0.17530148, -0.87420382,  2.23786797,  0.20998865],\n",
       "       [ 1.62319009, -0.56645784, -0.13787702, -0.46738264, -0.54216903],\n",
       "       [ 0.12848712, -0.63589774,  1.51207564, -0.2505218 , -0.57461491],\n",
       "       [ 0.2959806 , -0.14937069, -0.91475889, -0.97965238,  0.1137061 ]])"
      ]
     },
     "execution_count": 148,
     "metadata": {},
     "output_type": "execute_result"
    }
   ],
   "source": [
    "myArr"
   ]
  },
  {
   "cell_type": "markdown",
   "id": "alive-dimension",
   "metadata": {},
   "source": [
    "where arguments don't need to be arrays, one or both can be scalars"
   ]
  },
  {
   "cell_type": "code",
   "execution_count": 149,
   "id": "fluid-activation",
   "metadata": {},
   "outputs": [
    {
     "data": {
      "text/plain": [
       "array([[0.        , 0.        , 0.        , 0.36032717, 0.34015554],\n",
       "       [0.        , 0.17530148, 0.        , 2.23786797, 0.20998865],\n",
       "       [1.62319009, 0.        , 0.        , 0.        , 0.        ],\n",
       "       [0.12848712, 0.        , 1.51207564, 0.        , 0.        ],\n",
       "       [0.2959806 , 0.        , 0.        , 0.        , 0.1137061 ]])"
      ]
     },
     "execution_count": 149,
     "metadata": {},
     "output_type": "execute_result"
    }
   ],
   "source": [
    "np.where(myArr >= 0, myArr, 0)"
   ]
  },
  {
   "cell_type": "markdown",
   "id": "annoying-picnic",
   "metadata": {},
   "source": [
    "## Mathematical and Statistical Methods\n",
    "a set of mathematical functions taht compute tstatistics about an entire array, or about the data along an axis, are accessible as methods. \n",
    "\n",
    "*aggregations*, also known as *reductions*, such asL *sum*, *mean*, and *std* (standard deviation), can be called either by calling the array instance method or my using the top-level NumPy function."
   ]
  },
  {
   "cell_type": "code",
   "execution_count": 150,
   "id": "conventional-reception",
   "metadata": {},
   "outputs": [],
   "source": [
    "arr = np.random.randn(5, 4)"
   ]
  },
  {
   "cell_type": "code",
   "execution_count": 151,
   "id": "finnish-postcard",
   "metadata": {},
   "outputs": [
    {
     "data": {
      "text/plain": [
       "array([[ 1.66396895,  1.46600557,  0.03090659, -0.25486431],\n",
       "       [ 0.8096312 ,  1.42564435, -0.25771342, -0.02759857],\n",
       "       [-0.09510552,  0.03845483, -0.21213216,  0.01525165],\n",
       "       [ 0.82645277, -0.29599029,  1.16287548, -2.14321804],\n",
       "       [ 0.8561747 , -0.23983507,  1.47651333, -0.96566206]])"
      ]
     },
     "execution_count": 151,
     "metadata": {},
     "output_type": "execute_result"
    }
   ],
   "source": [
    "arr"
   ]
  },
  {
   "cell_type": "code",
   "execution_count": 152,
   "id": "union-character",
   "metadata": {},
   "outputs": [
    {
     "data": {
      "text/plain": [
       "0.26398799975199755"
      ]
     },
     "execution_count": 152,
     "metadata": {},
     "output_type": "execute_result"
    }
   ],
   "source": [
    "arr.mean()"
   ]
  },
  {
   "cell_type": "code",
   "execution_count": 153,
   "id": "compact-logging",
   "metadata": {},
   "outputs": [
    {
     "data": {
      "text/plain": [
       "0.26398799975199755"
      ]
     },
     "execution_count": 153,
     "metadata": {},
     "output_type": "execute_result"
    }
   ],
   "source": [
    "#equivalent function\n",
    "np.mean(arr)"
   ]
  },
  {
   "cell_type": "code",
   "execution_count": 154,
   "id": "indie-schema",
   "metadata": {},
   "outputs": [
    {
     "data": {
      "text/plain": [
       "5.279759995039951"
      ]
     },
     "execution_count": 154,
     "metadata": {},
     "output_type": "execute_result"
    }
   ],
   "source": [
    "arr.sum()"
   ]
  },
  {
   "cell_type": "markdown",
   "id": "occasional-southeast",
   "metadata": {},
   "source": [
    "you can specify an optional axis, that computes the statistics for every set of elements along that axis"
   ]
  },
  {
   "cell_type": "code",
   "execution_count": 155,
   "id": "connected-march",
   "metadata": {},
   "outputs": [
    {
     "data": {
      "text/plain": [
       "array([ 0.7265042 ,  0.48749089, -0.0633828 , -0.11247002,  0.28179773])"
      ]
     },
     "execution_count": 155,
     "metadata": {},
     "output_type": "execute_result"
    }
   ],
   "source": [
    "#mean across the columns (left right)\n",
    "arr.mean(axis=1)"
   ]
  },
  {
   "cell_type": "code",
   "execution_count": 156,
   "id": "dress-thirty",
   "metadata": {},
   "outputs": [
    {
     "data": {
      "text/plain": [
       "array([ 0.81222442,  0.47885588,  0.44008996, -0.67521827])"
      ]
     },
     "execution_count": 156,
     "metadata": {},
     "output_type": "execute_result"
    }
   ],
   "source": [
    "#axis across the rows (up down)\n",
    "arr.mean(axis=0)"
   ]
  },
  {
   "cell_type": "code",
   "execution_count": 157,
   "id": "technical-charm",
   "metadata": {},
   "outputs": [],
   "source": [
    "arr3D = np.random.randn(5, 5, 5)"
   ]
  },
  {
   "cell_type": "code",
   "execution_count": 158,
   "id": "swiss-mixer",
   "metadata": {},
   "outputs": [
    {
     "data": {
      "text/plain": [
       "array([-0.16537386,  0.19451028,  0.14044683, -0.09350674,  0.191833  ])"
      ]
     },
     "execution_count": 158,
     "metadata": {},
     "output_type": "execute_result"
    }
   ],
   "source": [
    "#you can even pass a tuple of axes to perfrom statistics on\n",
    "#order doesn't matter, i'm just an idiot\n",
    "np.mean(arr3D, axis=(2, 0))"
   ]
  },
  {
   "cell_type": "markdown",
   "id": "bizarre-newton",
   "metadata": {},
   "source": [
    "some methods do not aggregate, instead, producing an array of intermediate values"
   ]
  },
  {
   "cell_type": "code",
   "execution_count": 159,
   "id": "nervous-assembly",
   "metadata": {},
   "outputs": [],
   "source": [
    "arr = np.arange(8)"
   ]
  },
  {
   "cell_type": "code",
   "execution_count": 160,
   "id": "armed-protein",
   "metadata": {},
   "outputs": [
    {
     "data": {
      "text/plain": [
       "array([0, 1, 2, 3, 4, 5, 6, 7])"
      ]
     },
     "execution_count": 160,
     "metadata": {},
     "output_type": "execute_result"
    }
   ],
   "source": [
    "arr"
   ]
  },
  {
   "cell_type": "code",
   "execution_count": 161,
   "id": "stupid-tract",
   "metadata": {},
   "outputs": [
    {
     "data": {
      "text/plain": [
       "array([ 0,  1,  3,  6, 10, 15, 21, 28], dtype=int32)"
      ]
     },
     "execution_count": 161,
     "metadata": {},
     "output_type": "execute_result"
    }
   ],
   "source": [
    "#cumulative sum\n",
    "arr.cumsum()"
   ]
  },
  {
   "cell_type": "code",
   "execution_count": 162,
   "id": "superior-radical",
   "metadata": {},
   "outputs": [
    {
     "data": {
      "text/plain": [
       "array([    1,     2,     6,    24,   120,   720,  5040, 40320],\n",
       "      dtype=int32)"
      ]
     },
     "execution_count": 162,
     "metadata": {},
     "output_type": "execute_result"
    }
   ],
   "source": [
    "#cumulative product\n",
    "(arr + 1).cumprod()"
   ]
  },
  {
   "cell_type": "markdown",
   "id": "charitable-companion",
   "metadata": {},
   "source": [
    "## Methods for Boolean Arrays\n",
    "boolean values are coerced to 1 (True) and 0 (False) in the previous methods. thus, *sum* is often used to count the number of true values in a boolean array"
   ]
  },
  {
   "cell_type": "code",
   "execution_count": 163,
   "id": "worst-louis",
   "metadata": {},
   "outputs": [],
   "source": [
    "arr = np.random.randn(100)"
   ]
  },
  {
   "cell_type": "code",
   "execution_count": 164,
   "id": "chinese-winner",
   "metadata": {},
   "outputs": [
    {
     "data": {
      "text/plain": [
       "49"
      ]
     },
     "execution_count": 164,
     "metadata": {},
     "output_type": "execute_result"
    }
   ],
   "source": [
    "(arr > 0).sum()"
   ]
  },
  {
   "cell_type": "markdown",
   "id": "starting-pipeline",
   "metadata": {},
   "source": [
    "two other methods, *any* and *all* test whether any values are true in the array, or all values are true in the array, respectively"
   ]
  },
  {
   "cell_type": "code",
   "execution_count": 165,
   "id": "liked-translator",
   "metadata": {},
   "outputs": [],
   "source": [
    "bools = np.array([False, False, True, True])"
   ]
  },
  {
   "cell_type": "code",
   "execution_count": 166,
   "id": "global-savannah",
   "metadata": {},
   "outputs": [
    {
     "data": {
      "text/plain": [
       "True"
      ]
     },
     "execution_count": 166,
     "metadata": {},
     "output_type": "execute_result"
    }
   ],
   "source": [
    "bools.any()"
   ]
  },
  {
   "cell_type": "code",
   "execution_count": 167,
   "id": "unauthorized-robertson",
   "metadata": {},
   "outputs": [
    {
     "data": {
      "text/plain": [
       "False"
      ]
     },
     "execution_count": 167,
     "metadata": {},
     "output_type": "execute_result"
    }
   ],
   "source": [
    "bools.all()"
   ]
  },
  {
   "cell_type": "markdown",
   "id": "stupid-paint",
   "metadata": {},
   "source": [
    "## Sorting\n",
    "like python, NumPy arrays can be sorted in place with *sort*"
   ]
  },
  {
   "cell_type": "code",
   "execution_count": 168,
   "id": "sublime-industry",
   "metadata": {},
   "outputs": [],
   "source": [
    "arr = np.random.randn(6)"
   ]
  },
  {
   "cell_type": "code",
   "execution_count": 169,
   "id": "talented-titanium",
   "metadata": {},
   "outputs": [
    {
     "data": {
      "text/plain": [
       "array([ 0.57321941,  1.4765344 ,  1.2178747 , -1.74636116, -0.31347046,\n",
       "       -0.11478116])"
      ]
     },
     "execution_count": 169,
     "metadata": {},
     "output_type": "execute_result"
    }
   ],
   "source": [
    "arr"
   ]
  },
  {
   "cell_type": "code",
   "execution_count": 170,
   "id": "entertaining-component",
   "metadata": {},
   "outputs": [],
   "source": [
    "arr.sort()"
   ]
  },
  {
   "cell_type": "code",
   "execution_count": 171,
   "id": "distributed-transport",
   "metadata": {},
   "outputs": [
    {
     "data": {
      "text/plain": [
       "array([-1.74636116, -0.31347046, -0.11478116,  0.57321941,  1.2178747 ,\n",
       "        1.4765344 ])"
      ]
     },
     "execution_count": 171,
     "metadata": {},
     "output_type": "execute_result"
    }
   ],
   "source": [
    "arr"
   ]
  },
  {
   "cell_type": "markdown",
   "id": "recorded-deputy",
   "metadata": {},
   "source": [
    "you can sort each 1-dimensioal section of values in a multidimensional array by specifying an axis"
   ]
  },
  {
   "cell_type": "code",
   "execution_count": 172,
   "id": "coral-latvia",
   "metadata": {},
   "outputs": [],
   "source": [
    "arr = np.random.randn(5, 5)"
   ]
  },
  {
   "cell_type": "code",
   "execution_count": 173,
   "id": "spiritual-albania",
   "metadata": {},
   "outputs": [
    {
     "data": {
      "text/plain": [
       "array([[-0.76479481,  0.63204146,  1.90791953,  2.04061213, -0.35378313],\n",
       "       [ 0.48991868,  0.01868157, -1.57104651,  0.74112246, -0.83952013],\n",
       "       [-1.97192172, -0.60761116,  0.50261542, -0.4885769 ,  0.69497155],\n",
       "       [-0.62325695,  1.19099088, -0.57016144, -1.02759202,  0.27183108],\n",
       "       [-0.11675785, -0.95142055, -0.64978314, -0.58467339, -0.54901386]])"
      ]
     },
     "execution_count": 173,
     "metadata": {},
     "output_type": "execute_result"
    }
   ],
   "source": [
    "arr"
   ]
  },
  {
   "cell_type": "code",
   "execution_count": 174,
   "id": "addressed-mandate",
   "metadata": {},
   "outputs": [],
   "source": [
    "#default axis is 0 (across rows)\n",
    "arr.sort(axis=0)"
   ]
  },
  {
   "cell_type": "code",
   "execution_count": 175,
   "id": "fifteen-cathedral",
   "metadata": {},
   "outputs": [
    {
     "data": {
      "text/plain": [
       "array([[-1.97192172, -0.95142055, -1.57104651, -1.02759202, -0.83952013],\n",
       "       [-0.76479481, -0.60761116, -0.64978314, -0.58467339, -0.54901386],\n",
       "       [-0.62325695,  0.01868157, -0.57016144, -0.4885769 , -0.35378313],\n",
       "       [-0.11675785,  0.63204146,  0.50261542,  0.74112246,  0.27183108],\n",
       "       [ 0.48991868,  1.19099088,  1.90791953,  2.04061213,  0.69497155]])"
      ]
     },
     "execution_count": 175,
     "metadata": {},
     "output_type": "execute_result"
    }
   ],
   "source": [
    "arr"
   ]
  },
  {
   "cell_type": "code",
   "execution_count": 176,
   "id": "attached-aberdeen",
   "metadata": {},
   "outputs": [],
   "source": [
    "arr.sort(axis = 1)"
   ]
  },
  {
   "cell_type": "code",
   "execution_count": 177,
   "id": "monthly-copying",
   "metadata": {},
   "outputs": [
    {
     "data": {
      "text/plain": [
       "array([[-1.97192172, -1.57104651, -1.02759202, -0.95142055, -0.83952013],\n",
       "       [-0.76479481, -0.64978314, -0.60761116, -0.58467339, -0.54901386],\n",
       "       [-0.62325695, -0.57016144, -0.4885769 , -0.35378313,  0.01868157],\n",
       "       [-0.11675785,  0.27183108,  0.50261542,  0.63204146,  0.74112246],\n",
       "       [ 0.48991868,  0.69497155,  1.19099088,  1.90791953,  2.04061213]])"
      ]
     },
     "execution_count": 177,
     "metadata": {},
     "output_type": "execute_result"
    }
   ],
   "source": [
    "arr"
   ]
  },
  {
   "cell_type": "code",
   "execution_count": 178,
   "id": "characteristic-poker",
   "metadata": {},
   "outputs": [],
   "source": [
    "flat = arr.flatten()\n",
    "\n",
    "flat.sort()"
   ]
  },
  {
   "cell_type": "code",
   "execution_count": 179,
   "id": "designed-olive",
   "metadata": {},
   "outputs": [
    {
     "data": {
      "text/plain": [
       "array([[-1.97192172, -0.76479481, -0.57016144,  0.01868157,  0.69497155],\n",
       "       [-1.57104651, -0.64978314, -0.54901386,  0.27183108,  0.74112246],\n",
       "       [-1.02759202, -0.62325695, -0.4885769 ,  0.48991868,  1.19099088],\n",
       "       [-0.95142055, -0.60761116, -0.35378313,  0.50261542,  1.90791953],\n",
       "       [-0.83952013, -0.58467339, -0.11675785,  0.63204146,  2.04061213]])"
      ]
     },
     "execution_count": 179,
     "metadata": {},
     "output_type": "execute_result"
    }
   ],
   "source": [
    "flat.reshape(5, 5).T"
   ]
  },
  {
   "cell_type": "markdown",
   "id": "unusual-poster",
   "metadata": {},
   "source": [
    "the top-level np.sort returns a sorted copy of an array instead of in-place.\n",
    "\n",
    "a quick and dirty way to check quantiles is to sort it and see the value at a particular rank"
   ]
  },
  {
   "cell_type": "code",
   "execution_count": 180,
   "id": "suspected-baker",
   "metadata": {},
   "outputs": [],
   "source": [
    "large_arr = np.random.randn(1000)\n",
    "large_arr.sort()"
   ]
  },
  {
   "cell_type": "code",
   "execution_count": 181,
   "id": "accepted-elimination",
   "metadata": {},
   "outputs": [
    {
     "data": {
      "text/plain": [
       "-1.6270036821371587"
      ]
     },
     "execution_count": 181,
     "metadata": {},
     "output_type": "execute_result"
    }
   ],
   "source": [
    "large_arr[int(0.05 * len(large_arr))] # 5th quantile"
   ]
  },
  {
   "cell_type": "code",
   "execution_count": 182,
   "id": "residential-straight",
   "metadata": {},
   "outputs": [
    {
     "data": {
      "text/plain": [
       "-1.6277586229044507"
      ]
     },
     "execution_count": 182,
     "metadata": {},
     "output_type": "execute_result"
    }
   ],
   "source": [
    "np.quantile(large_arr, 0.05) # built in function for it"
   ]
  },
  {
   "cell_type": "markdown",
   "id": "legendary-venezuela",
   "metadata": {},
   "source": [
    "## Unique and Other Set Logic\n",
    "NumPy has some basic set operations for one-dimensional ndarrays. a common one is *ndarray*"
   ]
  },
  {
   "cell_type": "code",
   "execution_count": 183,
   "id": "defined-space",
   "metadata": {},
   "outputs": [],
   "source": [
    "names = np.array(['Bob', 'Joe', 'Will', 'Bob', 'Will', 'Joe', 'Joe'])"
   ]
  },
  {
   "cell_type": "code",
   "execution_count": 184,
   "id": "involved-birthday",
   "metadata": {},
   "outputs": [
    {
     "data": {
      "text/plain": [
       "array(['Bob', 'Joe', 'Will'], dtype='<U4')"
      ]
     },
     "execution_count": 184,
     "metadata": {},
     "output_type": "execute_result"
    }
   ],
   "source": [
    "np.unique(names)"
   ]
  },
  {
   "cell_type": "code",
   "execution_count": 185,
   "id": "bored-adult",
   "metadata": {},
   "outputs": [],
   "source": [
    "ints = np.array([3, 3, 2, 2, 1, 1, 4, 4])"
   ]
  },
  {
   "cell_type": "code",
   "execution_count": 186,
   "id": "heated-rochester",
   "metadata": {},
   "outputs": [
    {
     "data": {
      "text/plain": [
       "array([1, 2, 3, 4])"
      ]
     },
     "execution_count": 186,
     "metadata": {},
     "output_type": "execute_result"
    }
   ],
   "source": [
    "np.unique(ints)"
   ]
  },
  {
   "cell_type": "code",
   "execution_count": 187,
   "id": "utility-times",
   "metadata": {},
   "outputs": [
    {
     "data": {
      "text/plain": [
       "['Bob', 'Joe', 'Will']"
      ]
     },
     "execution_count": 187,
     "metadata": {},
     "output_type": "execute_result"
    }
   ],
   "source": [
    "#a built in python way to do this would be\n",
    "sorted(set(names))"
   ]
  },
  {
   "cell_type": "markdown",
   "id": "coordinate-female",
   "metadata": {},
   "source": [
    "another function, *np.in1d* tests membership of the values in one array in another, returning a boolean array"
   ]
  },
  {
   "cell_type": "code",
   "execution_count": 188,
   "id": "separated-destination",
   "metadata": {},
   "outputs": [
    {
     "data": {
      "text/plain": [
       "array([ True,  True, False, False,  True,  True, False, False])"
      ]
     },
     "execution_count": 188,
     "metadata": {},
     "output_type": "execute_result"
    }
   ],
   "source": [
    "#returns a boolean array of length ints, true if the elements are equal to one of the values contained in the second parameter\n",
    "np.in1d(ints, [1, 3, 5])"
   ]
  },
  {
   "cell_type": "markdown",
   "id": "atlantic-junior",
   "metadata": {},
   "source": [
    "## File IO and Output with Arrays\n",
    "NumPy is able to save and load data to and from disk, either in text or binary format. *np.save* and *np.load* are the two main functions for efficiently saving and loading array data on disk. arrays are saved by defalt in an uncompressed, raw binary format. with the file extension *.npy*"
   ]
  },
  {
   "cell_type": "code",
   "execution_count": 189,
   "id": "therapeutic-large",
   "metadata": {},
   "outputs": [],
   "source": [
    "arr = (np.arange(25) + 1).reshape(5, 5)"
   ]
  },
  {
   "cell_type": "code",
   "execution_count": 190,
   "id": "curious-reggae",
   "metadata": {},
   "outputs": [
    {
     "data": {
      "text/plain": [
       "array([[ 1,  2,  3,  4,  5],\n",
       "       [ 6,  7,  8,  9, 10],\n",
       "       [11, 12, 13, 14, 15],\n",
       "       [16, 17, 18, 19, 20],\n",
       "       [21, 22, 23, 24, 25]])"
      ]
     },
     "execution_count": 190,
     "metadata": {},
     "output_type": "execute_result"
    }
   ],
   "source": [
    "arr"
   ]
  },
  {
   "cell_type": "code",
   "execution_count": 191,
   "id": "active-balance",
   "metadata": {},
   "outputs": [],
   "source": [
    "#now a RAW datas structure, though the values themselves are raw. preserves shape, as well as most other ndarray properties\n",
    "np.save('some_array', arr)"
   ]
  },
  {
   "cell_type": "markdown",
   "id": "communist-cathedral",
   "metadata": {},
   "source": [
    "if a path doesn't end in *.npy* then it will be appended (above)"
   ]
  },
  {
   "cell_type": "code",
   "execution_count": 192,
   "id": "electoral-blade",
   "metadata": {},
   "outputs": [
    {
     "data": {
      "text/plain": [
       "array([[ 1,  2,  3,  4,  5],\n",
       "       [ 6,  7,  8,  9, 10],\n",
       "       [11, 12, 13, 14, 15],\n",
       "       [16, 17, 18, 19, 20],\n",
       "       [21, 22, 23, 24, 25]])"
      ]
     },
     "execution_count": 192,
     "metadata": {},
     "output_type": "execute_result"
    }
   ],
   "source": [
    "np.load('some_array.npy')"
   ]
  },
  {
   "cell_type": "markdown",
   "id": "acting-terminal",
   "metadata": {},
   "source": [
    "you can save multiple arrays in an uncompressed archive using *np.savez*, and passing the arrays as keyword arguments"
   ]
  },
  {
   "cell_type": "code",
   "execution_count": 193,
   "id": "light-juvenile",
   "metadata": {},
   "outputs": [],
   "source": [
    "np.savez('array_archive.npz', a=arr, b=arr)"
   ]
  },
  {
   "cell_type": "markdown",
   "id": "leading-lithuania",
   "metadata": {},
   "source": [
    "if your data compresses well, then you may want to use *numpy.savez_compressed* instead:"
   ]
  },
  {
   "cell_type": "code",
   "execution_count": 194,
   "id": "viral-cleaning",
   "metadata": {},
   "outputs": [],
   "source": [
    "np.savez('arrays_compressed.npz', a=arr, b=arr)"
   ]
  },
  {
   "cell_type": "markdown",
   "id": "unable-barcelona",
   "metadata": {},
   "source": [
    "## Linear Algebra\n",
    "linear algebra, like matrix multiplication, decompositions, determinants, and other square matrix math, is an important part of NumPy.\n",
    "\n",
    "unlike languages such as MATLAB, the \\* operator performs *element wise* multiplication instead of the dot product. to calculate the dot product, use *numpy.dot*\n",
    "\n",
    "from Numpy.org:\n",
    "* If both a and b are 1-D arrays, it is inner product of vectors (without complex conjugation).\n",
    "* If both a and b are 2-D arrays, it is matrix multiplication, but using matmul or a @ b is preferred.\n",
    "* If either a or b is 0-D (scalar), it is equivalent to multiply and using numpy.multiply(a, b) or a * b is preferred."
   ]
  },
  {
   "cell_type": "code",
   "execution_count": 195,
   "id": "freelance-gathering",
   "metadata": {},
   "outputs": [],
   "source": [
    "x = np.array([[1., 2., 3.], [4., 5., 6.]])\n",
    "y = np.array([[6., 23.], [-1., 7.], [8., 9.]])"
   ]
  },
  {
   "cell_type": "code",
   "execution_count": 196,
   "id": "governmental-graph",
   "metadata": {},
   "outputs": [
    {
     "data": {
      "text/plain": [
       "array([[1., 2., 3.],\n",
       "       [4., 5., 6.]])"
      ]
     },
     "execution_count": 196,
     "metadata": {},
     "output_type": "execute_result"
    }
   ],
   "source": [
    "x"
   ]
  },
  {
   "cell_type": "code",
   "execution_count": 197,
   "id": "plain-armenia",
   "metadata": {},
   "outputs": [
    {
     "data": {
      "text/plain": [
       "array([[ 6., 23.],\n",
       "       [-1.,  7.],\n",
       "       [ 8.,  9.]])"
      ]
     },
     "execution_count": 197,
     "metadata": {},
     "output_type": "execute_result"
    }
   ],
   "source": [
    "y"
   ]
  },
  {
   "cell_type": "code",
   "execution_count": 198,
   "id": "polished-circulation",
   "metadata": {},
   "outputs": [
    {
     "data": {
      "text/plain": [
       "array([[ 28.,  64.],\n",
       "       [ 67., 181.]])"
      ]
     },
     "execution_count": 198,
     "metadata": {},
     "output_type": "execute_result"
    }
   ],
   "source": [
    "x.dot(y)"
   ]
  },
  {
   "cell_type": "markdown",
   "id": "encouraging-course",
   "metadata": {},
   "source": [
    "the @ symbol also works as an infix operator that performs matrix multiplication"
   ]
  },
  {
   "cell_type": "code",
   "execution_count": 199,
   "id": "sudden-marketing",
   "metadata": {},
   "outputs": [
    {
     "data": {
      "text/plain": [
       "array([[ 28.,  64.],\n",
       "       [ 67., 181.]])"
      ]
     },
     "execution_count": 199,
     "metadata": {},
     "output_type": "execute_result"
    }
   ],
   "source": [
    "x @ y"
   ]
  },
  {
   "cell_type": "markdown",
   "id": "severe-plaintiff",
   "metadata": {},
   "source": [
    "*np.linalg* has a standard set of matrix decompositions and things like inverse and determinant. under the hood they are implemented by industry standard libraries like **BLAS**, **LAPACK**, or possibly Intel **MKL**."
   ]
  },
  {
   "cell_type": "code",
   "execution_count": 200,
   "id": "collaborative-speaker",
   "metadata": {},
   "outputs": [],
   "source": [
    "from numpy.linalg import inv, qr"
   ]
  },
  {
   "cell_type": "code",
   "execution_count": 201,
   "id": "innovative-title",
   "metadata": {},
   "outputs": [],
   "source": [
    "x = np.random.randn(5, 5)\n",
    "mat = x.T.dot(x)"
   ]
  },
  {
   "cell_type": "code",
   "execution_count": 202,
   "id": "centered-watson",
   "metadata": {},
   "outputs": [
    {
     "data": {
      "text/plain": [
       "array([[ 3.24777687,  4.2381959 , -0.17869687,  1.24183392,  0.02590422],\n",
       "       [ 4.2381959 , 11.44106448, -0.8242099 , -2.31859777, -1.09550622],\n",
       "       [-0.17869687, -0.8242099 ,  6.49742185, -0.27884506, -2.53519361],\n",
       "       [ 1.24183392, -2.31859777, -0.27884506,  3.51532797,  0.4304137 ],\n",
       "       [ 0.02590422, -1.09550622, -2.53519361,  0.4304137 ,  4.20604531]])"
      ]
     },
     "execution_count": 202,
     "metadata": {},
     "output_type": "execute_result"
    }
   ],
   "source": [
    "mat"
   ]
  },
  {
   "cell_type": "code",
   "execution_count": 203,
   "id": "painted-sarah",
   "metadata": {},
   "outputs": [
    {
     "data": {
      "text/plain": [
       "array([[ 7.7934352 , -4.17690637, -1.01329706, -5.44279364, -1.18970689],\n",
       "       [-4.17690637,  2.34612126,  0.57546052,  2.98558839,  0.67813241],\n",
       "       [-1.01329706,  0.57546052,  0.34274114,  0.72943163,  0.288068  ],\n",
       "       [-5.44279364,  2.98558839,  0.72943163,  4.13289751,  0.82788378],\n",
       "       [-1.18970689,  0.67813241,  0.288068  ,  0.82788378,  0.51062035]])"
      ]
     },
     "execution_count": 203,
     "metadata": {},
     "output_type": "execute_result"
    }
   ],
   "source": [
    "inv(mat)"
   ]
  },
  {
   "cell_type": "code",
   "execution_count": 204,
   "id": "caring-browse",
   "metadata": {},
   "outputs": [],
   "source": [
    "#qr factorization of a matrix\n",
    "q, r = qr(mat)"
   ]
  },
  {
   "cell_type": "code",
   "execution_count": 205,
   "id": "certified-display",
   "metadata": {},
   "outputs": [
    {
     "data": {
      "text/plain": [
       "array([[-0.59212085,  0.3521939 , -0.05418659,  0.18730022, -0.69809369],\n",
       "       [-0.77268983, -0.4933778 , -0.00676025, -0.03388569,  0.3979131 ],\n",
       "       [ 0.03257925,  0.07591556, -0.92792781,  0.32179747,  0.16903193],\n",
       "       [-0.22640587,  0.7697977 ,  0.02358373, -0.34584634,  0.48578389],\n",
       "       [-0.00472275,  0.18489491,  0.36798356,  0.86058531,  0.29962073]])"
      ]
     },
     "execution_count": 205,
     "metadata": {},
     "output_type": "execute_result"
    }
   ],
   "source": [
    "q"
   ]
  },
  {
   "cell_type": "code",
   "execution_count": 206,
   "id": "cutting-australian",
   "metadata": {},
   "outputs": [
    {
     "data": {
      "text/plain": [
       "array([[ -5.4849899 , -10.84665249,   1.02945513,   0.24923297,\n",
       "          0.63124108],\n",
       "       [  0.        ,  -6.20207563,   0.15356767,   4.34581501,\n",
       "          1.46616896],\n",
       "       [  0.        ,   0.        ,  -6.95336936,   0.44842136,\n",
       "          3.91638518],\n",
       "       [  0.        ,   0.        ,   0.        ,  -0.6239242 ,\n",
       "          2.69695879],\n",
       "       [  0.        ,   0.        ,   0.        ,   0.        ,\n",
       "          0.58677788]])"
      ]
     },
     "execution_count": 206,
     "metadata": {},
     "output_type": "execute_result"
    }
   ],
   "source": [
    "r"
   ]
  },
  {
   "cell_type": "markdown",
   "id": "suspected-effect",
   "metadata": {},
   "source": [
    "## Pseudorandom Number Generation\n",
    "*numpy.random* suppliments pythons *random* with functions for efficiently generating entire arrays of sample values, from many kidns of distributions"
   ]
  },
  {
   "cell_type": "code",
   "execution_count": 207,
   "id": "distributed-soldier",
   "metadata": {},
   "outputs": [],
   "source": [
    "#normal distribution\n",
    "samples = np.random.normal(size=(4, 4))"
   ]
  },
  {
   "cell_type": "code",
   "execution_count": 208,
   "id": "broad-midnight",
   "metadata": {},
   "outputs": [
    {
     "data": {
      "text/plain": [
       "array([[-1.00202596, -0.00858151,  2.28535233, -1.65617687],\n",
       "       [ 1.70028676, -1.20034678, -1.67761604,  0.12413548],\n",
       "       [ 1.26758593, -0.82036237,  1.4432075 , -0.35165809],\n",
       "       [ 1.2399525 , -0.03176116,  0.07958338, -0.17556085]])"
      ]
     },
     "execution_count": 208,
     "metadata": {},
     "output_type": "execute_result"
    }
   ],
   "source": [
    "samples"
   ]
  },
  {
   "cell_type": "markdown",
   "id": "possible-blood",
   "metadata": {},
   "source": [
    "you can change NumPys random number generations **Seed** using *np.random.seed(val)*"
   ]
  },
  {
   "cell_type": "code",
   "execution_count": 209,
   "id": "associate-laser",
   "metadata": {},
   "outputs": [],
   "source": [
    "np.random.seed(1234)"
   ]
  },
  {
   "cell_type": "markdown",
   "id": "subjective-istanbul",
   "metadata": {},
   "source": [
    "the data generation algorithms in *numpy.random* use a global random seed. to Avoid global state, you can use *numpy.random.RandomState* to create a generator isolated from others"
   ]
  },
  {
   "cell_type": "code",
   "execution_count": 210,
   "id": "secure-savings",
   "metadata": {},
   "outputs": [
    {
     "data": {
      "text/plain": [
       "array([ 0.47143516, -1.19097569,  1.43270697, -0.3126519 , -0.72058873,\n",
       "        0.88716294,  0.85958841, -0.6365235 ,  0.01569637, -2.24268495])"
      ]
     },
     "execution_count": 210,
     "metadata": {},
     "output_type": "execute_result"
    }
   ],
   "source": [
    "rng = np.random.RandomState(1234)\n",
    "rng.randn(10)"
   ]
  },
  {
   "cell_type": "code",
   "execution_count": null,
   "id": "differential-overall",
   "metadata": {},
   "outputs": [],
   "source": []
  }
 ],
 "metadata": {
  "kernelspec": {
   "display_name": "Python 3",
   "language": "python",
   "name": "python3"
  },
  "language_info": {
   "codemirror_mode": {
    "name": "ipython",
    "version": 3
   },
   "file_extension": ".py",
   "mimetype": "text/x-python",
   "name": "python",
   "nbconvert_exporter": "python",
   "pygments_lexer": "ipython3",
   "version": "3.8.11"
  }
 },
 "nbformat": 4,
 "nbformat_minor": 5
}
