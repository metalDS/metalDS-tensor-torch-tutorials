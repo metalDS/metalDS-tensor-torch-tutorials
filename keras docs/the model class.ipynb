{
 "cells": [
  {
   "cell_type": "markdown",
   "id": "5c075031-8273-45e4-8f30-cf617e5db940",
   "metadata": {},
   "source": [
    "<h1>the model class</h1>\n",
    "\n",
    "<p>the **model** class groups layers into an object with training and inference features</p>\n",
    "\n",
    "<br>\n",
    "\n",
    "<b>the model class supports the follwoing arguments</b>\n",
    "<ul>\n",
    "    <li><b>inputs</b>: the input(s) of the model, a <b>keras.Input</b> object, or a list of <b>keras.Input</b> objects\n",
    "    <li><b>outputs</b>: the outputs of the model\n",
    "    <li><b>name</b>: the string name of th emodel\n",
    "</ul>\n",
    "\n",
    "<br>\n",
    "\n",
    "<b>there are two ways to instantiate a model</b>\n",
    "<ol>\n",
    "    <li>with the \"Functional API\" where you start from <b>Input</b>, you can chain layer calls to specify the model's forward pass, and finally you can create your model from inptus and outputs.\n",
    "       \n",
    "    <li>by subclassing the <b>Model</b> class. in whcih yuou define your layers in __init__ and you should implement the forwardpass in <b>call</b>\n"
   ]
  },
  {
   "cell_type": "code",
   "execution_count": 1,
   "id": "49d3633c-7d5a-4e1e-a184-6f5a87cc49fd",
   "metadata": {},
   "outputs": [],
   "source": [
    "import tensorflow as tf"
   ]
  },
  {
   "cell_type": "code",
   "execution_count": 2,
   "id": "9a03472d-8a2e-4f21-bf7c-a0ea76e80125",
   "metadata": {},
   "outputs": [],
   "source": [
    "#input will be batches of 3-dimensional vectors\n",
    "inputs = tf.keras.Input(shape=(3,))\n",
    "\n",
    "x = tf.keras.layers.Dense(4, activation=tf.nn.relu)(inputs)\n",
    "outputs = tf.keras.layers.Dense(5, activation=tf.nn.softmax)(x)\n",
    "model = tf.keras.Model(inputs=inputs, outputs=outputs)"
   ]
  },
  {
   "cell_type": "code",
   "execution_count": 7,
   "id": "3204f93b-9a4f-43f3-ba0f-097bf7ac1b4a",
   "metadata": {},
   "outputs": [
    {
     "name": "stdout",
     "output_type": "stream",
     "text": [
      "[<tensorflow.python.keras.engine.input_layer.InputLayer object at 0x0000024E617DB820>, <tensorflow.python.keras.layers.core.Dense object at 0x0000024E617DB7C0>, <tensorflow.python.keras.layers.core.Dense object at 0x0000024E618014F0>]\n",
      "Model: \"functional_1\"\n",
      "_________________________________________________________________\n",
      "Layer (type)                 Output Shape              Param #   \n",
      "=================================================================\n",
      "input_1 (InputLayer)         [(None, 3)]               0         \n",
      "_________________________________________________________________\n",
      "dense (Dense)                (None, 4)                 16        \n",
      "_________________________________________________________________\n",
      "dense_1 (Dense)              (None, 5)                 25        \n",
      "=================================================================\n",
      "Total params: 41\n",
      "Trainable params: 41\n",
      "Non-trainable params: 0\n",
      "_________________________________________________________________\n"
     ]
    }
   ],
   "source": [
    "print(model.layers)\n",
    "#string summary of the network\n",
    "model.summary(line_length=None, positions=None, print_fn=None)"
   ]
  },
  {
   "cell_type": "code",
   "execution_count": null,
   "id": "edcc46b4-a20f-4cb6-a9ca-b0b6705691ce",
   "metadata": {},
   "outputs": [],
   "source": []
  }
 ],
 "metadata": {
  "kernelspec": {
   "display_name": "Python 3",
   "language": "python",
   "name": "python3"
  },
  "language_info": {
   "codemirror_mode": {
    "name": "ipython",
    "version": 3
   },
   "file_extension": ".py",
   "mimetype": "text/x-python",
   "name": "python",
   "nbconvert_exporter": "python",
   "pygments_lexer": "ipython3",
   "version": "3.8.11"
  }
 },
 "nbformat": 4,
 "nbformat_minor": 5
}
